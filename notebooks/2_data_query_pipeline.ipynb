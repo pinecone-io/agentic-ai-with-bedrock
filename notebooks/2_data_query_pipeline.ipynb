{
 "cells": [
  {
   "attachments": {},
   "cell_type": "markdown",
   "metadata": {},
   "source": [
    "[![Open nbviewer](https://raw.githubusercontent.com/pinecone-io/examples/master/assets/nbviewer-shield.svg)](https://nbviewer.org/github/pinecone-io/examples/blob/master/learn/generation/aws/sagemaker/sagemaker-pinecone-rag.ipynb)"
   ]
  },
  {
   "attachments": {},
   "cell_type": "markdown",
   "metadata": {},
   "source": [
    "# Module 02 - Query data and generate a simple RAG response\n"
   ]
  },
  {
   "attachments": {},
   "cell_type": "markdown",
   "metadata": {},
   "source": [
    "This module contains notebook code to:\n",
    "* Query the data from Pinecone Index\n",
    "* Perform semantic search\n",
    "* Generate RAG response using Amazon Bedrock \n"
   ]
  },
  {
   "cell_type": "markdown",
   "metadata": {},
   "source": [
    "*******************************************************************************************************************"
   ]
  },
  {
   "attachments": {},
   "cell_type": "markdown",
   "metadata": {},
   "source": [
    "### Install required libraries"
   ]
  },
  {
   "cell_type": "code",
   "execution_count": 68,
   "metadata": {
    "collapsed": false,
    "jupyter": {
     "outputs_hidden": false
    },
    "pycharm": {
     "name": "#%%\n"
    },
    "tags": []
   },
   "outputs": [
    {
     "name": "stdout",
     "output_type": "stream",
     "text": [
      "Note: you may need to restart the kernel to use updated packages.\n"
     ]
    }
   ],
   "source": [
    "%pip install --quiet --upgrade \\\n",
    "    pinecone \\\n",
    "    boto3 \\\n",
    "    botocore"
   ]
  },
  {
   "attachments": {},
   "cell_type": "markdown",
   "metadata": {},
   "source": [
    "To begin, we will initialize Amazon Bedrock and Pinecone that we'll need to use throughout the walkthrough."
   ]
  },
  {
   "cell_type": "code",
   "execution_count": 69,
   "metadata": {},
   "outputs": [],
   "source": [
    "# Standard library imports\n",
    "import getpass\n",
    "import json\n",
    "import getpass\n",
    "\n",
    "# Pinecone library\n",
    "from pinecone import Pinecone\n",
    "\n",
    "# AWS Library imports\n",
    "import boto3\n",
    "from botocore.config import Config"
   ]
  },
  {
   "cell_type": "markdown",
   "metadata": {},
   "source": [
    "### Initialize Pinecone"
   ]
  },
  {
   "cell_type": "code",
   "execution_count": null,
   "metadata": {},
   "outputs": [],
   "source": [
    "PINECONE_API_KEY = getpass.getpass(\"Enter Pinecone API Key\")\n",
    "pc = Pinecone(api_key=PINECONE_API_KEY, source_tag=\"pinecone:agentic_ai_with_pinecone_and_aws:notebooks:2_data_query_pipeline\")"
   ]
  },
  {
   "cell_type": "code",
   "execution_count": null,
   "metadata": {},
   "outputs": [],
   "source": [
    "index_name = 'agentic-ai-with-pinecone-and-aws'\n",
    "namespace = '__default__' # Namespaces are used to organize data in Pinecone, like for multi-tenant applications. We'll use the default namespace for this workshop."
   ]
  },
  {
   "cell_type": "markdown",
   "metadata": {},
   "source": [
    "### Initialize Bedrock"
   ]
  },
  {
   "cell_type": "markdown",
   "metadata": {},
   "source": [
    "If you're running this workshop as part of a Pinecone-hosted event, your environment already has access to `AWS_ACCESS_KEY_ID` and `AWS_SECRET_ACCESS_KEY`, so there is no need to set these up. The Bedrock initialization code below will automatically reference them."
   ]
  },
  {
   "cell_type": "code",
   "execution_count": 72,
   "metadata": {},
   "outputs": [],
   "source": [
    "config = Config(connect_timeout=5, read_timeout=60, retries={\"total_max_attempts\": 20, \"mode\": \"adaptive\"})\n",
    "region = 'us-east-1'\n",
    "\n",
    "bedrock = boto3.client(\n",
    "                service_name='bedrock-runtime',\n",
    "                region_name=region,\n",
    "                endpoint_url=f'https://bedrock-runtime.{region}.amazonaws.com',\n",
    "                                    config=config)\n",
    "\n",
    "embedding_model_id = \"amazon.titan-embed-text-v2:0\"\n",
    "generation_model_id = \"anthropic.claude-3-haiku-20240307-v1:0\""
   ]
  },
  {
   "cell_type": "markdown",
   "metadata": {},
   "source": [
    "### Initialize Pinecone Index and describe stats"
   ]
  },
  {
   "cell_type": "code",
   "execution_count": 74,
   "metadata": {},
   "outputs": [
    {
     "name": "stdout",
     "output_type": "stream",
     "text": [
      "{'dimension': 1024,\n",
      " 'index_fullness': 0.0,\n",
      " 'metric': 'cosine',\n",
      " 'namespaces': {'agentic-rag': {'vector_count': 880}},\n",
      " 'total_vector_count': 880,\n",
      " 'vector_type': 'dense'}\n"
     ]
    }
   ],
   "source": [
    "index = pc.Index(index_name)\n",
    "print(index.describe_index_stats())"
   ]
  },
  {
   "attachments": {},
   "cell_type": "markdown",
   "metadata": {},
   "source": [
    "### Query the data\n",
    "\n",
    "Now we're ready begin querying our LLM with a **R**etrieval **A**ugmented **G**eneration (RAG) pipeline. Let's see how this will work step-by-step first."
   ]
  },
  {
   "cell_type": "markdown",
   "metadata": {},
   "source": [
    "- Step 1. Generate vector embedding of the text query using Amazon Bedrock\n",
    "- Step 2. Perform semantic search, retrieving the records that are most similar in meaning and context to the query\n",
    "- Step 3. Rerank the results to further refine them\n",
    "- Step 4. Results are combined with the original user query to create a prompt for the LLM\n",
    "- Step 5. This curated context is then used to generate output, using the context to drive a more accurate and relevant response"
   ]
  },
  {
   "cell_type": "markdown",
   "metadata": {},
   "source": [
    "TODO: IMAGE"
   ]
  },
  {
   "attachments": {},
   "cell_type": "markdown",
   "metadata": {},
   "source": [
    "#### Step 1: Generate vector embedding of the query\n",
    "\n",
    "First, we define a function to create our _query embedding_ so we can query the Pinecone index."
   ]
  },
  {
   "cell_type": "code",
   "execution_count": 75,
   "metadata": {},
   "outputs": [],
   "source": [
    "def embed_query(query: str) -> float:\n",
    "    \"\"\"\n",
    "    Generate text embedding by using Amazon Bedrock.\n",
    "    Args:\n",
    "        query: string of text to embed.\n",
    "    Returns:\n",
    "        dict: embedding in float type.\n",
    "    \"\"\"\n",
    "\n",
    "    body = json.dumps({\"inputText\": query})\n",
    "\n",
    "    response = bedrock.invoke_model(\n",
    "        body=body,\n",
    "        modelId=embedding_model_id,\n",
    "    )\n",
    "\n",
    "    response_body = json.loads(response.get('body').read())\n",
    "    embedding = response_body.get('embedding')\n",
    "\n",
    "    return embedding"
   ]
  },
  {
   "cell_type": "markdown",
   "metadata": {},
   "source": [
    "#### Step 2: Perform semantic search\n",
    "\n",
    "Next, we define a function to perform semantic search against the Pinecone index. This function will use the query embedding to retrieve the records that are most similar in meaning and context to the query."
   ]
  },
  {
   "cell_type": "code",
   "execution_count": 76,
   "metadata": {},
   "outputs": [],
   "source": [
    "def semantic_search(query: list) -> list:\n",
    "    \"\"\"\n",
    "    Query the Pinecone index with an optional rerank.\n",
    "\n",
    "    Args:\n",
    "        query (str): The query string.\n",
    "\n",
    "    Returns:\n",
    "        list: A list of hit records from the index.\n",
    "    \"\"\"\n",
    "    query_embedding = embed_query(query)\n",
    "\n",
    "    search_results = index.query(\n",
    "        namespace=namespace,\n",
    "        vector=query_embedding,\n",
    "        fields=[\"chunk_text\"],\n",
    "        top_k=20\n",
    "    )\n",
    "\n",
    "    document_ids = []\n",
    "    \n",
    "    for result in search_results['matches']:\n",
    "        document_ids.append(result['id'])\n",
    "\n",
    "    fetch_results = index.fetch(ids=document_ids, namespace=namespace)\n",
    "\n",
    "    documents_retrieved = []\n",
    "\n",
    "    for document_id in document_ids:\n",
    "        text = fetch_results.vectors[document_id]['metadata']['chunk_text']\n",
    "        documents_retrieved.append({\"id\": document_id, \"text\": text})\n",
    "\n",
    "    return documents_retrieved"
   ]
  },
  {
   "cell_type": "markdown",
   "metadata": {},
   "source": [
    "Now, we can query the database with the text query."
   ]
  },
  {
   "cell_type": "code",
   "execution_count": 77,
   "metadata": {},
   "outputs": [],
   "source": [
    "query = \"Changes in Compaq's product offerings and their impacts on sales\"\n",
    "\n",
    "documents_retrieved = semantic_search(query)"
   ]
  },
  {
   "cell_type": "markdown",
   "metadata": {},
   "source": [
    "And let's inspect the first three records retrieved:"
   ]
  },
  {
   "cell_type": "code",
   "execution_count": 78,
   "metadata": {},
   "outputs": [
    {
     "data": {
      "text/plain": [
       "[{'id': 'compaq_1999#text46',\n",
       "  'text': \"ts, which is related to\\ncomponent costs, is a critical variable in predicting customer decisions to move\\nto  the  next  generation of products. Because of the lead times associated with\\nits  volume  production,  should  Compaq  be unable to gauge the rate of product\\ntransitions  accurately,  there  could be an adverse impact on inventory levels,\\ncash,  and  profitability.  In  addition,  as a result of the Tandem and Digital\\nacquisitions,  Compaq  is  engaged  in  direct  sales  of  computer systems with\\nsoftware  developed  to meet customers' specific needs.  The long-term nature of\\nsuch  contracts  exposes Compaq to risks associated with changing customer needs\\nand  expectations.\\n\\n     Product  Transitions.  In  each product cycle, Compaq confronts the risk of\\ndelays  in production that could impact sales of newer products while it manages\\nthe inventory of older products and facilitates the sale of older inventory held\\nby  resellers.  To  ease product transitions, Compaq carries out pricing actions\\nand marketing programs to increase sales by resellers. It provides currently for\\nestimated  product  returns  and  price protection that may occur under reseller\\nprograms  and  under  floor  planning  arrangements  with  third-party  finance\\ncompanies.  Should  Compaq  be unable to sell the inventory of older products at\\nanticipated prices, should it not anticipate pricing actions that are necessary,\\nor  if  dealers  hold higher than expected amounts of inventory subject to price\"},\n",
       " {'id': 'compaq_1997#text14',\n",
       "  'text': \"aq pursues an active patent portfolio development plan.\\n\\nSeasonality\\n\\n        General economic conditions have an impact on Compaq's business and\\nfinancial results. From time to time, the markets in which Compaq sells its\\nproducts experience weak economic conditions that may negatively affect sales.\\nAlthough Compaq does not consider its business to be highly seasonal, Compaq in\\ngeneral experiences seasonally higher sales and earnings in the second half of\\nthe year. Should Compaq's retail business expand relative to its other\\nbusinesses, Compaq could experience an increase in the seasonality of its\\nbusiness and financial results could become more dependent on retail business\\nfluctuations.\\n\\n\\nCustomers\\n\\n        No customer of Compaq accounted for 10% or more of sales for 1996. In\\n1996, Compaq's five largest resellers represented approximately 27% of Compaq's\\n1996 sales.\\n\\n\\nBacklog\\n\\n        Compaq's resellers typically purchase products on an as-needed basis and\\nresellers frequently change delivery schedules and order rates depending on\\nmarket conditions. Unfilled orders can be, and often are, canceled at will and\\nwithout penalties. In Compaq's experience, however, the actual amount of\\nunfilled orders at any particular time is not a meaningful indication of its\\nfuture business prospects since orders rapidly become balanced as soon as supply\\nbegins meeting demand. In 1996, Compaq was unable to produce certain products on\\na timely basis due to supply constraints on certain component\"},\n",
       " {'id': 'compaq_1997#text7',\n",
       "  'text': 'h performance remote/mobile office\\nconnectivity.\\n\\n        Compaq offers a number of options through each of its product groups,\\nincluding memory upgrades, storage and backup devices, docking stations,\\nkeyboards and communications products and is the world\\'s leading seller of video\\ndisplay monitors. In 1996, Compaq launched a number of new server, desktop and\\nportable option products, including five new monitors, an advanced modem PC card\\nfor its \"Telephony-Ready\" portable computers, a new 120MB diskette drive and\\nother personal storage management solutions, such as a scanner keyboard and a\\nrewriteable optical drive.\\n\\n\\nProduct Development\\n\\n        Compaq is actively engaged in the design and development of additional\\nproducts and enhancements to its existing products. During 1996, 1995 and 1994,\\nCompaq expended $407 million, $270 million and $226 million, respectively, on\\nresearch and development. Since personal computer technology develops rapidly,\\nCompaq\\'s continued success is dependent on the \\n\\n\\n                                       3\\n   4\\n\\ntimely introduction of new products with the right price and features. Its\\nengineering effort focuses on new and emerging technologies as well as design\\nfeatures that will increase manufacturing efficiency and lower production costs.\\nIn 1996, Compaq focused significant attention on technological developments for\\nenterprise computing, including SMP servers, high-availability and failover\\nsolutions, storage technology, enterprise systems '}]"
      ]
     },
     "execution_count": 78,
     "metadata": {},
     "output_type": "execute_result"
    }
   ],
   "source": [
    "documents_retrieved[:3]"
   ]
  },
  {
   "cell_type": "markdown",
   "metadata": {},
   "source": [
    "#### Step 3: Rerank the results\n",
    "\n",
    "We could further refine these 20 results by reranking them. To rerank the results, we send the original query and the results to a reranking model. The reranking model scores the results based on their semantic relevance to the query and returns a new, more accurate ranking. This approach is one of the simplest methods for improving quality in retrieval-augmented generation (RAG) pipelines."
   ]
  },
  {
   "cell_type": "code",
   "execution_count": 79,
   "metadata": {},
   "outputs": [],
   "source": [
    "def rerank_results(query: str, docs: list):\n",
    "    reranked_results = pc.inference.rerank(\n",
    "        model=\"bge-reranker-v2-m3\",\n",
    "        query=query,\n",
    "        documents=docs,\n",
    "        top_n=3,\n",
    "        rank_fields=[\"text\"],\n",
    "        return_documents=True,\n",
    "        parameters={\n",
    "            \"truncate\": \"END\"\n",
    "        }\n",
    "    )\n",
    "\n",
    "    return reranked_results"
   ]
  },
  {
   "cell_type": "code",
   "execution_count": 80,
   "metadata": {},
   "outputs": [],
   "source": [
    "reranked_documents = rerank_results(query, documents_retrieved)"
   ]
  },
  {
   "cell_type": "code",
   "execution_count": 81,
   "metadata": {},
   "outputs": [
    {
     "data": {
      "text/plain": [
       "[{\n",
       "     index=12,\n",
       "     score=0.91398406,\n",
       "     document={\n",
       "         id='compaq_2001#text43',\n",
       "         text=\" FORM FACTORS INTRODUCE UNCERTAINTY INTO THE MARKET. The increasing\\nreliance on the Internet is creating new dynamics in the computer industry. As\\nbusinesses and consumers turn to the Internet, speed and connectivity may become\\nmore critical than stand-alone power for client devices. Compaq is introducing a\\nnew generation of Internet devices built around simple form factors, customized\\nfunctions and wireless mobility. Compaq's products will vie for customer\\nacceptance and market share against those of computer companies as well as\\nconsumer electronics and telecommunications companies. Hardware products, which\\nare Compaq's traditional area of strength, may become less important than\\nservice offerings in attracting and retaining customers. In addition, as new\\nform factors are adopted, sales of traditional personal computers may decline.\\n\\n      CHANGES IN THE SERVICES BUSINESS COULD ADVERSELY AFFECT EARNINGS. Compaq's\\nGlobal Services business has traditionally provided services that included the\\ndesign and implementation of high-end proprietary systems. If the trend for\\ndesign and implementation of systems continues to move from proprietary\\nenvironments to industry standard products, Compaq will need to continue and\\naccelerate retraining its services personnel to compete in the new environment.\\nThere can be no assurance that Compaq will be able to successfully continue\\ntraining, attracting and retaining the necessary personnel to achieve this\\ntransition as Compaq adapts its serv\"\n",
       "     }\n",
       "   },\n",
       " {\n",
       "     index=9,\n",
       "     score=0.8978745,\n",
       "     document={\n",
       "         id='compaq_2002#text19',\n",
       "         text=\"rse effect on\\nCompaq's operating results.\\n\\nMARKETING AND DISTRIBUTION\\n\\n         In response to changing industry practices and customer preferences,\\nCompaq continues to tailor its product and service delivery models to the needs\\nof its customers. Compaq's products and services are sold and delivered\\nprimarily directly to large enterprise, government and education accounts,\\nsupplemented by dealers, value-added resellers, systems integrators and\\nauthorized service providers. Compaq's products and services are sold and\\ndelivered primarily through dealers, consumer retail channels and authorized\\nservice providers to medium-sized business and home customers, and increasingly\\nthrough direct sales and delivery, including via the Internet. Value-added\\nresellers, frequently referred to as VARs, are businesses that buy Compaq\\nproducts and resell them to third parties along with other equipment or services\\ndesigned to be used with Compaq products. Systems integrators buy Compaq\\nproducts and combine them with other products to create a customized computer\\nsystem for a particular customer. Compaq's direct model includes sales of its\\nproducts and services through its worldwide sales force, Internet-based and\\ntelephone sales and service delivery via Compaq's www.compaq.com website and\\ntoll free number, 1-800-AT-COMPAQ, Enterprise Direct programs for major\\nbusiness, government and education accounts, and Partner Direct fulfillment to\\ncustomers referred by Compaq's marketing partners.\\n\\n      \"\n",
       "     }\n",
       "   },\n",
       " {\n",
       "     index=7,\n",
       "     score=0.8866169,\n",
       "     document={\n",
       "         id='compaq_2000#text52',\n",
       "         text=\"icipants confront\\naggressive pricing practices, continually changing customer demand patterns, and rapid technological developments. The cautionary statements below discuss important factors that could cause actual\\nresults to differ materially from the projected results contained in the forward-looking statements in this report.\\n\\n&nbsp;&nbsp;&nbsp;&nbsp;Inability to transition to direct sales could negatively affect financial results.&nbsp;&nbsp;In recent years, the market for\\npersonal computers has shifted from sales through resellers toward direct sales to end users. Compaq sells directly to end users in all market sectors, but the largest proportion of direct sales are\\nin large enterprise accounts. Products in Commercial Personal Computing are sold primarily through third-party resellers while products in Consumer are sold principally through retail outlets. Direct\\nsales present a more efficient business model for personal computer sales, particularly for small and medium businesses and large enterprise accounts, where customers require custom configured\\nproducts with short delivery cycle times. Compaq has not kept pace with changes in the industry's sales and distribution model and has faced challenges in developing and implementing processes for\\norder entry, production of individualized units and direct distribution. Compaq has established a variety of programs designed to achieve these capabilities by simplifying its product set and pricing\\nmodel, re-engineering the cha\"\n",
       "     }\n",
       "   }]"
      ]
     },
     "execution_count": 81,
     "metadata": {},
     "output_type": "execute_result"
    }
   ],
   "source": [
    "reranked_documents.data"
   ]
  },
  {
   "cell_type": "markdown",
   "metadata": {},
   "source": [
    "#### Step 4: Augmentation\n",
    "\n",
    "Now, we'll combine the results with the original user query to create a prompt for the LLM. Let's format them into a search template using techniques Claude has been trained with and add the formatted descriptions to a prompt. We'll use this prompt to send the search results as context to the generation step."
   ]
  },
  {
   "cell_type": "code",
   "execution_count": 82,
   "metadata": {},
   "outputs": [
    {
     "name": "stdout",
     "output_type": "stream",
     "text": [
      "\n",
      "\n",
      "Human: \n",
      "<search_results>\n",
      "<item index=\"1\">\n",
      "<page_content>\n",
      " FORM FACTORS INTRODUCE UNCERTAINTY INTO THE MARKET. The increasing\n",
      "reliance on the Internet is creating new dynamics in the computer industry. As\n",
      "businesses and consumers turn to the Internet, speed and connectivity may become\n",
      "more critical than stand-alone power for client devices. Compaq is introducing a\n",
      "new generation of Internet devices built around simple form factors, customized\n",
      "functions and wireless mobility. Compaq's products will vie for customer\n",
      "acceptance and market share against those of computer companies as well as\n",
      "consumer electronics and telecommunications companies. Hardware products, which\n",
      "are Compaq's traditional area of strength, may become less important than\n",
      "service offerings in attracting and retaining customers. In addition, as new\n",
      "form factors are adopted, sales of traditional personal computers may decline.\n",
      "\n",
      "      CHANGES IN THE SERVICES BUSINESS COULD ADVERSELY AFFECT EARNINGS. Compaq's\n",
      "Global Services business has traditionally provided services that included the\n",
      "design and implementation of high-end proprietary systems. If the trend for\n",
      "design and implementation of systems continues to move from proprietary\n",
      "environments to industry standard products, Compaq will need to continue and\n",
      "accelerate retraining its services personnel to compete in the new environment.\n",
      "There can be no assurance that Compaq will be able to successfully continue\n",
      "training, attracting and retaining the necessary personnel to achieve this\n",
      "transition as Compaq adapts its serv\n",
      "</page_content>\n",
      "</item>\n",
      "<item index=\"2\">\n",
      "<page_content>\n",
      "rse effect on\n",
      "Compaq's operating results.\n",
      "\n",
      "MARKETING AND DISTRIBUTION\n",
      "\n",
      "         In response to changing industry practices and customer preferences,\n",
      "Compaq continues to tailor its product and service delivery models to the needs\n",
      "of its customers. Compaq's products and services are sold and delivered\n",
      "primarily directly to large enterprise, government and education accounts,\n",
      "supplemented by dealers, value-added resellers, systems integrators and\n",
      "authorized service providers. Compaq's products and services are sold and\n",
      "delivered primarily through dealers, consumer retail channels and authorized\n",
      "service providers to medium-sized business and home customers, and increasingly\n",
      "through direct sales and delivery, including via the Internet. Value-added\n",
      "resellers, frequently referred to as VARs, are businesses that buy Compaq\n",
      "products and resell them to third parties along with other equipment or services\n",
      "designed to be used with Compaq products. Systems integrators buy Compaq\n",
      "products and combine them with other products to create a customized computer\n",
      "system for a particular customer. Compaq's direct model includes sales of its\n",
      "products and services through its worldwide sales force, Internet-based and\n",
      "telephone sales and service delivery via Compaq's www.compaq.com website and\n",
      "toll free number, 1-800-AT-COMPAQ, Enterprise Direct programs for major\n",
      "business, government and education accounts, and Partner Direct fulfillment to\n",
      "customers referred by Compaq's marketing partners.\n",
      "\n",
      "      \n",
      "</page_content>\n",
      "</item>\n",
      "<item index=\"3\">\n",
      "<page_content>\n",
      "icipants confront\n",
      "aggressive pricing practices, continually changing customer demand patterns, and rapid technological developments. The cautionary statements below discuss important factors that could cause actual\n",
      "results to differ materially from the projected results contained in the forward-looking statements in this report.\n",
      "\n",
      "&nbsp;&nbsp;&nbsp;&nbsp;Inability to transition to direct sales could negatively affect financial results.&nbsp;&nbsp;In recent years, the market for\n",
      "personal computers has shifted from sales through resellers toward direct sales to end users. Compaq sells directly to end users in all market sectors, but the largest proportion of direct sales are\n",
      "in large enterprise accounts. Products in Commercial Personal Computing are sold primarily through third-party resellers while products in Consumer are sold principally through retail outlets. Direct\n",
      "sales present a more efficient business model for personal computer sales, particularly for small and medium businesses and large enterprise accounts, where customers require custom configured\n",
      "products with short delivery cycle times. Compaq has not kept pace with changes in the industry's sales and distribution model and has faced challenges in developing and implementing processes for\n",
      "order entry, production of individualized units and direct distribution. Compaq has established a variety of programs designed to achieve these capabilities by simplifying its product set and pricing\n",
      "model, re-engineering the cha\n",
      "</page_content>\n",
      "</item>\n",
      "</search_results> Using the search results provided within the <search_results></search_results> tags, please answer the following question <question>Changes in Compaq's product offerings and their impacts on sales</question>. Do not reference the search results in your answer.\n",
      "\n",
      "Assistant:\n"
     ]
    }
   ],
   "source": [
    "# Formatting search results\n",
    "def format_results(extracted: list[str]) -> str:\n",
    "        result = \"\\n\".join(\n",
    "            [\n",
    "                f'<item index=\"{i+1}\">\\n<page_content>\\n{r[\"document\"][\"text\"]}\\n</page_content>\\n</item>'\n",
    "                for i, r in enumerate(extracted.data)\n",
    "            ]\n",
    "        )\n",
    "    \n",
    "        return f\"\\n<search_results>\\n{result}\\n</search_results>\"\n",
    "\n",
    "def augment_prompt(results_list, question):\n",
    "    return f\"\"\"\\n\\nHuman: {format_results(results_list)} Using the search results provided within the <search_results></search_results> tags, please answer the following question <question>{question}</question>. Do not reference the search results in your answer.\\n\\nAssistant:\"\"\"\n",
    "\n",
    "augmented_prompt = augment_prompt(reranked_documents, query)\n",
    "\n",
    "print(augmented_prompt)"
   ]
  },
  {
   "cell_type": "markdown",
   "metadata": {},
   "source": [
    "#### Step 5: Generation with Claude\n",
    "\n",
    "Finally, let's ask the original user's question and get our answer from Claude."
   ]
  },
  {
   "cell_type": "code",
   "execution_count": 83,
   "metadata": {},
   "outputs": [
    {
     "name": "stdout",
     "output_type": "stream",
     "text": [
      "Compaq is facing several changes in its product offerings and their potential impacts on sales:\n",
      "\n",
      "1. The increasing reliance on the Internet is creating new dynamics in the computer industry, where speed and connectivity may become more critical than stand-alone power for client devices. Compaq is introducing a new generation of Internet devices with simple form factors, customized functions, and wireless mobility. These new product offerings may vie for customer acceptance and market share against those of computer companies, consumer electronics, and telecommunications companies.\n",
      "\n",
      "2. As new form factors are adopted, sales of traditional personal computers may decline. This shift in customer preferences could make Compaq's traditional hardware products less important than its service offerings in attracting and retaining customers.\n",
      "\n",
      "3. The trend for design and implementation of systems is moving from proprietary environments to industry-standard products. Compaq needs to retrain its services personnel to compete in this new environment, and there is no assurance that the company will be able to successfully transition its services business.\n",
      "\n",
      "4. Compaq has not kept pace with the industry's shift towards direct sales to end-users, particularly for small and medium businesses and large enterprise accounts. The inability to effectively transition to a direct sales model could negatively affect Compaq's financial results.\n",
      "\n",
      "Overall, Compaq is facing significant changes in its product offerings and sales channels, which could have both positive and negative impacts on its business and financial performance.\n"
     ]
    }
   ],
   "source": [
    "def generate_answer(prompt: str) -> str:\n",
    "    body = json.dumps({\n",
    "        \"anthropic_version\": \"bedrock-2023-05-31\",\n",
    "        \"messages\": [\n",
    "            {\n",
    "                \"role\": \"user\",\n",
    "                \"content\": augmented_prompt\n",
    "            }\n",
    "        ],\n",
    "        \"max_tokens\": 1000,\n",
    "        \"temperature\": 0.1\n",
    "    })\n",
    "\n",
    "    response = bedrock.invoke_model(\n",
    "        body=body,\n",
    "        modelId=generation_model_id,\n",
    "    )\n",
    "\n",
    "    response_body = json.loads(response.get('body').read())\n",
    "\n",
    "    # Extract the response text from Claude's response format\n",
    "    response_text = response_body['content'][0]['text']\n",
    "    \n",
    "    return response_text\n",
    "\n",
    "print(generate_answer(augmented_prompt))"
   ]
  },
  {
   "cell_type": "markdown",
   "metadata": {},
   "source": [
    "### Putting it all together\n",
    "\n",
    "Let's put it all together! Below, we search, rerank, augment the prompt with the results, and generate an answer to complete a simple RAG pipeline."
   ]
  },
  {
   "cell_type": "code",
   "execution_count": 85,
   "metadata": {},
   "outputs": [
    {
     "name": "stdout",
     "output_type": "stream",
     "text": [
      "Compaq is facing several changes in its product offerings and their potential impacts on sales:\n",
      "\n",
      "1. The increasing reliance on the Internet is creating new dynamics in the computer industry, where speed and connectivity may become more critical than stand-alone power for client devices. Compaq is introducing a new generation of Internet devices with simple form factors, customized functions, and wireless mobility. These new form factors may lead to a decline in sales of traditional personal computers.\n",
      "\n",
      "2. Compaq's traditional area of strength has been hardware products, but the company recognizes that service offerings may become more important in attracting and retaining customers as the industry shifts.\n",
      "\n",
      "3. The trend for design and implementation of systems is moving from proprietary environments to industry-standard products. This requires Compaq to retrain its services personnel to compete in the new environment, and there is no assurance that the company will be able to successfully make this transition.\n",
      "\n",
      "4. Compaq has been slower to adapt to the industry's shift towards direct sales to end-users, particularly for small and medium businesses and large enterprise accounts. The company has faced challenges in developing and implementing processes for order entry, production of individualized units, and direct distribution, which could negatively affect its financial results.\n"
     ]
    }
   ],
   "source": [
    "query = \"Changes in Compaq's product offerings and their impacts on sales\"\n",
    "\n",
    "# Search\n",
    "documents_retrieved = semantic_search(query)\n",
    "\n",
    "# Rerank\n",
    "reranked_documents = rerank_results(query, documents_retrieved)\n",
    "\n",
    "# Augment\n",
    "augmented_prompt = augment_prompt(reranked_documents, query)\n",
    "\n",
    "# Generate\n",
    "answer = generate_answer(augmented_prompt)\n",
    "\n",
    "print(answer)"
   ]
  }
 ],
 "metadata": {
  "availableInstances": [
   {
    "_defaultOrder": 0,
    "_isFastLaunch": true,
    "category": "General purpose",
    "gpuNum": 0,
    "hideHardwareSpecs": false,
    "memoryGiB": 4,
    "name": "ml.t3.medium",
    "vcpuNum": 2
   },
   {
    "_defaultOrder": 1,
    "_isFastLaunch": false,
    "category": "General purpose",
    "gpuNum": 0,
    "hideHardwareSpecs": false,
    "memoryGiB": 8,
    "name": "ml.t3.large",
    "vcpuNum": 2
   },
   {
    "_defaultOrder": 2,
    "_isFastLaunch": false,
    "category": "General purpose",
    "gpuNum": 0,
    "hideHardwareSpecs": false,
    "memoryGiB": 16,
    "name": "ml.t3.xlarge",
    "vcpuNum": 4
   },
   {
    "_defaultOrder": 3,
    "_isFastLaunch": false,
    "category": "General purpose",
    "gpuNum": 0,
    "hideHardwareSpecs": false,
    "memoryGiB": 32,
    "name": "ml.t3.2xlarge",
    "vcpuNum": 8
   },
   {
    "_defaultOrder": 4,
    "_isFastLaunch": true,
    "category": "General purpose",
    "gpuNum": 0,
    "hideHardwareSpecs": false,
    "memoryGiB": 8,
    "name": "ml.m5.large",
    "vcpuNum": 2
   },
   {
    "_defaultOrder": 5,
    "_isFastLaunch": false,
    "category": "General purpose",
    "gpuNum": 0,
    "hideHardwareSpecs": false,
    "memoryGiB": 16,
    "name": "ml.m5.xlarge",
    "vcpuNum": 4
   },
   {
    "_defaultOrder": 6,
    "_isFastLaunch": false,
    "category": "General purpose",
    "gpuNum": 0,
    "hideHardwareSpecs": false,
    "memoryGiB": 32,
    "name": "ml.m5.2xlarge",
    "vcpuNum": 8
   },
   {
    "_defaultOrder": 7,
    "_isFastLaunch": false,
    "category": "General purpose",
    "gpuNum": 0,
    "hideHardwareSpecs": false,
    "memoryGiB": 64,
    "name": "ml.m5.4xlarge",
    "vcpuNum": 16
   },
   {
    "_defaultOrder": 8,
    "_isFastLaunch": false,
    "category": "General purpose",
    "gpuNum": 0,
    "hideHardwareSpecs": false,
    "memoryGiB": 128,
    "name": "ml.m5.8xlarge",
    "vcpuNum": 32
   },
   {
    "_defaultOrder": 9,
    "_isFastLaunch": false,
    "category": "General purpose",
    "gpuNum": 0,
    "hideHardwareSpecs": false,
    "memoryGiB": 192,
    "name": "ml.m5.12xlarge",
    "vcpuNum": 48
   },
   {
    "_defaultOrder": 10,
    "_isFastLaunch": false,
    "category": "General purpose",
    "gpuNum": 0,
    "hideHardwareSpecs": false,
    "memoryGiB": 256,
    "name": "ml.m5.16xlarge",
    "vcpuNum": 64
   },
   {
    "_defaultOrder": 11,
    "_isFastLaunch": false,
    "category": "General purpose",
    "gpuNum": 0,
    "hideHardwareSpecs": false,
    "memoryGiB": 384,
    "name": "ml.m5.24xlarge",
    "vcpuNum": 96
   },
   {
    "_defaultOrder": 12,
    "_isFastLaunch": false,
    "category": "General purpose",
    "gpuNum": 0,
    "hideHardwareSpecs": false,
    "memoryGiB": 8,
    "name": "ml.m5d.large",
    "vcpuNum": 2
   },
   {
    "_defaultOrder": 13,
    "_isFastLaunch": false,
    "category": "General purpose",
    "gpuNum": 0,
    "hideHardwareSpecs": false,
    "memoryGiB": 16,
    "name": "ml.m5d.xlarge",
    "vcpuNum": 4
   },
   {
    "_defaultOrder": 14,
    "_isFastLaunch": false,
    "category": "General purpose",
    "gpuNum": 0,
    "hideHardwareSpecs": false,
    "memoryGiB": 32,
    "name": "ml.m5d.2xlarge",
    "vcpuNum": 8
   },
   {
    "_defaultOrder": 15,
    "_isFastLaunch": false,
    "category": "General purpose",
    "gpuNum": 0,
    "hideHardwareSpecs": false,
    "memoryGiB": 64,
    "name": "ml.m5d.4xlarge",
    "vcpuNum": 16
   },
   {
    "_defaultOrder": 16,
    "_isFastLaunch": false,
    "category": "General purpose",
    "gpuNum": 0,
    "hideHardwareSpecs": false,
    "memoryGiB": 128,
    "name": "ml.m5d.8xlarge",
    "vcpuNum": 32
   },
   {
    "_defaultOrder": 17,
    "_isFastLaunch": false,
    "category": "General purpose",
    "gpuNum": 0,
    "hideHardwareSpecs": false,
    "memoryGiB": 192,
    "name": "ml.m5d.12xlarge",
    "vcpuNum": 48
   },
   {
    "_defaultOrder": 18,
    "_isFastLaunch": false,
    "category": "General purpose",
    "gpuNum": 0,
    "hideHardwareSpecs": false,
    "memoryGiB": 256,
    "name": "ml.m5d.16xlarge",
    "vcpuNum": 64
   },
   {
    "_defaultOrder": 19,
    "_isFastLaunch": false,
    "category": "General purpose",
    "gpuNum": 0,
    "hideHardwareSpecs": false,
    "memoryGiB": 384,
    "name": "ml.m5d.24xlarge",
    "vcpuNum": 96
   },
   {
    "_defaultOrder": 20,
    "_isFastLaunch": false,
    "category": "General purpose",
    "gpuNum": 0,
    "hideHardwareSpecs": true,
    "memoryGiB": 0,
    "name": "ml.geospatial.interactive",
    "supportedImageNames": [
     "sagemaker-geospatial-v1-0"
    ],
    "vcpuNum": 0
   },
   {
    "_defaultOrder": 21,
    "_isFastLaunch": true,
    "category": "Compute optimized",
    "gpuNum": 0,
    "hideHardwareSpecs": false,
    "memoryGiB": 4,
    "name": "ml.c5.large",
    "vcpuNum": 2
   },
   {
    "_defaultOrder": 22,
    "_isFastLaunch": false,
    "category": "Compute optimized",
    "gpuNum": 0,
    "hideHardwareSpecs": false,
    "memoryGiB": 8,
    "name": "ml.c5.xlarge",
    "vcpuNum": 4
   },
   {
    "_defaultOrder": 23,
    "_isFastLaunch": false,
    "category": "Compute optimized",
    "gpuNum": 0,
    "hideHardwareSpecs": false,
    "memoryGiB": 16,
    "name": "ml.c5.2xlarge",
    "vcpuNum": 8
   },
   {
    "_defaultOrder": 24,
    "_isFastLaunch": false,
    "category": "Compute optimized",
    "gpuNum": 0,
    "hideHardwareSpecs": false,
    "memoryGiB": 32,
    "name": "ml.c5.4xlarge",
    "vcpuNum": 16
   },
   {
    "_defaultOrder": 25,
    "_isFastLaunch": false,
    "category": "Compute optimized",
    "gpuNum": 0,
    "hideHardwareSpecs": false,
    "memoryGiB": 72,
    "name": "ml.c5.9xlarge",
    "vcpuNum": 36
   },
   {
    "_defaultOrder": 26,
    "_isFastLaunch": false,
    "category": "Compute optimized",
    "gpuNum": 0,
    "hideHardwareSpecs": false,
    "memoryGiB": 96,
    "name": "ml.c5.12xlarge",
    "vcpuNum": 48
   },
   {
    "_defaultOrder": 27,
    "_isFastLaunch": false,
    "category": "Compute optimized",
    "gpuNum": 0,
    "hideHardwareSpecs": false,
    "memoryGiB": 144,
    "name": "ml.c5.18xlarge",
    "vcpuNum": 72
   },
   {
    "_defaultOrder": 28,
    "_isFastLaunch": false,
    "category": "Compute optimized",
    "gpuNum": 0,
    "hideHardwareSpecs": false,
    "memoryGiB": 192,
    "name": "ml.c5.24xlarge",
    "vcpuNum": 96
   },
   {
    "_defaultOrder": 29,
    "_isFastLaunch": true,
    "category": "Accelerated computing",
    "gpuNum": 1,
    "hideHardwareSpecs": false,
    "memoryGiB": 16,
    "name": "ml.g4dn.xlarge",
    "vcpuNum": 4
   },
   {
    "_defaultOrder": 30,
    "_isFastLaunch": false,
    "category": "Accelerated computing",
    "gpuNum": 1,
    "hideHardwareSpecs": false,
    "memoryGiB": 32,
    "name": "ml.g4dn.2xlarge",
    "vcpuNum": 8
   },
   {
    "_defaultOrder": 31,
    "_isFastLaunch": false,
    "category": "Accelerated computing",
    "gpuNum": 1,
    "hideHardwareSpecs": false,
    "memoryGiB": 64,
    "name": "ml.g4dn.4xlarge",
    "vcpuNum": 16
   },
   {
    "_defaultOrder": 32,
    "_isFastLaunch": false,
    "category": "Accelerated computing",
    "gpuNum": 1,
    "hideHardwareSpecs": false,
    "memoryGiB": 128,
    "name": "ml.g4dn.8xlarge",
    "vcpuNum": 32
   },
   {
    "_defaultOrder": 33,
    "_isFastLaunch": false,
    "category": "Accelerated computing",
    "gpuNum": 4,
    "hideHardwareSpecs": false,
    "memoryGiB": 192,
    "name": "ml.g4dn.12xlarge",
    "vcpuNum": 48
   },
   {
    "_defaultOrder": 34,
    "_isFastLaunch": false,
    "category": "Accelerated computing",
    "gpuNum": 1,
    "hideHardwareSpecs": false,
    "memoryGiB": 256,
    "name": "ml.g4dn.16xlarge",
    "vcpuNum": 64
   },
   {
    "_defaultOrder": 35,
    "_isFastLaunch": false,
    "category": "Accelerated computing",
    "gpuNum": 1,
    "hideHardwareSpecs": false,
    "memoryGiB": 61,
    "name": "ml.p3.2xlarge",
    "vcpuNum": 8
   },
   {
    "_defaultOrder": 36,
    "_isFastLaunch": false,
    "category": "Accelerated computing",
    "gpuNum": 4,
    "hideHardwareSpecs": false,
    "memoryGiB": 244,
    "name": "ml.p3.8xlarge",
    "vcpuNum": 32
   },
   {
    "_defaultOrder": 37,
    "_isFastLaunch": false,
    "category": "Accelerated computing",
    "gpuNum": 8,
    "hideHardwareSpecs": false,
    "memoryGiB": 488,
    "name": "ml.p3.16xlarge",
    "vcpuNum": 64
   },
   {
    "_defaultOrder": 38,
    "_isFastLaunch": false,
    "category": "Accelerated computing",
    "gpuNum": 8,
    "hideHardwareSpecs": false,
    "memoryGiB": 768,
    "name": "ml.p3dn.24xlarge",
    "vcpuNum": 96
   },
   {
    "_defaultOrder": 39,
    "_isFastLaunch": false,
    "category": "Memory Optimized",
    "gpuNum": 0,
    "hideHardwareSpecs": false,
    "memoryGiB": 16,
    "name": "ml.r5.large",
    "vcpuNum": 2
   },
   {
    "_defaultOrder": 40,
    "_isFastLaunch": false,
    "category": "Memory Optimized",
    "gpuNum": 0,
    "hideHardwareSpecs": false,
    "memoryGiB": 32,
    "name": "ml.r5.xlarge",
    "vcpuNum": 4
   },
   {
    "_defaultOrder": 41,
    "_isFastLaunch": false,
    "category": "Memory Optimized",
    "gpuNum": 0,
    "hideHardwareSpecs": false,
    "memoryGiB": 64,
    "name": "ml.r5.2xlarge",
    "vcpuNum": 8
   },
   {
    "_defaultOrder": 42,
    "_isFastLaunch": false,
    "category": "Memory Optimized",
    "gpuNum": 0,
    "hideHardwareSpecs": false,
    "memoryGiB": 128,
    "name": "ml.r5.4xlarge",
    "vcpuNum": 16
   },
   {
    "_defaultOrder": 43,
    "_isFastLaunch": false,
    "category": "Memory Optimized",
    "gpuNum": 0,
    "hideHardwareSpecs": false,
    "memoryGiB": 256,
    "name": "ml.r5.8xlarge",
    "vcpuNum": 32
   },
   {
    "_defaultOrder": 44,
    "_isFastLaunch": false,
    "category": "Memory Optimized",
    "gpuNum": 0,
    "hideHardwareSpecs": false,
    "memoryGiB": 384,
    "name": "ml.r5.12xlarge",
    "vcpuNum": 48
   },
   {
    "_defaultOrder": 45,
    "_isFastLaunch": false,
    "category": "Memory Optimized",
    "gpuNum": 0,
    "hideHardwareSpecs": false,
    "memoryGiB": 512,
    "name": "ml.r5.16xlarge",
    "vcpuNum": 64
   },
   {
    "_defaultOrder": 46,
    "_isFastLaunch": false,
    "category": "Memory Optimized",
    "gpuNum": 0,
    "hideHardwareSpecs": false,
    "memoryGiB": 768,
    "name": "ml.r5.24xlarge",
    "vcpuNum": 96
   },
   {
    "_defaultOrder": 47,
    "_isFastLaunch": false,
    "category": "Accelerated computing",
    "gpuNum": 1,
    "hideHardwareSpecs": false,
    "memoryGiB": 16,
    "name": "ml.g5.xlarge",
    "vcpuNum": 4
   },
   {
    "_defaultOrder": 48,
    "_isFastLaunch": false,
    "category": "Accelerated computing",
    "gpuNum": 1,
    "hideHardwareSpecs": false,
    "memoryGiB": 32,
    "name": "ml.g5.2xlarge",
    "vcpuNum": 8
   },
   {
    "_defaultOrder": 49,
    "_isFastLaunch": false,
    "category": "Accelerated computing",
    "gpuNum": 1,
    "hideHardwareSpecs": false,
    "memoryGiB": 64,
    "name": "ml.g5.4xlarge",
    "vcpuNum": 16
   },
   {
    "_defaultOrder": 50,
    "_isFastLaunch": false,
    "category": "Accelerated computing",
    "gpuNum": 1,
    "hideHardwareSpecs": false,
    "memoryGiB": 128,
    "name": "ml.g5.8xlarge",
    "vcpuNum": 32
   },
   {
    "_defaultOrder": 51,
    "_isFastLaunch": false,
    "category": "Accelerated computing",
    "gpuNum": 1,
    "hideHardwareSpecs": false,
    "memoryGiB": 256,
    "name": "ml.g5.16xlarge",
    "vcpuNum": 64
   },
   {
    "_defaultOrder": 52,
    "_isFastLaunch": false,
    "category": "Accelerated computing",
    "gpuNum": 4,
    "hideHardwareSpecs": false,
    "memoryGiB": 192,
    "name": "ml.g5.12xlarge",
    "vcpuNum": 48
   },
   {
    "_defaultOrder": 53,
    "_isFastLaunch": false,
    "category": "Accelerated computing",
    "gpuNum": 4,
    "hideHardwareSpecs": false,
    "memoryGiB": 384,
    "name": "ml.g5.24xlarge",
    "vcpuNum": 96
   },
   {
    "_defaultOrder": 54,
    "_isFastLaunch": false,
    "category": "Accelerated computing",
    "gpuNum": 8,
    "hideHardwareSpecs": false,
    "memoryGiB": 768,
    "name": "ml.g5.48xlarge",
    "vcpuNum": 192
   },
   {
    "_defaultOrder": 55,
    "_isFastLaunch": false,
    "category": "Accelerated computing",
    "gpuNum": 8,
    "hideHardwareSpecs": false,
    "memoryGiB": 1152,
    "name": "ml.p4d.24xlarge",
    "vcpuNum": 96
   },
   {
    "_defaultOrder": 56,
    "_isFastLaunch": false,
    "category": "Accelerated computing",
    "gpuNum": 8,
    "hideHardwareSpecs": false,
    "memoryGiB": 1152,
    "name": "ml.p4de.24xlarge",
    "vcpuNum": 96
   }
  ],
  "instance_type": "ml.t3.medium",
  "kernelspec": {
   "display_name": ".venv",
   "language": "python",
   "name": "python3"
  },
  "language_info": {
   "codemirror_mode": {
    "name": "ipython",
    "version": 3
   },
   "file_extension": ".py",
   "mimetype": "text/x-python",
   "name": "python",
   "nbconvert_exporter": "python",
   "pygments_lexer": "ipython3",
   "version": "3.12.9"
  }
 },
 "nbformat": 4,
 "nbformat_minor": 4
}
