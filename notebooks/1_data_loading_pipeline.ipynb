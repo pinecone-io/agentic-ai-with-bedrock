{
 "cells": [
  {
   "attachments": {},
   "cell_type": "markdown",
   "metadata": {},
   "source": [
    "[![Open nbviewer](https://raw.githubusercontent.com/pinecone-io/examples/master/assets/nbviewer-shield.svg)](https://nbviewer.org/github/pinecone-io/examples/blob/master/learn/generation/aws/sagemaker/sagemaker-pinecone-rag.ipynb)"
   ]
  },
  {
   "attachments": {},
   "cell_type": "markdown",
   "metadata": {},
   "source": [
    "# Module 01 - Data Loading\n"
   ]
  },
  {
   "attachments": {},
   "cell_type": "markdown",
   "metadata": {},
   "source": [
    "This module contains notebook code to:\n",
    "* Create the Pinecone Index\n",
    "* Parse the data\n",
    "* Convert to vectors - chunking & embedding\n",
    "* Upload the vectors to Pinecone\n"
   ]
  },
  {
   "attachments": {},
   "cell_type": "markdown",
   "metadata": {},
   "source": [
    "### Install required libraries"
   ]
  },
  {
   "cell_type": "code",
   "execution_count": 1,
   "metadata": {
    "collapsed": false,
    "jupyter": {
     "outputs_hidden": false
    },
    "pycharm": {
     "name": "#%%\n"
    },
    "tags": []
   },
   "outputs": [
    {
     "name": "stdout",
     "output_type": "stream",
     "text": [
      "Note: you may need to restart the kernel to use updated packages.\n"
     ]
    }
   ],
   "source": [
    "%pip install --quiet --upgrade \\\n",
    "    pinecone-notebooks \\\n",
    "    pinecone \\\n",
    "    tqdm \\\n",
    "    boto3 \\\n",
    "    botocore"
   ]
  },
  {
   "attachments": {},
   "cell_type": "markdown",
   "metadata": {},
   "source": [
    "To begin, we will initialize Amazon Bedrock and Pinecone that we'll need to use throughout the walkthrough."
   ]
  },
  {
   "cell_type": "code",
   "execution_count": 2,
   "metadata": {},
   "outputs": [],
   "source": [
    "# Standard library imports\n",
    "import re\n",
    "import time\n",
    "import getpass\n",
    "import json\n",
    "\n",
    "# Third-party imports\n",
    "from tqdm import tqdm\n",
    "\n",
    "# Pinecone and Rich libraries\n",
    "from pinecone import Pinecone\n",
    "from pinecone import ServerlessSpec\n",
    "\n",
    "# AWS Library imports\n",
    "import boto3\n",
    "from botocore.config import Config"
   ]
  },
  {
   "cell_type": "markdown",
   "metadata": {},
   "source": [
    "### Initialize Pinecone"
   ]
  },
  {
   "cell_type": "code",
   "execution_count": null,
   "metadata": {},
   "outputs": [],
   "source": [
    "PINECONE_API_KEY = getpass.getpass(\"Enter Pinecone API Key\")\n",
    "pc = Pinecone(api_key=PINECONE_API_KEY, source_tag=\"pinecone:agentic_ai_with_pinecone_and_aws:notebooks:1_data_loading_pipeline\")"
   ]
  },
  {
   "cell_type": "code",
   "execution_count": null,
   "metadata": {},
   "outputs": [],
   "source": [
    "index_name = 'agentic-ai-with-pinecone-and-aws'\n",
    "namespace = '__default__' # Namespaces are used to organize data in Pinecone, like for multi-tenant applications. We'll use the default namespace for this workshop."
   ]
  },
  {
   "cell_type": "code",
   "execution_count": 5,
   "metadata": {},
   "outputs": [],
   "source": [
    "spec = ServerlessSpec(cloud='aws', region='us-east-1') #Provide Pinecone region that we selected in the 'Create Pinecone Index' section"
   ]
  },
  {
   "cell_type": "markdown",
   "metadata": {},
   "source": [
    "### Initialize Bedrock"
   ]
  },
  {
   "cell_type": "markdown",
   "metadata": {},
   "source": [
    "If you're running this workshop as part of a Pinecone-hosted event, your environment already has access to `AWS_ACCESS_KEY_ID` and `AWS_SECRET_ACCESS_KEY`, so there is no need to set these up. The Bedrock initialization code below will automatically reference them."
   ]
  },
  {
   "cell_type": "code",
   "execution_count": 6,
   "metadata": {},
   "outputs": [],
   "source": [
    "config = Config(connect_timeout=5, read_timeout=60, retries={\"total_max_attempts\": 20, \"mode\": \"adaptive\"})\n",
    "region = 'us-east-1'\n",
    "\n",
    "bedrock = boto3.client(\n",
    "                service_name='bedrock-runtime',\n",
    "                region_name=region,\n",
    "                endpoint_url=f'https://bedrock-runtime.{region}.amazonaws.com',\n",
    "                                    config=config)\n",
    "\n",
    "embedding_model_id = \"amazon.titan-embed-text-v2:0\""
   ]
  },
  {
   "cell_type": "markdown",
   "metadata": {},
   "source": [
    "### Create Pinecone Index"
   ]
  },
  {
   "cell_type": "code",
   "execution_count": 8,
   "metadata": {},
   "outputs": [],
   "source": [
    "# get existing indexes\n",
    "existing_indexes = pc.list_indexes().names()\n",
    "\n",
    "# check if index already exists (it shouldn't if this is first time)\n",
    "if index_name not in existing_indexes:\n",
    "    # if does not exist, create index\n",
    "    pc.create_index(\n",
    "        index_name,\n",
    "        dimension=1024, # Must match the dimension of the embedding model\n",
    "        metric='cosine',\n",
    "        spec=spec\n",
    "    )\n",
    "    # wait for index to be initialized\n",
    "    while not pc.describe_index(index_name).status['ready']:\n",
    "        time.sleep(1)\n"
   ]
  },
  {
   "cell_type": "code",
   "execution_count": 9,
   "metadata": {},
   "outputs": [
    {
     "name": "stdout",
     "output_type": "stream",
     "text": [
      "{'dimension': 1024,\n",
      " 'index_fullness': 0.0,\n",
      " 'metric': 'cosine',\n",
      " 'namespaces': {'agentic-rag': {'vector_count': 880}},\n",
      " 'total_vector_count': 880,\n",
      " 'vector_type': 'dense'}\n"
     ]
    }
   ],
   "source": [
    "# connect to index\n",
    "index = pc.Index(index_name)\n",
    "time.sleep(1)\n",
    "# view index stats\n",
    "print(index.describe_index_stats())"
   ]
  },
  {
   "attachments": {},
   "cell_type": "markdown",
   "metadata": {
    "tags": []
   },
   "source": [
    "### Loading the data"
   ]
  },
  {
   "attachments": {},
   "cell_type": "markdown",
   "metadata": {},
   "source": [
    "Let us parse the raw data and store it into the Pinecone Index. Below is the step-by-step process. For this workshop we will be using 10-K filings of Comapaq company from year 1994 to 2002 which are in text documents."
   ]
  },
  {
   "cell_type": "markdown",
   "metadata": {},
   "source": [
    "- Step 0. Load the data from the files\n",
    "- Step 1. Parse the documents and extract the text \n",
    "- Step 2. Chunk the data and create vector embeddings\n",
    "- Step 3. Upsert the vector embeddings into the Pinecone Index"
   ]
  },
  {
   "cell_type": "markdown",
   "metadata": {},
   "source": [
    "TODO: IMAGE"
   ]
  },
  {
   "cell_type": "markdown",
   "metadata": {},
   "source": [
    "#### Step 0: Load the data from the files\n",
    "\n",
    "First, unzip the agentic_ai_with_pinecone_and_aws_dataset.zip file present in the data folder.\n",
    "\n",
    "⚠️ If you are running this as part of a Pinecone-hosted event, the data will already be unzipped for you.\n",
    "\n",
    "Next, load each file:"
   ]
  },
  {
   "cell_type": "code",
   "execution_count": null,
   "metadata": {},
   "outputs": [],
   "source": [
    "## Load Compaq's 10-K filings which are available in the data folder\n",
    "\n",
    "filing_years = ['1994', '1995', '1996', '1997', '1998', '1999', '2000', '2001', '2002']\n",
    "data_dir = '../data/agentic_ai_with_pinecone_and_aws_dataset'"
   ]
  },
  {
   "cell_type": "code",
   "execution_count": 11,
   "metadata": {},
   "outputs": [],
   "source": [
    "texts = {\n",
    "    year: open(f\"{data_dir}/{year}.txt\", encoding=\"utf-8\").read()\n",
    "    for year in filing_years\n",
    "}"
   ]
  },
  {
   "cell_type": "markdown",
   "metadata": {},
   "source": [
    "### Step 1: Parse the documents and extract the data\n"
   ]
  },
  {
   "cell_type": "code",
   "execution_count": 12,
   "metadata": {},
   "outputs": [],
   "source": [
    "#Remove unwanted tags, extract tables, and split the data into manageable chunks:\n",
    "def remove_unwanted_tags(text: str, keep_tags: list = None) -> str:\n",
    "    \"\"\"\n",
    "    Remove all HTML/XML tags from text except for specified tags to keep.\n",
    "\n",
    "    Args:\n",
    "        text (str): Input text containing tags.\n",
    "        keep_tags (list, optional): List of tag names to retain (without angle brackets).\n",
    "                                    Defaults to [\"TABLE\"].\n",
    "\n",
    "    Returns:\n",
    "        str: Cleaned text with unwanted tags removed.\n",
    "    \"\"\"\n",
    "    if keep_tags is None:\n",
    "        keep_tags = [\"TABLE\"]\n",
    "    keep_pattern = '|'.join(keep_tags)\n",
    "    pattern = re.compile(rf'<(?!/?(?:{keep_pattern})\\b)[^>]+>')\n",
    "    return pattern.sub('', text)\n",
    "\n",
    "\n",
    "def parse_10ks(year: str, document_text: str) -> str:\n",
    "    \"\"\"\n",
    "    Extract and clean the text enclosed within <TEXT> tags of a 10-K filing.\n",
    "\n",
    "    Args:\n",
    "        year (str): The filing year.\n",
    "        document_text (str): Raw text of the filing.\n",
    "\n",
    "    Returns:\n",
    "        str: Cleaned text within the <TEXT> tags, or an empty string if not found.\n",
    "    \"\"\"\n",
    "    pattern = re.compile(r\"<TEXT>(.*?)</TEXT>\", re.DOTALL)\n",
    "    matches = pattern.findall(document_text)\n",
    "    if not matches:\n",
    "        print(f\"Document text not found for year {year}\")\n",
    "        return \"\"\n",
    "    return remove_unwanted_tags(matches[0])"
   ]
  },
  {
   "cell_type": "markdown",
   "metadata": {},
   "source": [
    "### Step 2: Chunk the data and create vector embeddings\n"
   ]
  },
  {
   "cell_type": "code",
   "execution_count": 13,
   "metadata": {},
   "outputs": [
    {
     "name": "stdout",
     "output_type": "stream",
     "text": [
      "<TABLE> <S> <C>\n",
      "\n",
      "<ARTICLE> 5\n",
      "<LEGEND>\n",
      "THIS SCHEDULE CONTAINS SUMMARY FINANCIAL INFORMATION EXTRACTED FROM\n",
      "COMPAQ COMPUTER CORPORATION'S CONSOLIDATED BALANCE SHEET AND CONSOLIDATED\n",
      "STATEMENT OF INCOME FOR THE PERIOD ENDED DECEMBER 31, 1995 AND IS QUAILIFIED\n",
      "IN ITS ENTIRETY BY REFERENCE TO SUCH FINANCIAL STATEMENTS.\n",
      "</LEGEND>\n",
      "<MULTIPLIER> 1,000,000\n",
      "       \n",
      "<S>                             <C>\n",
      "<PERIOD-TYPE>                   YEAR\n",
      "<FISCAL-YEAR-END>                          DEC-31-1995\n",
      "<PERIOD-END>                               DEC-31-1995\n",
      "<CASH>                                             745\n",
      "<SECURITIES>                                         0\n",
      "<RECEIVABLES>                                    3,241\n",
      "<ALLOWANCES>                                       100\n",
      "<INVENTORY>                                      2,156\n",
      "<CURRENT-ASSETS>                                 6,527\n",
      "<PP&E>                                           1,981\n",
      "<DEPRECIATION>                                     871\n",
      "<TOTAL-ASSETS>                                   7,818\n",
      "<CURRENT-LIABILITIES>                            2,680\n",
      "<BONDS>                                            300\n",
      "<PREFERRED-MANDATORY>                                0\n",
      "<PREFERRED>                                          0\n",
      "<COMMON>                                           890\n",
      "<OTHER-SE>                                       3,724\n",
      "<TOTAL-LIABILITY-AND-EQUITY>                     7,818\n",
      "<SALES>                                         14,755\n",
      "<TOTAL-REVENUES>                                14,755\n",
      "<CGS>                                           11,367\n",
      "<TOTAL-COSTS>                                   11,367\n",
      "<OTHER-EXPENSES>                                   511<F1>\n",
      "<LOSS-PROVISION>                                    43\n",
      "<INTEREST-EXPENSE>                                  99\n",
      "<INCOME-PRETAX>                                  1,188\n",
      "<INCOME-TAX>                                       399\n",
      "<INCOME-CONTINUING>                                789\n",
      "<DISCONTINUED>                                       0\n",
      "<EXTRAORDINARY>                                      0\n",
      "<CHANGES>                                            0\n",
      "<NET-INCOME>                                       789\n",
      "<EPS-PRIMARY>                                     2.88\n",
      "<EPS-DILUTED>                                     2.87\n",
      "<FN>\n",
      "<F1>Includes research and development costs and purchased in-process technology.\n",
      "</FN>\n",
      "        \n",
      "\n",
      "\n",
      "</TABLE>\n"
     ]
    }
   ],
   "source": [
    "#Split the document text into table sections and non-table text:\n",
    "def chunk_by_table(document_text: str) -> dict:\n",
    "    \"\"\"\n",
    "    Split document text into table and non-table parts.\n",
    "\n",
    "    Args:\n",
    "        document_text (str): Raw document text.\n",
    "\n",
    "    Returns:\n",
    "        dict: Dictionary with keys 'tables' (list of table sections)\n",
    "              and 'texts' (concatenated non-table text).\n",
    "    \"\"\"\n",
    "    chunks = {\"tables\": [], \"texts\": []}\n",
    "    table_pattern = re.compile(r'(<TABLE.*?</TABLE>)', re.DOTALL | re.IGNORECASE)\n",
    "    parts = table_pattern.split(document_text)\n",
    "\n",
    "    for part in parts:\n",
    "        if not part.strip():\n",
    "            continue\n",
    "        if table_pattern.match(part):\n",
    "            chunks[\"tables\"].append(part)\n",
    "        else:\n",
    "            chunks[\"texts\"].append(part)\n",
    "\n",
    "    chunks[\"texts\"] = \"\".join(chunks[\"texts\"])\n",
    "    return chunks\n",
    "\n",
    "test_table_chunking = chunk_by_table(texts['1996'])\n",
    "\n",
    "print((test_table_chunking[\"tables\"][0]))\n"
   ]
  },
  {
   "cell_type": "code",
   "execution_count": 14,
   "metadata": {},
   "outputs": [
    {
     "data": {
      "text/plain": [
       "'\\n\\n______________________________________________________________________\\n\\n                  SECURITIES AND EXCHANGE COMMISSION\\n                        Washington, D.C. 20549\\n\\n                              FORM 10-K\\n\\n           ANNUAL REPORT PURSUANT TO SECTION 13 OR 15(d) OF\\n                 THE SECURITIES EXCHANGE ACT OF 1934\\n\\n             For the Fiscal Year Ended December 31, 1995\\n\\n                    Commission File Number 1-9026\\n\\n                     COMPAQ COMPUTER CORPORATION\\n        (Exact name of registrant as specified in its charter)\\n\\n             Delaware                        76-0011617\\n (State or other jurisdiction of          (I.R.S. Employer\\n  incorporation or organization)        Identification No.)\\n\\n                  20555 SH 249, Houston, Texas 77070\\n                            (713) 370-0670\\n    (Address, including zip code, and telephone number, including\\n       area code, of registrant\\'s principal executive offices)\\n\\nSecurities registered pursuant to Section 12(b) of the Act:\\n\\n                                                 Name of each exchange on\\n            Title of each class                      which registered\\n\\n       Common Stock, $.01 par value              New York Stock Exchange\\n              Debt Securities                              None\\n\\nSecurities registered pursuant to Section 12(g) of the Act:  None\\n\\n     Indicate by check mark whether the registrant (1) has filed all\\nreports required to be filed by Section 13 or 15(d) of the Securities\\nExchange Act of 1934 during the preceding 12 months (or for such\\nshorter period that the registrant was required to file such reports),\\nand (2) has been subject to such filing requirements for the past 90\\ndays.  Yes [ x ]  No [   ]\\n\\n     Indicate by check mark if disclosure of delinquent filers\\npursuant to Item 405 of Regulation S-K is not contained herein, and\\nwill not be contained, to the best of registrant\\'s knowledge, in\\ndefinitive proxy or information statements incorporated by reference\\nin Part III of this Form 10-K or any amendment to this Form 10-K. [ x ]\\n\\n     The aggregate market value of the voting stock held by non-\\naffiliates of the registrant on January 31, 1996 (based on the last\\nsale price on the New York Stock Exchange as of such date), was $12.5\\nbillion.\\n\\n     The number of shares of the registrant\\'s Common Stock, $.01 par\\nvalue, outstanding as of January 31, 1996, was 267 million.\\n\\n                 DOCUMENTS INCORPORATED BY REFERENCE\\n\\n     There is incorporated by reference in Part III of this Annual\\nReport on Form 10-K the information contained in the registrant\\'s\\nproxy statement for its annual meeting of stockholders to be held\\nApril 25, 1996.\\n______________________________________________________________________\\n\\n\\nPART I\\n\\nItem 1.  Business\\n\\nGeneral\\n\\n     Compaq Computer Corporation, founded in 1982, designs, develops,\\nmanufactures, and markets a wide range of personal computing products,\\nincluding desktop personal computers, portable computers, and tower PC\\nservers and peripheral products that store and manage data in network\\nenvironments.  The Company markets its products primarily to business,\\nhome, government, and education customers.  The Company operates in\\none principal industry segment across geographically diverse markets.\\nAs used herein, the term \"Company\" means Compaq Computer Corporation\\nand its consolidated subsidiaries, unless the context indicates\\notherwise.\\n\\n     In 1995 the Company reinforced its position as the largest\\nsupplier of personal computers in the world.  It maintained\\napproximately 10% of the expanding worldwide PC market by focusing its\\nbusiness activities on expanding sales to new customers while\\naugmenting sales to its existing customer base.  Business customers\\naccount for the largest portion of the Company\\'s sales.  Business\\ncustomers are attracted to the Company\\'s products for a variety of\\nreasons, including the Company\\'s reputation for reliability, price,\\nproduct performance and technological excellence, the availability of\\na wide variety of application software, ease of use, and connectivity\\nsolutions.\\n\\n     In the future, the Company plans to capitalize on its leadership\\nposition in integrating hardware and software to furnish the building\\nblocks of personal and corporate computing while participating in\\nsoftware and communications markets either directly or through\\nbusiness alliances.  Through this strategy, the Company expects to\\nbecome a leading provider of enterprise-wide solutions for business as\\nwell as information appliances for the home by offering the products\\nand services that customers need to easily access and manage\\ninformation.  The Company believes its key to success is leveraging\\nthe Company\\'s marketing skills, engineering talent, purchasing power,\\nmanufacturing capabilities, distribution strengths, and brand name to\\nbring to market high-quality cost-competitive products in different\\nprice ranges with features that appeal to a wide variety of customers.\\n\\nCompaq Products\\n\\n     The Company\\'s products are available with a broad variety of\\nfunctions and features designed to accommodate a wide range of user\\nneeds.  The Company\\'s PC CPU products are backed by three-year limited\\nwarranties, which are among the most comprehensive in the industry.\\n\\n     In 1995 sales of commercial desktop personal computers and\\nrelated options accounted for 45% of the Company\\'s sales.  The Deskpro\\nproduct line is the Company\\'s high-performance line with advanced\\nfeatures; ProLinea products are the Company\\'s business value line.  In\\nMarch 1995 the Company announced the largest product introduction in\\nits history, which included more than 100 models of its next\\ngeneration ProLinea and Deskpro desktop PCs.  The new Deskpro PCs\\ndelivered an innovative set of desktop management tools and features\\nthat reduce the total cost of PC ownership.  Compaq\\'s \"Intelligent\\nManageability\" solutions result from bringing the Company\\'s server\\nmanagement technology to the desktop, combined with joint development\\nefforts with leading network software providers.  Later in the year\\nthe Company announced additional desktop products, including products\\nthat feature Intel\\'s Pentium Pro processor and a rewritable optical CD-\\nROM drive.  These new PCs include the Compaq Deskpro XL 6150, Compaq\\'s\\nmost powerful desktop, and the ProLinea 6150E, which offers powerful\\ntechnology at a more affordable price.\\n\\n     In May 1995 the Company formed the Consumer Products Division as\\npart of its on-going effort to intensify its focus on consumer PCs and\\nthe retail marketplace.  In 1995 sales of computers and related\\noptions aimed at the consumer and home office market accounted for 16%\\nof the Company\\'s sales.  Building on the success of the Compaq family\\nof Presario consumer PCs, the Company introduced the industry\\'s first\\n\"quad-speed\" CD-ROM drives on all Presario models early in the year,\\nand in the fourth quarter, introduced the next generation Presario\\n9500, 7100 and 5500 Series, featuring innovative audio and video\\ntechnology.\\n\\n     Sales of portable personal computers and related options\\naccounted for 17% of the Company\\'s sales in 1995.  In October the\\nCompany began shipping its high-performance LTE 5000 family of\\nproducts featuring 64-bit Pentium architecture and the industry\\'s\\nhighest hard drive storage and memory capacity.  The Company also made\\nsignificant enhancements to its Contura value line, featuring faster\\nprocessors, larger displays, higher capacity hard drives, and more\\nmemory.\\n\\n     Sales of PC system products and related options accounted for 22%\\nof the Company\\'s sales in 1995. Delivering mid-range functionality in\\nits most powerful, most tightly integrated server platforms to date,\\nCompaq introduced new ProLiant 4500 and 1500 models, including the\\nProLiant 4500 NT/Array model--the first server product to ship with\\nMicrosoft BackOffice.  Compaq also announced new versions of\\nSmartStart, Compaq\\'s integration tool that optimizes software/hardware\\nconfiguration and simplifies installation and delivery of reliable\\nservers, and Compaq Insight Manager, Compaq\\'s application for managing\\nnetwork desktops and servers.  In the fourth quarter of 1995 the\\nCompany acquired NetWorth, Inc., a publicly-held developer,\\nmanufacturer, and supplier of fast ethernet hubs, switches, and\\nrelated products, and Thomas-Conrad Corporation, a privately-held\\nmaker of network interface cards and hubs.  Through these\\nacquisitions, third-party alliances, and existing products, the\\nCompany plans to offer total end-to-end network solutions from the\\nserver to the client.\\n\\n     The Company offers a number of options products for its desktop,\\nportable, and systems products, including add-on video display\\nmonitors, memory upgrades, storage and backup devices, docking\\nstations, and communications products.  In January 1996 the Company\\nannounced five new monitors, each with energy conservation features\\nand low emissions (MPR-II compliant) as well as a Sony Trinitron\\ndisplay tube, for graphics-intensive uses.\\n\\nProduct Development\\n\\n     The Company is actively engaged in the design and development of\\nadditional products and enhancements to its existing products.  During\\n1995, 1994, and 1993, the Company expended $270 million, $226 million,\\nand $169 million, respectively, on research and development.  Since\\npersonal computer technology develops rapidly, the Company\\'s continued\\nsuccess is dependent on the timely introduction of new products with\\nthe right price and features.  Its engineering effort focuses on new\\nand emerging technologies as well as design features that will\\nincrease manufacturing efficiency and lower production costs.  In 1995\\nthe Company focused on technological developments for PC products\\nrelated to color and monochrome active matrix flat panels, power\\nconservation, communication devices, full-motion video and stereo\\nsound, full-duplex speaker telephone, television tuner, user-friendly\\nsoftware, component densification, speech recognition technology, and\\nserver and client management software.\\n\\n     In 1996 the Company\\'s Systems Division plans to reinforce its\\nleadership position in the file server market and to expand its\\npresence in the distributed enterprise market for complex enterprise-\\nclass networks.  In February Compaq introduced the ProLiant 4500 5/166\\nenterprise-class server as well as enterprise-class network storage\\nsolutions and microprocessor upgrades in other high performance\\nProLiant and ProSignia servers.  The Company also announced additional\\nenhancements to SmartStart and Compaq Insight Manager.  In the second\\nhalf of 1996 Compaq will formally introduce the first router products\\nfrom its newly-formed Internetworking Products Group and introduce its\\nfirst Pentium Pro server.  Throughout 1996, the Company plans to\\ndeliver leadership platforms; enhance the integration, maintenance and\\nmanagement of servers; and build upon strategic alliances with joint\\ndevelopment partners, software vendors, reseller channels, systems\\nintegrators and service providers.  The Company intends to be a\\nleading provider of platforms, tools, and services that enable\\ncustomers to have instant access through networked information systems\\nto up-to-the minute data essential to running their businesses.  In\\nOctober the Company announced a collaboration with Tandem Computer\\nCorporation and Microsoft Corporation to develop an industry standard\\nfor clustering, a technique that permits the resources of several\\ncomputers to be linked.  The Company and Tandem Computer Corporation\\nwill collaborate on an industry standard means of providing high\\nspeed, fault tolerant messaging between clustered servers.  This\\ntechnology will fit into the WindowsNT server availability and\\nscalability strategy also announced by Microsoft Corporation.\\n\\n     The Company intends to be the Internet platform leader, both on\\nthe network server side and the client side.  On the network server\\nside, the Company will leverage its strong partnerships along with its\\nexisting strength in servers and internetworking devices to deliver\\noptimized, cost-effective Internet servers.  On the client side, the\\nCompany will leverage existing strengths in home and commercial PCs to\\nensure the highest level of Internet readiness, and will develop new\\nlower-cost devices that can open new markets for Internet access.\\n\\n     Compaq plans to continue its desktop leadership in 1996 with the\\ndelivery of the Pentium Pro-based products that will address the high\\nperformance and graphic-display intensive needs of engineering and\\nfinancial analyst workstation customers.  The Company also plans to\\ncontinue its leadership in Intelligent Manageability by introducing\\ndesktop enhancements that help companies further reduce their overall\\ncost of ownership.  In October the Company and Intel Corporation\\nannounced their plans to develop and co-market integrated desktop\\nstandards-based, real-time video conferencing solutions for the\\nbusiness environment based on Intel\\'s ProShare Personal Conferencing\\ntechnology.  This effort is expected to result in a broad, multi-\\nproduct array of interoperable conferencing solutions.\\n\\n     The Company has initiated an aggressive 1996 new product strategy\\nin its Portables Division, including a new product family that will\\nbring to market significant advances in sound quality, telephone and\\ncommunications capabilities.  In January the Company introduced its\\nfirst Ethernet LAN PC card that allows users of notebook computers to\\nconnect easily to any corporate network.  Customers can also expect to\\nsee extensions to the LTE 5000 product family, with new options,\\nlarger screens, faster processors, and extended communications\\ndevices.\\n\\n     In January 1996 the Company introduced its spring lineup of home\\nmultimedia PCs that includes the industry\\'s first combination\\nscanner/keyboard, \"rewritable\" CD-ROM drives, 6X-speed CD-ROM drives,\\nand Pentium processors.  Entering the field of \"edutainment\" for the\\nfirst time, in early 1996 the Company and Fisher-Price, Inc. unveiled\\nWonder Tools, a new line of interactive computer toys, peripherals and\\nsoftware titles designed for children ages three to seven.  The\\nproducts are designed to be used with any Windows-based PC, and are\\nscheduled to be available in North America during the second half of\\n1996.  In the second half of the year, the Company plans to announce\\nits fall line-up of home PCs.  This product line will represent the\\nfirst \"grounds-up\" redesign of home PCs resulting from the formation\\nof the Compaq Consumer Division in May 1995.  This product lineup will\\ntarget distinct customer segments and introduce entirely new product\\ncategories for the home PC buyer.  In addition, the Company is\\ncurrently evaluating technology developments such as videophone\\ncommunications, arcade-level graphics, easier to use software\\ninterfaces, and colorful new PC designs.\\n\\nManufacturing and Materials\\n\\n     The Company\\'s PC manufacturing operations consist of\\nmanufacturing finished products and various circuit boards from\\ncomponents and subassemblies that the Company acquires from a wide\\nrange of vendors. Certain of the Company\\'s products are manufactured\\nby third party original equipment manufacturers. The Company has PC\\nmanufacturing operations located in Houston, Texas; Erskine, Scotland;\\nSingapore; Jaguariuna, Brazil; and Shenzhen, China.  Products sold in\\nEurope are manufactured primarily in the Company\\'s facilities in\\nErskine, Scotland, and Singapore.  Products sold in the U.S. are\\nprimarily manufactured in the Company\\'s facilities in Houston, Texas,\\nand Singapore.  Products sold in Asia are primarily manufactured in\\nSingapore, while products sold in Latin America are primarily\\nmanufactured in Houston, Texas, and Jaguariuna, Brazil.  In addition,\\nthe Company manufactures hubs and high speed switches in Irving,\\nTexas, and network interface cards in Austin, Texas.\\n\\n     The Company believes that there is a sufficient number of\\ncompetent vendors for most components and subassemblies.  A\\nsignificant number of components, however, are purchased from single\\nsources due to technology, availability, price, quality, or other\\nconsiderations.  Key components and processes currently obtained from\\nsingle sources include certain of the Company\\'s displays,\\nmicroprocessors, application specific integrated circuits and other\\ncustom chips, and certain processes relating to construction of the\\nplastic housing for the Company\\'s computers.  In addition, new\\nproducts introduced by the Company often initially utilize custom\\ncomponents obtained from only one source until the Company has\\nevaluated whether there is a need for additional suppliers.  In the\\nevent that a supply of a key single-sourced material, process, or\\ncomponent were delayed or curtailed, the Company\\'s ability to ship the\\nrelated product in desired quantities and in a timely manner could be\\nadversely affected.  The Company attempts to mitigate these risks by\\nworking closely with key suppliers on product plans, strategic\\ninventories, and coordinated product introductions.\\n\\n     Like other participants in the personal computer industry, Compaq\\nordinarily acquires materials and components through purchase orders\\ntypically covering the Company\\'s requirements for periods averaging 90\\nto 120 days.  From time to time the Company has experienced\\nsignificant price increases and limited availability of certain\\ncomponents that are available from multiple sources, such as dynamic\\nrandom-access memory devices.  At times the Company has been\\nconstrained by parts availability in meeting product orders and future\\nconstraints could have an adverse effect on the Company\\'s operating\\nresults.  On occasion the Company acquires component inventory in\\nanticipation of supply constraints.  A restoration of component\\navailability and resulting decline in component pricing more quickly\\nthan anticipated could have an adverse effect on the Company\\'s\\noperating results.\\n\\nMarketing and Distribution\\n\\n     The Company distributes its products principally through third-\\nparty computer resellers.  The Company\\'s products are sold to large\\nand medium-sized business and government customers primarily through\\ndealers, value-added resellers, and systems integrators and to small\\nbusiness and home customers principally through dealers and consumer\\nchannels.  In response to changing industry practices and customer\\npreferences, the Company is continuing its expansion of distribution\\nestablishments, especially mass merchandise stores, consumer\\nelectronics outlets, and computer superstores.  The Company also sells\\ndirectly to small business and home customers through the Company\\'s\\nDirectPlus mail order business that features a variety of personal\\ncomputers, printers, and software products.\\n\\n     In 1995 North American Division sales constituted 49% of the\\nCompany\\'s total sales and Europe, Middle East, and Africa Division\\nsales constituted 36%.  The Company\\'s North America Division markets\\nits products in the United States and Canada, while the Company\\'s\\nEurope, Middle East, and Africa Division, based in Munich, Germany,\\nfocuses on opportunities in Europe as well as in parts of Africa and\\nthe Middle East.  The sales of the Company\\'s Asia/Pacific, Japan, and\\nLatin America Divisions, which focus on opportunities in these high\\ngrowth areas, constitute the remaining 15% of the Company\\'s total\\nsales.  The Company\\'s products are now sold by dealers in more than\\n100 countries.  For further geographic information for 1995, 1994, and\\n1993, see Management\\'s Discussion and Analysis of Financial Condition\\nand Results of Operations and Note 10 of Notes to Consolidated\\nFinancial Statements.\\n\\nService and Support\\n\\n     The Company provides support and warranty repair to its customers\\nthrough full-service computer dealers and independent third-party\\nservice companies.  The Company offers its customers CompaqCare, which\\nincludes a number of customer service and support programs, most\\nnotably three-year limited warranties on PC products (excluding\\nmonitors and batteries) and in the U.S. round-the-clock lifetime\\ntelephone technical support for Compaq hardware products at no\\nadditional charge to the customer.  In 1995 Digital Multivendor\\nCustomer Services became the Company\\'s Global Service and Support\\nProvider for its systems products.\\n\\nPatents, Trademarks, and Licenses\\n\\n     The Company held 422 patents (including 73 design patents) and\\nhad 455 patent applications (including 27 design patent applications)\\npending with the United States Patent and Trademark Office at the\\nclose of 1995.  In addition, the Company has registered certain\\ntrademarks in the United States and in a number of foreign countries.\\nWhile the Company believes that patent and trademark protection plays\\nan important part in its business, the Company relies primarily upon\\nthe technological expertise, innovative talent, and marketing\\nabilities of its employees.\\n\\n     The Company has from time to time entered into cross-licensing\\nagreements with other companies holding patents to technology used in\\nthe Company\\'s products as well as companies using patents to\\ntechnology held by the Company.  The Company holds a license from IBM\\nfor all patents issuing on applications filed prior to July 1, 1993,\\nand has entered into a patent cross-license agreement with Texas\\nInstruments, Inc., for all patents issuing on applications filed prior\\nto December 31, 2005.  In January 1996 the Company and Intel\\nCorporation entered into a ten year patent cross-license agreement.\\n\\nSeasonality\\n\\n     Although the Company does not consider its business to be highly\\nseasonal, the Company in general experiences seasonally higher sales\\nand earnings in the fourth quarter of the year.\\n\\nWorking Capital\\n\\n     Information regarding the Company\\'s working capital position and\\npractices is set forth under Item 7 of this Annual Report on Form 10-K\\nunder the caption \"Liquidity and Capital Resources.\"\\n\\nCustomers\\n\\n     No customer of the Company accounted for 10% or more of sales for\\n1995.  Ingram Micro, Inc. and Intelligent Electronics, Inc. accounted\\nfor 7% and 5% of 1995 sales, respectively.\\n\\nBacklog\\n\\n     The Company\\'s resellers typically purchase products on an as-\\nneeded basis and resellers frequently change delivery schedules and\\norder rates depending on market conditions.  Unfilled orders can be,\\nand often are, canceled at will and without penalties.  In the\\nCompany\\'s experience, however, the actual amount of unfilled orders at\\nany particular time is not a meaningful indication of its future\\nbusiness prospects since orders rapidly become balanced as soon as\\nsupply begins meeting demand.  In 1995 the Company was unable to\\nproduce certain products on a timely basis due to supply constraints\\non certain components.  Should the Company be unable to meet demand\\nfor its products on a timely basis,  customer satisfaction and sales\\ncould be adversely affected.\\n\\nCompetition\\n\\n     The computer industry is intensely competitive with many U.S.,\\nJapanese, and other international companies vying for market share.\\nThe market continues to be characterized by rapid technological\\nadvances in both hardware and software developments that have\\nsubstantially increased the capabilities and applications of\\ninformation management products and have resulted in the frequent\\nintroduction of new products.  The principal elements of competition\\nare price, product performance, product quality and reliability,\\nservice and support, marketing and distribution capability, and\\ncorporate reputation.  While the Company believes that its products\\ncompete favorably based on each of these elements, the Company could\\nbe adversely affected if its competitors introduce innovative or\\ntechnologically superior products or offer their products at\\nsignificantly lower prices than the Company.  No assurance can be\\ngiven that the Company will have the financial resources, marketing\\nand service capability, or technological knowledge to continue to\\ncompete successfully.  The Company\\'s results could also be adversely\\naffected should it be unable to implement effectively its\\ntechnological and marketing alliances with other companies, such as\\nMicrosoft, Intel, Sharp, Novell, Oracle, SAP, Sybase, Cisco Systems,\\nTexas Instruments, AMD, and VLSI, among others, and to manage the\\ncompetitive risks associated with these relationships.\\n\\nEnvironmental Laws and Regulations\\n\\n     The Company recognizes that operating in a manner that is\\ncompatible with the environment is good for its community, employees,\\ncustomers, and business.  The Company integrates numerous\\nenvironmental features in the product design and manufacturing process\\nthat reduce the potential environmental impact during the lifecycle of\\nits products and its products are designed and manufactured to meet a\\nvariety of the world\\'s environmental standards and expectations.  The\\nCompany uses no chlorofluorocarbons (CFCs) in its worldwide\\nmanufacturing operations and undertakes ongoing environmental\\nprograms, including waste reduction, energy conservation, recycling,\\nand design for environment.  The Company maintains a worldwide\\nenvironmental health and safety audit program.  The audit program\\nincludes management system and compliance evaluations.  Compliance\\nwith laws enacted for protection of the environment to date has had no\\nmaterial effect upon the Company\\'s capital expenditures, earnings, or\\ncompetitive position.  Although the Company does not anticipate any\\nmaterial adverse effects in the future based on the nature of its\\noperations and the purpose of environmental laws and regulations,\\nthere can be no assurance that such laws or future laws will not have\\na material adverse effect on the Company.\\n\\nEmployees\\n\\n     At December 31, 1995 the Company had 17,055 full-time regular\\nemployees and 6,829 temporary and contract workers engaged in\\nmanufacturing operations, engineering, research and development,\\nmarketing, sales, service, and administrative activities.  The Company\\nbelieves that its ability to attract and retain skilled personnel\\nappropriately is critical to its success.  Accordingly, the Company\\nhas developed competitive human resources policies consistent with its\\nbusiness plan.\\n\\nItem 2.  Properties\\n\\n     The Company\\'s principal administrative facilities and a\\nmanufacturing facility are located in Houston, Texas.  These\\nfacilities include 860,000 square feet of manufacturing space on the\\nCompany\\'s 1,000-acre Compaq Center in Houston.  The Company owns 13\\nadministrative buildings with a total of 2,600,000 square feet of\\nspace at Compaq Center.  The Company leases sales offices in eight\\ncities in the United States as well as certain administrative and\\nwarehouse facilities.  The Company leases manufacturing facilities in\\nAustin, Texas, and Irving, Texas, that are used in the manufacture of\\nhubs, high speed switches, and network interface cards.\\n\\n     The Company also owns or leases certain facilities abroad.  The\\nCompany owns a 43-acre tract in Erskine, Scotland, where it has\\n540,000 square feet of manufacturing space.  In Singapore the Company\\nowns 720,000 square feet of manufacturing space and leases 150,000\\nsquare feet.  In Brazil the Company owns a 150,000 square foot\\nmanufacturing facility and in China the Company leases a 90,000 square\\nfoot manufacturing facility. The Company leases sales and\\nadministrative offices in 35 European and African locations, 9\\nlocations in Latin America, 21 locations in the Asia Pacific region, 3\\nlocations in Japan, and 5 locations in Canada.  The Company\\'s 372,000\\nsquare foot European distribution center is located in Gorinchem, The\\nNetherlands.  The Company also leases warehouse space in a number of\\nlocations.\\n\\nItem 3.  Legal Proceedings\\n\\n     The Company has been named as a defendant in a number of\\nrepetitive stress injury lawsuits, primarily in New York state courts\\nor federal district courts for the New York City area.  In each of\\nthese lawsuits the plaintiff alleges that he or she suffers from\\nsymptoms generally known as repetitive stress injury, which allegedly\\nwere caused by the design of the keyboard or a failure to warn of the\\nhazards of misuse.  The suits naming the Company are similar to those\\nfiled against other major suppliers of personal computers.  Ultimate\\nresolution of the litigation against the Company may depend on\\nprogress in resolving this type of litigation overall.  The Company is\\nunable to determine at this time the outcome of these suits or the\\nlikelihood of the Company being named in additional suits by\\nplaintiffs alleging similar injuries.  The Company has denied these\\nclaims and intends to defend vigorously the suits.  The Company\\nbelieves that the claims will not have a material adverse effect on\\nthe Company\\'s consolidated financial position or operating results.\\n\\nItem 4.  Submission of Matters to a Vote of Security Holders\\n\\n     There were no matters submitted to a vote of security holders\\nduring the fourth quarter of 1995.\\n\\n\\nPART II\\n\\nItem 5.  Market for Registrant\\'s Common Equity and Related Stockholder\\nMatters\\n\\nMarket for Common Stock\\n\\n     The Company\\'s Common Stock is listed on the New York Stock\\nExchange and trades under the symbol CPQ.  The following table\\npresents the high and low sale prices for the Company\\'s Common Stock\\nfor each quarter of 1995 and 1994 (adjusted to reflect a three-for-one\\nstock split effective May 31, 1994), as reported by Dow Jones\\nHistorical Stock Quote Reporter Service.\\n\\n                      1995                   1994\\n                 High       Low         High       Low\\n                ------    ------       ------    ------\\n1st quarter     $44.38    $31.75       $34.96    $24.17\\n2nd quarter      46.25     30.38        39.88     30.75\\n3rd quarter      54.75     42.75        39.38     29.50\\n4th quarter      56.75     42.75        42.12     30.75\\n\\nHolders of Record\\n\\n     At January 31, 1996, there were 8,984 holders of record of the\\nCompany\\'s common stock.\\n\\nDividends\\n\\n     The Company has never paid cash dividends on its common stock.\\n\\nRegistration Statements on Form S-8\\n\\n     For the purposes of complying with the amendments to the rules\\ngoverning Form S-8 under the Securities Act of 1933, the undersigned\\nregistrant hereby undertakes as follows, which undertaking shall be\\nincorporated by reference into registrant\\'s Registration Statements on\\nForm S-8 Nos. 33-44115, 33-31819, 33-23504, 33-7499, 2-89925, 33-\\n10106, 33-38044, 33-16987, and 33-62603.\\n\\n     That, insofar as indemnification for liabilities arising under\\nthe Securities Act of 1933 may be permitted to directors, officers,\\nand controlling persons of the Registrant pursuant to any provision or\\narrangement whereby the Registrant may indemnify a director, officer,\\nor controlling person of the Registrant against liabilities arising\\nunder the Securities Act, or otherwise, the Registrant has been\\nadvised that in the opinion of the Securities and Exchange Commission\\nsuch indemnification is against public policy as expressed in the Act\\nand is, therefore, unenforceable.  In the event that a claim for\\nindemnification against such liabilities (other than the payment by\\nthe Registrant of expenses incurred or paid by a director, officer, or\\ncontrolling person of the Registrant in the successful defense of any\\naction, suit, or proceeding) is asserted by such director, officer, or\\ncontrolling person in connection with the securities being registered,\\nthe Registrant will, unless in the opinion of its counsel the matter\\nhas been settled by controlling precedent, submit to a court of\\nappropriate jurisdiction the question whether such indemnification by\\nit is against public policy as expressed in the Act and will be\\ngoverned by the final adjudication of such issue.\\n\\nTermination of Stockholders Rights Plan\\n\\n     On May 18, 1989, the Company\\'s Board of Directors approved a\\nStockholders Rights Plan, which was registered with the Securities and\\nExchange Commission on Form 8-A and listed with the New York Stock\\nExchange on June 5, 1989.  In December 1995, the Rights Agreement was\\namended, terminating this plan on December 31, 1995.\\n\\n\\nItem 6.  Selected Consolidated Financial Data\\n\\n     The following data have been derived from consolidated\\nfinancial statements that have been audited by Price Waterhouse\\nLLP, independent accountants. The information set forth below is\\nnot necessarily indicative of the results of future operations\\nand should be read in conjunction with the consolidated financial\\nstatements and notes thereto appearing elsewhere in this Annual\\nReport on Form 10-K.\\n\\nYear ended December 31,\\nIn millions,\\n except per share amounts        1995     1994     1993     1992     1991\\n- --------------------------------------------------------------------------\\nConsolidated Statement of Income Data:\\n\\nSales                          $14,755  $10,866   $7,191   $4,100   $3,271\\nCost of sales                   11,367    8,139    5,493    2,905    2,053\\n                               -------------------------------------------\\n                                 3,388    2,727    1,698    1,195    1,218\\n                               -------------------------------------------\\n\\nSelling, general, and\\n administrative expense          1,594    1,235      837      699      722\\nResearch and development costs     270      226      169      173      197\\nPurchased in-process\\n technology                        241\\nOther income and expense, net       95       94       76       28      145\\n                               -------------------------------------------\\n                                 2,200    1,555    1,082      900    1,064\\n                               -------------------------------------------\\nIncome from consolidated\\n companies before provision\\n for income taxes                1,188    1,172      616      295      154\\nProvision for income taxes         399      305      154       97       43\\n                               -------------------------------------------\\nIncome from consolidated\\n companies                         789      867      462      198      111\\nEquity in net income of\\n affiliated company                                            15       20\\n                               -------------------------------------------\\nNet income                     $   789  $   867   $  462   $  213   $  131\\n                               ===========================================\\nEarnings per common and\\n common equivalent share:\\n  Primary                      $  2.88  $  3.23   $ 1.82   $  .86   $  .50\\n                               ===========================================\\n  Assuming full dilution       $  2.87  $  3.21   $ 1.78   $  .84   $  .50\\n                               ===========================================\\n\\nDecember 31,\\nIn millions                      1995     1994     1993     1992     1991\\n- --------------------------------------------------------------------------\\nConsolidated Balance Sheet Data:\\n\\nTotal assets                   $ 7,818  $ 6,166   $4,084   $3,142   $2,826\\nLong-term debt                     300      300                         73\\nStockholders\\' equity             4,614    3,674    2,654    2,006    1,931\\n\\n\\nItem 7.  Management\\'s Discussion and Analysis of Financial Condition\\nand Results of Operations\\n\\nThe following discussion should be read in conjunction with the\\nconsolidated financial statements.\\n\\nResults of Operations\\n\\n     The following table presents, as a percentage of sales, certain\\nselected consolidated financial data for each of the three years in\\nthe period ended December 31, 1995.\\n\\nYear ended December 31,                       1995      1994      1993\\n- -----------------------------------------------------------------------\\nSales                                        100.0%    100.0%    100.0%\\nCost of sales                                 77.0      74.9      76.4\\n                                             --------------------------\\nGross margin                                  23.0      25.1      23.6\\n                                             --------------------------\\n\\nSelling, general, and\\n administrative expense                       10.8      11.4      11.6\\nResearch and development costs                 1.8       2.1       2.3\\nPurchased in-process technology (1)            1.6\\nOther income and expense, net                   .7        .8       1.1\\n                                             --------------------------\\n                                              14.9      14.3      15.0\\n                                             --------------------------\\nIncome from consolidated companies before\\n provision for income taxes                    8.1%     10.8%      8.6%\\n                                             ==========================\\n\\n(1)  Represents impact of a $241 million non-recurring, non-tax\\n     deductible charge for purchased in-process technology in\\n     connection with acquisitions that occurred during 1995.\\n\\nSales\\n\\n     Sales for 1995 increased approximately $3.9 billion or 36% over\\nthe prior year as compared with an increase of $3.7 billion or 51% in\\n1994 from 1993.  Sales growth occurred in all regions.  North American\\nsales, which include Canada, increased 33% during 1995, compared with\\nan increase of 49% in 1994 from 1993.  International sales, excluding\\nCanada, represented 51% of total sales in 1995 as compared with 50% in\\n1994 and 49% in 1993.  European sales increased 40% during 1995\\ncompared to an increase of 41% in 1994 from 1993.  Other international\\nsales, excluding Canada, increased 37% during 1995, compared with an\\nincrease of 95% in 1994 from 1993.  The Company believes that the\\nlower rates of growth in Asia and Latin America in 1995 were related\\nto economic conditions in certain Latin American countries and a\\ngeneral tightening of the Company\\'s credit practices in Latin America\\nand Asia Pacific.\\n\\n     The personal computer industry is highly competitive and marked\\nby frequent product introductions, continual improvement in product\\nprice/performance characteristics, and a large number of competitors.\\nApproximately 75% of the Company\\'s CPU sales in 1995 were derived from\\nproducts introduced in 1995.  These new products have been designed to\\nallow the Company to achieve low product costs while maintaining the\\nquality and reliability for which the Company\\'s products have been\\nknown, thereby increasing the Company\\'s ability to compete on price\\nand value.\\n\\n     The significant increase in sales in 1995 stemmed primarily from\\nan increase in the number of units sold and an increase in sales of\\noptions associated with CPU products.  In 1995 the Company\\'s worldwide\\nunit sales increased 20% while they increased 54% in 1994.  The 1995\\nincrease included an 18% expansion in unit sales of the Company\\'s\\ncommercial desktop CPU products, a 6% decrease for the Company\\'s\\nportable CPU products, a 44% increase for the Company\\'s consumer\\ndesktop CPU products, and a 53% increase for the Company\\'s systems CPU\\nproducts.  Unit sales growth primarily resulted from the Company\\'s\\naggressively priced Compaq ProLinea line in its commercial desktop\\nproducts, the Compaq Presario line in its consumer products, and the\\nCompaq ProSignia line in its tower systems products.  The Company\\nbelieves that its 1995 sales in dollars increased more rapidly than\\nthe personal computer industry as a whole while its unit sales did not\\nincrease as much as the industry as a whole.  According to third-party\\nestimates, worldwide unit sales of personal computers increased\\napproximately 25% in 1995 in contrast to a 23% increase in 1994.\\nThird-party estimates also indicate that industry sales increased by\\napproximately 30% worldwide in 1995, compared to a 22% increase in\\n1994.\\n\\n     The Company\\'s average sales price per unit increased in 1995 from\\n1994, primarily as a result of a higher mix of option and systems\\nproducts, a generally higher mix of units using Pentium\\nmicroprocessors, and currency fluctuations.  Price competition\\ncontinues to have a significant impact on prices of the Company\\'s\\nproducts, especially those aimed at the consumer market, and\\nadditional pricing actions may occur as the Company attempts to\\nmaintain its competitive mix of price and performance characteristics.\\nThe Japanese market in particular experienced a very aggressive\\npricing environment in the fourth quarter of 1995 as certain Japanese\\ncompetitors sought to gain market share.  The Company attempts to\\nmitigate the effect of any pricing actions through implementation of\\ndesign-to-cost goals, the aggressive pursuit of reduced component\\ncosts, manufacturing efficiencies, and control of operating expenses.\\n\\nGross Margin\\n\\n     Gross margin as a percentage of sales was 23.0% in 1995, down\\nfrom 25.1% in 1994 and 23.6% in 1993.  The decrease from 1994\\nprimarily resulted from pricing actions, a rising proportion of sales\\nof the Company\\'s consumer products, a lower ratio of sales of its\\nportables products, increased competitiveness in the Japanese market,\\nand product transition costs, partially offset by a higher mix of\\noptions and systems CPU products and currency fluctuations.  The\\nCompany maintains a strategy designed to increase its market share\\nprofitably and continues to expand its presence in the price sensitive\\nconsumer market segment.  This strategy, along with the expectation of\\na continued aggressive pricing environment, particularly in Japan, and\\nscheduled product transitions, will continue to put pressure on the\\nCompany\\'s gross margins.\\n\\nOperating Expenses\\n\\n     Research and development costs increased 19% in absolute dollars\\n(to $270 million from $226 million) while declining as a percentage of\\nsales in 1995 as compared to 1994.  Because the personal computer\\nindustry is characterized by rapid product cycles and price cuts on\\nolder products, the Company believes that its long-term success is\\ndirectly related to its ability to bring new products to market on a\\ntimely basis and to reduce the costs of new and existing products.\\nAccordingly, it is committed to continuing a significant research and\\ndevelopment program and research and development costs are likely to\\nincrease in absolute dollars in 1996.\\n\\n     Selling, general, and administrative expense increased 29% in\\namount in 1995 while declining as a percentage of sales.  The decrease\\nas a percentage of sales reflects the Company\\'s ongoing efforts to\\nmanage operating expense growth relative to sales and gross margin\\nlevels.  The increase in the amount of expense resulted from domestic\\nand international selling expense associated with higher unit volumes\\nas well as expense incurred in connection with the introduction of new\\nproducts, the entry into new markets (both domestically and\\ninternationally), the expansion of distribution channels, and a\\ngreater emphasis on advertising, customer service, and technical\\nsupport.  The Company anticipates that in 1996 selling, general, and\\nadministrative expense will increase in absolute dollars as it expands\\ninto new markets, supports significant new product introductions, and\\nincreases its investment in the area of service and support,\\nespecially in support of its systems business.  The Company strives to\\nmanage total operating expenses in line with sales growth and gross\\nmargin levels.\\n\\nOther Items\\n\\n     Interest expense, net of interest and dividend income from\\ninvestment of excess funds, was $46 million, $49 million, and $43\\nmillion in 1995, 1994, and 1993, respectively.  Net interest expense\\nwas lower in 1995 when compared to 1994 primarily due to an increase\\nin interest and dividend income associated with generally higher cash\\nbalances throughout 1995, partially offset by higher interest expense\\nin connection with the Company\\'s borrowings in Latin America and\\nworldwide foreign exchange hedging program.  Net interest expense was\\nhigher for 1994 than 1993 for similar reasons.\\n\\n     The translation gains and losses relating to the financial\\nstatements of the Company\\'s international subsidiaries, net of\\noffsetting gains and losses associated with hedging activities related\\nto the net monetary assets of these subsidiaries, are included in\\nother income and expense and resulted in net losses of $33 million,\\n$46 million, and $15 million in 1995, 1994, and 1993, respectively.\\n\\n     In 1995 the Company recorded a charge associated with its\\npurchase of NetWorth, Inc. and Thomas-Conrad Corporation during the\\nfourth quarter and another small company purchased earlier in 1995.\\nThe non-recurring, non-tax deductible charge for purchased in-process\\ntechnology totaled $241 million.  In 1993 the Company recorded charges\\nassociated with its plans to withdraw from the printer business,\\nincluding costs related to certain contractual liabilities and the\\nwrite-downs of the carrying value of certain assets. The charge, net\\nof the reversal of previously recorded restructuring reserves, totaled\\n$10 million.\\n\\n     The Company\\'s effective tax rate was 34% in 1995, 26% in 1994,\\nand 25% in 1993.  The increase from 1993 to 1994 is due to a decline\\nin the ratio of Singapore earnings to total earnings  The increase\\nfrom 1994 to 1995 is attributable to the non-tax deductible charge\\nassociated with the Company\\'s acquisitions and a decline in the ratio\\nof earnings derived from the Company\\'s Singaporean manufacturing\\nsubsidiary to total earnings.  The Company anticipates that the\\nproportion of its Singaporean earnings will continue to decline in\\n1996 and, as a result, estimates that its tax rate in 1996 will be\\napproximately 30%.  The Company\\'s tax rate is heavily dependent upon\\nthe mix of earnings of its Singaporean manufacturing subsidiary due to\\nthis subsidiary\\'s earnings not being subject to taxes in Singapore\\nuntil August 2001 (with potential extension to August 2004 if certain\\ncumulative investment levels and other conditions are met) and the\\nCompany\\'s decision to invest a portion of the undistributed earnings\\nof this subsidiary indefinitely in operations outside the United\\nStates.  These earnings would become subject to U.S. tax if they were\\nactually or deemed to be remitted to the Company as dividends or if\\nthe Company should sell its stock in this subsidiary.  As a result,\\nthe Company does not provide tax on these earnings, which lowers its\\neffective tax rate.  The Company has invested $713 million of the\\nundistributed earnings of this subsidiary since 1993, and anticipates\\nthat the investment will reach $1 billion during 1996.  Should the\\nCompany choose  to discontinue its permanent reinvestment policy, the\\nCompany\\'s effective tax rate will increase at that time.\\n\\nLiquidity and Capital Resources\\n\\n     During 1995 the Company\\'s working capital increased to $3.8\\nbillion compared to $3.1 billion at December 31, 1994.\\n\\n     The Company\\'s cash, cash equivalents, and short-term investments\\nincreased to $745 million at December 31, 1995, from $471 million at\\nDecember 31, 1994, primarily because of cash received in connection\\nwith higher sales volumes and cash received in connection with the\\nexercise of employee stock options, partially offset by increases in\\ninventories and accounts receivable related to the Company\\'s support\\nof higher production and sales volumes and cash used for acquisitions.\\nAccounts receivable increased to $3.1 billion at December 31, 1995,\\nfrom $2.3 billion at December 31, 1994, primarily as a result of\\nhigher sales levels.  Inventory levels increased to $2.2 billion from\\n$2.0 billion during that period.  The increase in inventory resulted\\nfrom production planning associated with higher sales levels partially\\noffset by improvements in inventory turns.\\n\\n     Cash used in 1995 for the purchase of property, plant, and\\nequipment totaled $391 million.  The Company estimates that capital\\nexpenditures for land, buildings, and equipment during 1996 will be\\n$450 million.  The Company has commitments for only a small portion of\\nsuch amounts and the actual level of spending will depend on a variety\\nof factors, including general economic conditions and the Company\\'s\\nbusiness.  The Company from time to time may borrow funds for actual\\nor anticipated funding needs or because it is economically beneficial\\nto borrow funds for the Company\\'s needs instead of repatriating funds\\nin the form of dividends from its foreign subsidiaries.  The Company\\ncurrently expects to fund expenditures for capital requirements as\\nwell as liquidity needs created by changes in working capital from a\\ncombination of available cash balances, internally generated funds,\\nand financing arrangements.  The Company has a $250 million syndicated\\ncredit facility, which will expire in October 1996, and a $1 billion\\nsyndicated credit facility, which will expire in October 2000, both of\\nwhich were unused at December 31, 1995.  The Company has established a\\ncommercial paper program, which is supported by the syndicated credit\\nfacility.  In the U.S. and various international locations the Company\\nhas uncommitted bank lines of credit, of which $14 million was\\noutstanding at December 31, 1995. The Company believes that these\\nsources of credit provide sufficient financial flexibility to meet\\nfuture funding requirements.  The Company continually evaluates the\\nneed to establish other sources of working capital and will pursue\\nthose it considers appropriate based upon Company needs and market\\nconditions.\\n\\nFactors That May Affect Future Results\\n\\n     The Company participates in a highly volatile industry that is\\ncharacterized by fierce industry-wide competition for market share\\nresulting in aggressive pricing practices, continually changing\\ncustomer demand patterns, growing competition from well-capitalized\\nhigh technology and consumer electronics companies, and rapid\\ntechnological development carried out in the midst of legal battles\\nover intellectual property rights.  In developing strategies to\\nachieve continued increases in sales and operating profits, the\\nCompany anticipates the continued expansion of the computer market and\\nspending on information technology.  In this environment the Company\\nwill seek profitable PC market share growth while expanding its\\nproduct offerings.  The Company\\'s operating results could be adversely\\naffected should the Company be unable to anticipate customer demand\\naccurately, to maintain short design cycles while meeting evolving\\nindustry performance standards, to manage its product transitions,\\ninventory levels, and manufacturing processes efficiently, to\\ndistribute its products quickly in response to customer demand,  to\\ndifferentiate its products from those of its competitors, or to\\ncompete successfully in the markets for its new products.  In\\naccordance with the provisions of the Private Securities Litigation\\nReform Act of 1995, the cautionary statements set forth below identify\\nimportant factors that could cause actual results to differ materially\\nfrom those in the forward-looking statements contained in this report.\\n\\nCompetitive Environment.  The Company expects the PC market in 1996 to\\nexpand in line with third party research organizations\\' forecasts of\\nunit growth in the range of 17% to 20%. The Company is putting in\\nplace programs and products focused on meeting market demand and\\ngaining market share profitably.  Competition for PC market share\\nremains fierce.  Several of the Company\\'s competitors have announced\\nplans to increase their PC market shares.  Two of the Company\\'s\\ncompetitors recently merged, creating an entity whose 1995 U.S. unit\\nmarket share exceeded the Company\\'s.  A number of the Company\\'s\\nsuppliers also manufacture and market PCs or motherboards, which\\ncontain the microprocessor and other internal operating components of\\nthe PC.  In addition, a number of consumer electronics companies may\\nenter the PC market as it expands into the consumer sector as consumer\\nmodels expand multi-media features.  Each of these companies may be\\nwilling to accept lower profit margins to win market share.  In\\naddition, when the Company lowers prices on existing products or\\nannounces new products at lower price points, the Company must\\nincrease the volume of unit sales to achieve sales targets.  On March\\n1, 1996, the Company announced an update to its previous business\\noutlook.  The Company stated that it had expected seasonally slower\\nsales in January, but February sales had not met anticipated growth\\nlevels.  The Company stated that, in response to a more competitive\\nmarket environment, especially in North America, it was stepping up\\npromotional programs and taking selected price reductions to achieve\\nfirst quarter sales objectives.  The Company anticipates sales growth\\nof approximately 35% over the $3.0 billion achieved in first quarter\\n1995.  Earnings per share in the first quarter 1996 are expected to\\nexceed the $.80 per share recorded in the same period last year.  The\\nCompany expects sales and profitability to improve in the remaining\\nquarters of the year.  The Company\\'s ability to achieve targeted sales\\nand earnings levels depends upon a number of competitive and market\\nfactors and is subject to the risks set forth in this report.\\n\\nGross Margin Pressures and Operating Expenses.  In order to maintain\\nor increase its market share, the Company must continue to price its\\nproducts competitively and from time to time may use various incentive\\nprograms to increase sales.  Some of these strategies lower the\\naverage sales price per unit and may cause declines in gross margin\\nand profitability.  Other sales incentives increase operating expenses\\nand may lower profitability. To compensate for the impact of reduced\\nprices and sales incentives on its sales, gross margins, and\\nprofitability, the Company must increase unit shipments, especially of\\nits high-end systems products and options, aggressively reduce costs,\\nand maintain tight control over operating expenses.  The promotional\\nactivities and pricing actions the Company is taking in the first\\nquarter 1996 put pressure on first quarter gross margin, which is\\nlikely to be below the 21.7 percent of fourth quarter 1995.  Compaq\\nexpects gross margin to improve in the remaining quarters of the year.\\nAnd, despite quarterly fluctuations, Compaq remains focused on its\\nlong-standing gross margin model of 23 percent.  Although the\\npercentage of operating expense will vary depending upon sales, the\\nCompany is taking immediate actions to adjust its operating expenses\\nto lower levels.  The Company\\'s ability to achieve higher gross margin\\nlevels and lower operating expenses as a percentage of sales in the\\nsecond half of the year depends upon a variety of competitive and\\nmarket factors and is subject to the other risks set forth in this\\nreport.\\n\\nInventory.  In 1995 the Company continued to invest in higher levels\\nof inventory to support higher sales.  The Company anticipates that\\nits inventory turns, which increased to 5.5 in 1995 from 5.2 in 1994,\\nwill fluctuate in 1996.  The Company anticipates that inventory turns\\nwill be down in the first half of the year in comparison with fourth\\nquarter 1995 but expects inventory turns to improve in the second half\\nof 1996 as a result of increased efficiencies accompanying the\\nreengineering of certain internal processes.  In the event of a drop\\nin worldwide demand for PC products, lower than anticipated demand for\\none or more of the Company\\'s products, difficulties in managing\\nproduct transitions, or component pricing movements that affect the\\nvalue of  raw material inventory, there could be an adverse impact on\\ninventory, cash, and related profitability.  The Company faces product\\ntransitions throughout 1996, particularly in its commercial desktop\\nand systems divisions.  In each product transition cycle the Company\\nconfronts the challenge of managing the inventory of its older\\nproducts and facilitating the sale of older Compaq inventory held by\\nresellers as it increases sales of newer PCs.  The Company provides\\ncurrently for estimated product returns and price protection that may\\noccur under programs the Company has with its customers and under\\nfloor planning arrangements with third-party finance companies.  The\\nCompany and resellers in the U.S. currently hold substantial amounts\\nof inventory of certain of the Company\\'s products.  The Company\\nexpects anticipated selected pricing actions and aggressive marketing\\nprograms in the first half of 1996 to raise dealer sales of these\\nproducts, which will facilitate product transitions.  The success of\\nthis strategy depends upon a variety of competitive and market factors\\nand is subject to the other risks set forth in this report.  Should\\nthe Company be unable to sell its inventory of older products at\\nanticipated prices or if dealers hold higher than expected amounts of\\ninventory subject to price protection at the time of planned price\\nreductions, there could be a resulting adverse impact on sales, gross\\nmargins, and profitability.\\n\\nReengineering Implementation.  The Company continues to expand\\nmanufacturing and distribution capacity as well as reengineer its\\ninternal processes to support continued growth.  During 1996 the\\nCompany will continue to focus on making its business processes more\\nefficient in order to increase customer satisfaction, improve\\nproductivity, and lower costs.   In the event of a delay in\\nreengineering implementation, there could be an adverse impact on\\ninventory, cash, and related profitability. As the Company has grown\\nit has outstripped the ability of certain of its systems to support\\ncontinued expansion.  In connection with its reengineering efforts the\\nCompany is moving many of its systems from a legacy environment of\\nproprietary systems to client-server architectures.  Should the\\nCompany\\'s transition to new systems not occur in a smooth and orderly\\nmanner, the Company could experience disruptions in the operations of\\nits business, which could have an adverse financial impact.\\n\\nAlliance and Acquisition Strategy.  Because of the rapid pace of\\ntechnological advances in information technology, the Company must\\nintroduce on a timely basis new products offering competitive features\\nthat appeal to a wide variety of customers.  The Company\\'s product\\ndevelopment efforts are centered on aggressively developing new areas\\nin which the Company can differentiate its products and add value,\\nfocusing on innovative platform features, the integration of hardware\\nand software, and new related products and services, such as storage\\ndevices, toys and software titles.  Because the Company\\'s business now\\nintersects with a number of areas in which other companies have\\nsignificantly greater technological, marketing, and service expertise,\\nthe Company has focused on forming  alliances with third parties that\\nhave complementary products and skills as well as acquisitions that\\ntarget incremental business opportunities.  This philosophy extends to\\nservice alliances and in 1995 the Company expanded its internal\\nservice and support capability while naming Digital Multivendor\\nCustomer Services as the Company\\'s Global Service and Support Provider\\nfor its systems products.  The Company believes that its alliance and\\nacquisition strategies enable it to provide best-in-class solutions\\nintegrated in its platforms while expanding its offerings of\\ncomplementary products.  Each of these approaches, however, carries\\nsignificant risks.  In its acquisition activities the Company\\nconfronts significant challenges in retaining key employees and\\nreconciling diverse corporate cultures, synchronizing product roadmaps\\nand business processes, and integrating logistics, marketing, product\\ndevelopment, and manufacturing operations to achieve greater\\nefficiencies.  If the Company is unable to complete the transition\\nphase with respect to its 1995 acquisitions as anticipated, the\\nexpansion of its market in the internetworking arena could be delayed.\\nIn developing business plans based on an alliance model, the Company\\nmust rely on the performance of third parties, many of whom may\\ncompete with the Company in other parts of their businesses.  In\\naddition, particularly in attempting to expand its systems business\\ninto enterprise computing through an alliance model, the Company\\ncompetes against businesses that are vertically integrated and offer\\ncustomers the convenience of dealing with only one vendor for their\\nenterprise-wide systems.  Customers\\' willingness to adopt the\\nCompany\\'s more cost-effective solution will depend upon the reputation\\nfor reliability that it and its business allies earn in this area.\\n\\nTechnology Standards.  Participants in the PC industry generally rely\\non the creation and implementation of technology standards to win the\\nbroadest market acceptance for their products.  The Company must\\nsuccessfully manage and participate in the development of standards\\nwhile continuing to differentiate its products in a manner valued by\\ncustomers.  While industry participants generally accept, and may\\nencourage, the use of their intellectual property by third parties\\nunder license, when intellectual property owned by competitors or\\nsuppliers becomes accepted as an industry standard, the Company must\\nobtain a license, purchase components utilizing such technology from\\nthe owners of such technology or their licensees, or otherwise acquire\\nrights to use such technology, which could result in increased Company\\ncosts.  In addition, delays in access to technology developed by\\ncompetitors and suppliers could slow the Company\\'s design and\\nmanufacture of components and subsystems that distinguish its\\nproducts.\\n\\nSupplier Issues.  In managing production levels, product transitions,\\nand developments in microprocessor and other component technology, the\\nCompany must develop and implement effective strategies that\\nanticipate availability and pricing by suppliers as well as forecast\\ncustomer demand for its products.  The Company attempts to select\\nsuppliers that can provide sufficient and timely supplies of high\\nquality material.  There can be no assurance, however, that the\\nCompany will acquire sufficient supplies of components, including\\nmicroprocessors, to deliver its products in volume in response to\\nshifts in customer demand.  Order lead times and cancellation\\nrequirements vary by supplier and component.  Should the Company\\nunderestimate the component supplies needed to meet demand, the\\nCompany could be unable to meet customer demand.  Should the Company\\noverestimate the component supplies needed to meet customer demand,\\nthe Company\\'s cash and profitability could be adversely affected. Many\\nof the components used in the Company\\'s products, particularly\\nmicroprocessors, experience steep price declines over their product\\nlives.  If the Company is unable to manage its purchases and\\nutilization of such components efficiently to maintain low inventory\\nlevels immediately prior to major price declines, the Company could be\\nunable to take immediate advantage of such declines to lower its\\nproduct costs, which could adversely affect the Company\\'s sales and\\ngross margins.  In planning product transitions the Company evaluates\\nthe speed at which customers are likely to switch to newer products.\\nThe contrast between the prices of old and new products, which is\\nrelated to component costs, is a critical variable in predicting\\ncustomer decisions to move to the next generation of products.\\nProduct transitions may occur more quickly or more slowly than\\nanticipated based on pricing decisions by industry component\\nsuppliers, particularly microprocessor prices set by Intel\\nCorporation.  Because of the lead times associated with the Company\\'s\\nvolume production, should the Company be unable to predict the rate of\\na product transition accurately, the Company\\'s inventory levels, cash\\nand profitability could be negatively affected.  In addition, certain\\nof the Company\\'s products are manufactured by third party original\\nequipment manufacturers, which could fail to respond in a timely\\nmanner to the Company\\'s purchase orders or could fail to meet the\\nCompany\\'s quality standards.  The Company attempts to maintain tight\\ncontrol over production by third party original equipment\\nmanufacturers to ensure that these products comply with its standards\\nand schedule.\\n\\nIntellectual Property Infringement.  Because of rapid technological\\nchanges in the computer industry, extensive patent and copyright\\ncoverage, and the rapid establishment of new copyright and patent\\nrights, certain components of the Company\\'s products designed by the\\nCompany or purchased from third parties may unknowingly infringe\\nintellectual property rights of others.  The Company believes, based\\nin part on industry practices, that if any infringements do exist, the\\nCompany will be able to modify its products to avoid infringement,\\nobtain components that do not infringe, or obtain licenses or rights\\nto such intellectual property on terms not having a material adverse\\neffect on the Company. There can be no assurance, however, that the\\nCompany will be able to ensure that component supplies and the cost of\\ncomponents are not adversely affected by legal proceedings in which an\\nadverse determination is made with respect to intellectual property\\nrights of the Company or one of its suppliers.  To minimize the impact\\nof intellectual property claims by third parties, the Company pursues\\nan active patent portfolio development plan.\\n\\nProduct Distribution.  During 1995 the Company continued to broaden\\nits product distribution.  Offering its products in an increasing\\nnumber of geographic locations and through a variety of distribution\\nchannels, including dealers, distributors, value-added resellers, mass\\nmerchandise stores, consumer electronic outlets, computer\\nsuperstores, and mail order, requires the Company to increase its\\ngeographic presence and to provide increased levels of sales and\\nsupport interface with customers.  There can be no assurance, however,\\nthat the requisite service and support to ensure the success of the\\nCompany\\'s operations in new locations or through new channels can be\\nachieved in a cost effective manner, particularly with respect to the\\nlevels of service and support desired by customers to support systems\\nproducts in enterprise-wide computing solutions.  While the Company\\nanticipates that its geographic expansion will continue and the number\\nof outlets for its products will continue to increase in 1996, a\\nreduction in the pace of this growth could affect sales and\\nprofitability.  Geographic expansion, particularly the expansion of\\nmanufacturing operations in developing countries, such as Brazil and\\nChina, and the expansion of sales into economically and politically\\nvolatile areas such as China, Hong Kong, Latin America, and Eastern\\nEurope, subject the Company to a number of economic and other risks,\\nsuch as currency devaluation, expropriation, and financial instability\\namong resellers in these regions.  The Company continues to evaluate\\nits business operations in these regions and attempts to take\\nmeasures to limit its risks in these areas.\\n\\nCredit Risks.  The Company\\'s primary means of distribution remains\\nthird-party resellers.  The Company continuously monitors and manages\\nthe credit it extends to resellers and attempts to limit credit risks\\nby broadening its distribution channels, utilizing certain risk\\ntransfer instruments, and obtaining security interests in property\\nowned by its debtors.  The Company\\'s business could be adversely\\naffected in the event that the financial condition of third-party\\ncomputer resellers worsens.  Upon the financial failure of a major\\nreseller, the Company could experience disruptions in its distribution\\nas well as the loss of the unsecured portion of any outstanding\\naccounts receivable.  The Company generally has experienced longer\\naccounts receivable cycles in its emerging markets, in particular\\nChina and Latin America, when compared to its U.S. and European\\nmarkets.  In the event that accounts receivable cycles in these\\ndeveloping markets lengthen further or one or more of the Company\\'s\\nlarger resellers in these regions fail, the Company could be adversely\\naffected.\\n\\nForecasting Issues.  Because of the pace of technological advances in\\nthe computer industry, the Company must introduce on a timely basis\\nnew products that offer customers competitive technologies while\\nmanaging the production and marketing cycles of its existing products.\\nForecasting demand for newly-introduced products is complicated by the\\navailability of different product models, which may include various\\ntypes of built-in peripherals and software, and the configuration\\nrequirements, such as language localization, in certain markets.  As a\\nresult, while overall demand may be in line with the Company\\'s\\nprojections and manufacturing implementation, local market variations\\ncan lead to differences between expected and actual demand and\\nresulting delays in shipment, which can affect the Company\\'s financial\\nresults.\\n\\nCurrency and Hedging Risks.  The value of the U.S. dollar continues to\\naffect the Company\\'s financial results.  The functional currency for\\nthe Company\\'s international subsidiaries is the U.S. dollar.  When the\\nU.S. dollar strengthens against other currencies, sales made in those\\ncurrencies translate into lower sales in U.S. dollars; and when the\\nU.S. dollar weakens, sales made in local currencies translate into\\nhigher sales in U.S. dollars.  Correspondingly, costs and expenses\\nincurred in non-U.S. dollar currencies increase when the U.S. dollar\\nweakens and decline when the U.S. dollar strengthens.  Accordingly,\\nchanges in exchange rates may positively or negatively affect the\\nCompany\\'s sales (as expressed in U.S. dollars), gross margins, and\\noperating expenses, and the Company\\'s results of operations can be\\nsignificantly affected in the short term by fluctuations in foreign\\ncurrency exchange rates.  The Company engages in hedging programs\\naimed at limiting in part the impact of currency fluctuations.\\nThrough these programs the Company hedges its non-U.S. dollar net\\nmonetary assets and its Japanese yen denominated purchase commitments\\nprimarily through the use of forward exchange and option contracts.\\nFor certain of its markets, particularly Latin America, the Company\\nhas determined that ongoing hedging of its non-U.S. dollar net\\nmonetary assets is not cost effective and instead attempts to minimize\\ncurrency exposure risk through working capital management.  There can\\nbe no assurance that such an approach will be successful, especially\\nin the event of a significant and sudden decline in the value of local\\ncurrencies.  From time to time the Company purchases foreign currency\\noption contracts as well as short-term forward exchange contracts to\\nprotect against currency exchange risks associated with the\\nanticipated sales of its international marketing subsidiaries,\\nprincipally in Europe and Japan.  These instruments provide only\\nlimited protection against currency exchange risks.  The Company\\nvaries the percentage of anticipated sales that it attempts to protect\\nagainst currency exchange risks based upon its judgment of currency\\nmarkets and the costs of these instruments, and in some markets,\\nparticularly in developing areas, the Company\\'s ability to utilize\\nsuch instruments is limited.  If the Company overestimates the hedging\\namount needed to protect anticipated sales during a period in which\\nthe dollar weakens or yen-denominated purchase commitments during a\\nperiod when the dollar strengthens, the Company could incur expense\\nthat would not be balanced by the impact of exchange rate movements on\\nits sales and purchase commitments.  All currency contracts that are\\nentered into by the Company are components of its hedging programs and\\nare entered into for the sole purpose of hedging an existing or\\nanticipated currency exposure, not for speculation.  Although the\\nCompany maintains these programs to reduce the impact of changes in\\ncurrency exchange rates, when the U.S. dollar sustains a strengthening\\nposition against currencies in which the Company sells its products or\\na weakening exchange rate against currencies in which the Company\\nincurs costs, particularly the Japanese yen, the Company\\'s sales or\\nits costs are adversely affected.\\n\\nTax Rate.  The Company\\'s tax rate is heavily dependent upon the\\nproportion of earnings that are derived from its Singaporean\\nmanufacturing subsidiary and its ability to reinvest those earnings\\npermanently outside the U.S.  If the earnings of this subsidiary as a\\npercentage of the Company\\'s total earnings were to decline, or should\\nthe Company\\'s ability to reinvest these earnings be reduced, the\\nCompany\\'s tax rate would  increase beyond the estimated 30%.  In\\naddition, should the Company\\'s intercompany transfer pricing with\\nrespect to its Singaporean manufacturing subsidiary require\\nsignificant adjustment due to audits or regulatory changes, the\\nCompany\\'s overall tax rate could increase.\\n\\nSeasonality.  General economic conditions have an impact on the\\nCompany\\'s business and financial results.  From time to time the\\nmarkets in which the Company sells its products experience weak\\neconomic conditions that may negatively affect sales of the Company\\'s\\nproducts.  Although the Company does not consider its business to be\\nhighly seasonal, it has experienced seasonally higher sales and\\nearnings in the fourth quarter of the year.  The continued expansion\\nof its retail business is likely to result in the increased\\nseasonality of the Company\\'s business, particularly in the fourth\\nquarter of the year, and its financial results being more dependent on\\nretail business fluctuations.\\n\\nFacilities.  Certain of the Company\\'s facilities, including its\\nEuropean distribution center in Gorinchem, The Netherlands, and\\ncritical suppliers are located in areas that are at risk for natural\\ndisasters such as floods, tornadoes, hurricanes and earthquakes.\\nWhile the Company attempts to minimize the potential for loss through\\npreventative planning and insurance risk transfer products, such\\nnatural disasters could negatively affect the Company\\'s sales,\\nprofitability, and cash flow.\\n\\n     Because of the foregoing factors, as well as other variables\\naffecting the Company\\'s operating results, past financial performance\\nshould not be considered a reliable indicator of future performance,\\nand investors should not use historical trends to anticipate results\\nor trends in future periods.  In addition, the Company\\'s participation\\nin a highly dynamic industry often results in significant volatility\\nof the Company\\'s common stock price.\\n\\nItem 8.  Financial Statements and Supplementary Data\\n\\n     Index to Consolidated Financial Statements\\n\\n     Financial Statements:\\n      Report of Independent Accountants\\n      Consolidated Balance Sheet at December 31, 1995 and 1994\\n      Consolidated Statement of Income for the three years ended\\n       December 31, 1995\\n      Consolidated Statement of Cash Flows for the three years ended\\n       December 31, 1995\\n      Consolidated Statement of Stockholders\\' Equity for the three\\n       years ended December 31, 1995\\n      Notes to Consolidated Financial Statements\\n\\n     Financial Statement Schedules:\\n      For the three years ended December 31, 1995:\\n       Schedule VIII - Valuation and Qualifying Accounts\\n\\nItem 9.  Disagreements on Accounting and Financial Disclosure\\n\\n     None.\\n\\n\\nREPORT OF INDEPENDENT ACCOUNTANTS\\n\\nTo the Stockholders and Board of Directors of\\nCompaq Computer Corporation\\n\\nIn our opinion, the consolidated financial statements listed in the\\naccompanying index present fairly, in all material respects, the\\nfinancial position of Compaq Computer Corporation and its subsidiaries\\nat December 31, 1995 and 1994, and the results of their operations and\\ntheir cash flows for each of the three years in the period ended\\nDecember 31, 1995, in conformity with generally accepted accounting\\nprinciples. These financial statements are the responsibility of the\\nCompany\\'s management; our responsibility is to express an opinion on\\nthese financial statements based on our audits. We conducted our\\naudits of these statements in accordance with generally accepted\\nauditing standards which require that we plan and perform the audit to\\nobtain reasonable assurance about whether the financial statements are\\nfree of material misstatement. An audit includes examining, on a test\\nbasis, evidence supporting the amounts and disclosures in the\\nfinancial statements, assessing the accounting principles used and\\nsignificant estimates made by management, and evaluating the overall\\nfinancial statement presentation. We believe that our audits provide a\\nreasonable basis for the opinion expressed above.\\n\\nPRICE WATERHOUSE LLP\\n\\nHouston, Texas\\nJanuary 23, 1996\\n\\n\\n                     COMPAQ COMPUTER CORPORATION\\n                      CONSOLIDATED BALANCE SHEET\\n\\nDecember 31,\\nDollars in millions, except par value                   1995     1994\\n- ----------------------------------------------------------------------\\nASSETS\\nCurrent assets:\\n Cash and cash equivalents                             $  745   $  471\\n Accounts receivable, less allowance of $100 and $75    3,141    2,287\\n Inventories                                            2,156    2,005\\n Deferred income taxes                                    365      303\\n Prepaid expenses and other current assets                120       92\\n                                                       ---------------\\n  Total current assets                                  6,527    5,158\\n                                                       ---------------\\nProperty, plant, and equipment,\\n less accumulated depreciation                          1,110      944\\nOther assets                                              181       64\\n                                                       ---------------\\n                                                       $7,818   $6,166\\n                                                       ===============\\n\\nLIABILITIES AND STOCKHOLDERS\\' EQUITY\\nCurrent liabilities:\\n Accounts payable                                      $1,379   $  888\\n Income taxes payable                                     190      246\\n Other current liabilities                              1,111      879\\n                                                       ---------------\\n  Total current liabilities                             2,680    2,013\\n                                                       ---------------\\nLong-term debt                                            300      300\\n                                                       ---------------\\nDeferred income taxes                                     224      179\\n                                                       ---------------\\nCommitments and contingencies\\nStockholders\\' equity:-\\n Preferred stock, $.01 par value\\n (authorized: 10 million shares; issued: none)\\n Common stock and capital in excess of $.01 par value\\n  (authorized: 1 billion shares; issued and outstanding:\\n  267.1 million shares at December 31, 1995 and\\n  261.0 million shares at December 31, 1994)              890      739\\n Retained earnings                                      3,724    2,935\\n                                                       ---------------\\n    Total stockholders\\' equity                          4,614    3,674\\n                                                       ---------------\\n                                                       $7,818   $6,166\\n                                                       ===============\\n\\nThe accompanying notes are an integral part of these financial statements.\\n\\n\\n                         COMPAQ COMPUTER CORPORATION\\n                      CONSOLIDATED STATEMENT OF INCOME\\n\\n\\nYear ended December 31,\\nIn millions, except per share amounts      1995         1994         1993\\n- ---------------------------------------------------------------------------\\nSales                                   $ 14,755     $ 10,866     $  7,191\\nCost of sales                             11,367        8,139        5,493\\n                                        -----------------------------------\\n                                           3,388        2,727        1,698\\n                                        -----------------------------------\\n\\nSelling, general, and\\n  administrative expense                   1,594        1,235          837\\nResearch and development costs               270          226          169\\nPurchased in-process technology              241\\nOther income and expense, net                 95           94           76\\n                                        -----------------------------------\\n                                           2,200        1,555        1,082\\n                                        -----------------------------------\\nIncome before provision for income taxes   1,188        1,172          616\\nProvision for income taxes                   399          305          154\\n                                        -----------------------------------\\nNet income                              $    789     $    867     $    462\\n                                        ===================================\\n\\nEarnings per common and common\\n  equivalent share:\\n    Primary                             $   2.88     $   3.23     $   1.82\\n                                        ===================================\\n    Assuming full dilution              $   2.87     $   3.21     $   1.78\\n                                        ===================================\\n\\nShares used in computing earnings per\\n  common and common equivalent share:\\n    Primary                                273.6        268.6        254.1\\n                                        ===================================\\n    Assuming full dilution                 275.0        270.1        258.9\\n                                        ===================================\\n\\nThe accompanying notes are an integral part of these financial statements.\\n\\n\\n                          COMPAQ COMPUTER CORPORATION\\n                     CONSOLIDATED STATEMENT OF CASH FLOWS\\n\\n\\nYear ended December 31,\\nIn millions                                      1995       1994       1993\\n- ------------------------------------------------------------------------------\\nCash flows from operating activities:\\n  Cash received from customers                $  13,910  $   9,986  $   6,731\\n  Cash paid to suppliers and employees          (12,437)    (9,778)    (6,331)\\n  Interest and dividends received                    53         22         20\\n  Interest paid                                    (100)       (65)       (64)\\n  Income taxes paid                                (483)      (266)      (116)\\n                                              --------------------------------\\n    Net cash provided by (used in)\\n      operating activities                          943       (101)       240\\n                                              --------------------------------\\nCash flows from investing activities:\\n  Purchases of property, plant,\\n    and equipment, net                             (391)      (357)      (145)\\n  Acquisition of businesses,                       (318)\\n    net of cash acquired\\n  Other, net                                          6        (51)\\n                                              --------------------------------\\n    Net cash used in\\n      investing activities                         (703)      (408)      (145)\\n                                              --------------------------------\\nCash flows from financing activities:\\n  Issuance of common stock pursuant\\n   to stock option plans                             79        100        142\\n  Issuance of long-term debt                                   300\\n                                              --------------------------------\\n    Net cash provided by\\n      financing activities                           79        400        142\\n                                              --------------------------------\\nEffect of exchange rate changes on cash             (45)       (47)        33\\n                                              --------------------------------\\n    Net increase (decrease) in cash and\\n      cash equivalents                              274       (156)       270\\nCash and cash equivalents at beginning of year      471        627        357\\n                                              --------------------------------\\nCash and cash equivalents at end of year      $     745  $     471  $     627\\n                                              ================================\\n\\nReconciliation of net income to net cash\\n  provided by (used in) operating activities:\\n  Net income                                  $     789  $     867  $     462\\n    Depreciation and amortization                   214        169        156\\n    Tax benefit associated with stock options        60         53         44\\n    Provision for bad debts                          43         36         33\\n    Purchased in-process technology                 241\\n    Deferred income taxes                           (17)      (184)       (38)\\n    Loss on disposal of assets                        2          2          2\\n    Exchange rate effect                             33         46         15\\n    Increase in accounts receivable                (863)      (926)      (484)\\n    Increase in inventories                        (135)      (882)      (289)\\n    Decrease (increase) in prepaid expenses and\\n      other current assets                          (41)       (55)        24\\n    Increase in accounts payable                    479        248        125\\n    Increase (decrease) in income taxes payable     (61)       173         34\\n    Increase in other current liabilities           199        352        156\\n                                              --------------------------------\\n      Net cash provided by (used in)\\n       operating activities                   $     943  $    (101) $     240\\n                                              ================================\\n\\nSupplemental Cash Flow Information\\n\\nYear ended December 31,\\nIn millions                                      1995\\n- ------------------------------------------------------\\nAcquisitions (Note 2)\\n  Fair value of assets acquired               $   432\\n  Liabilities assumed                             (69)\\n  Stock issued                                    (12)\\n  Options assumed                                 (14)\\n                                               -------\\n  Cash paid                                       337\\nLess: cash acquired                               (19)\\n                                               -------\\nNet cash paid for acquisitions                 $  318\\n                                               =======\\n\\nThe accompanying notes are an integral part of these financial statements.\\n\\n\\n                         COMPAQ COMPUTER CORPORATION\\n                CONSOLIDATED STATEMENT OF STOCKHOLDERS\\' EQUITY\\n\\n\\n                                         Common stock\\n                                     --------------------\\n                                               Par value\\n                                      Number  and capital\\nIn millions,                            of     in excess   Retained\\nexcept number of shares in thousands  shares     of par    earnings   Total\\n- -----------------------------------------------------------------------------\\nBalance, December 31, 1992           239,490  $   400     $  1,606  $  2,006\\nIssuance pursuant to stock\\n  option plans                        13,553      142                    142\\nTax benefit associated with\\n  stock options                                    44                     44\\nNet income                                                     462       462\\n                                     ----------------------------------------\\nBalance, December 31, 1993           253,043      586        2,068     2,654\\nIssuance pursuant to stock\\n  option plans                         7,994      100                    100\\nTax benefit associated with\\n  stock options                                    53                     53\\nNet income                                                     867       867\\n                                     ----------------------------------------\\nBalance, December 31, 1994           261,037      739        2,935     3,674\\nIssuance pursuant to stock\\n  option plans                         5,792       79                     79\\nIssuance pursuant to\\n  business acquired                      241       12                     12\\nTax benefit associated with\\n  stock options                                    60                     60\\nNet income                                                     789       789\\n                                     ----------------------------------------\\nBalance, December 31, 1995           267,070  $   890     $  3,724  $  4,614\\n                                     ========================================\\n\\nThe accompanying notes are an integral part of these financial statements.\\n\\n\\n                         COMPAQ COMPUTER CORPORATION\\n                 NOTES TO CONSOLIDATED FINANCIAL STATEMENTS\\n\\nNote 1 - Description of Business and Significant Accounting Policies:\\n\\nDescription of business - Compaq Computer Corporation designs,\\ndevelops, manufactures, and markets a wide range of personal computing\\nproducts, including desktop personal computers, portable computers,\\ntower PC servers and peripheral products that store and manage data\\nin network environments. The Company markets its products primarily to\\nbusiness, home, government, and education customers. The Company\\noperates in one principal industry segment across geographically\\ndiverse markets.\\n\\nPrinciples of consolidation - The consolidated financial statements\\ninclude the accounts of Compaq Computer Corporation and its\\nsubsidiaries. All significant intercompany transactions have been\\neliminated.\\n\\nEstimates - The preparation of financial statements in conformity with\\ngenerally accepted accounting principles requires management to make\\nestimates and assumptions that affect the reported amounts of certain\\nassets and liabilities and disclosure of contingent assets and\\nliabilities at the date of the financial statements and the related\\nreported amounts of sales and expenses during the reporting period.\\nActual results could differ from those estimates. Management believes\\nthat the estimates are reasonable.\\n\\nCash and cash equivalents - Cash and cash equivalents include cash on\\nhand, amounts due from banks, money market instruments, commercial\\npaper, and other investments having maturities of three months or less\\nat date of acquisition and are reflected as such for purposes of\\nreporting cash flows and are stated at cost which approximates fair\\nvalue.\\n\\nInventories - Inventories are stated at the lower of cost or market,\\ncost being determined on a first-in, first-out basis.\\n\\nProperty, plant, and equipment - Property, plant, and equipment are\\nstated at cost. Major renewals and improvements are capitalized; minor\\nreplacements, maintenance, and repairs are charged to current\\noperations. Depreciation is computed by applying the straight-line\\nmethod over the estimated useful lives of the related assets, which\\nare 30 years for buildings and range from three to ten years for\\nequipment. Leasehold improvements are amortized over the shorter of\\nthe useful life of the improvement or the life of the related lease.\\n\\nPurchased technology, other intangible assets, and goodwill -\\nPurchased technology, other intangible assets including licenses and\\ntrademarks, and goodwill are carried at cost less accumulated\\namortization, which is being provided on a straight-line basis over\\nthe economic lives of the respective assets, generally three to seven\\nyears.\\n\\nSales recognition - The Company recognizes sales at the time products\\nare shipped to its customers. Provision is made currently for\\nestimated product returns and price protection which may occur under\\nprograms the Company has with its customers and under floor planning\\narrangements with third-party finance companies.\\n\\nPost sales support and warranty expense - The Company provides\\ncurrently for the estimated cost that may be incurred for post sales\\nsupport and product warranties.\\n\\nAdvertising costs - Advertising costs are charged to operations when\\nincurred. The cost of direct-response advertising is not significant.\\nAdvertising expenses for 1995, 1994, and 1993 were $201 million, $193\\nmillion, and $114 million, respectively.\\n\\nForeign currency - The Company uses the U.S. dollar as its functional\\ncurrency. Financial statements of the Company\\'s foreign subsidiaries\\nare translated to U.S. dollars for consolidation purposes using\\ncurrent rates of exchange for monetary assets and liabilities and\\nhistorical rates of exchange for nonmonetary assets and related\\nelements of expense. Sales and other expense elements are translated\\nat rates that approximate the rates in effect on the transaction\\ndates. Gains and losses from this process are included in the\\nCompany\\'s consolidated statement of income.\\n\\nThe Company hedges certain portions of its foreign currency exposure\\nprimarily through the use of forward contracts and option contracts.\\nGenerally, gains and losses associated with currency rate changes on\\nforward contracts are recorded currently, while the interest element\\nis recognized over the life of each contract. However, to the extent\\nsuch contracts hedge a commitment for capital expenditures or\\ninventory purchases, no gains or losses are recognized, and the rate\\nat the time the hedge is made is, effectively, the rate used to\\ndetermine the U.S. dollar value of the asset when it is recorded.\\n\\nFrom time to time the Company hedges a portion of its anticipated but\\nnot firmly committed sales of its international marketing subsidiaries\\nusing purchased foreign currency options. Realized and unrealized\\ngains and the net premiums on these options are deferred and\\nrecognized as a component of sales in the same period that the related\\nsales occur. In addition, at times the Company utilizes forward\\ncontracts to protect the Company from the effects of currency\\nfluctuations on anticipated but not firmly committed sales which are\\nexpected to occur within a three-month period. These forward contracts\\ndo not extend beyond the end of any quarter or year.\\n\\nIncome taxes - The provision for income taxes is computed based on the\\npretax income included in the consolidated statement of income.\\nResearch and development tax credits are recorded to the extent\\nallowable as a reduction of the provision for federal income taxes in\\nthe year the qualified research and development expenditures are\\nincurred. The asset and liability approach is used to recognize\\ndeferred tax liabilities and assets for the expected future tax\\nconsequences of temporary differences between the carrying amounts and\\nthe tax bases of assets and liabilities.\\n\\nEarnings per share - Primary earnings per common and common equivalent\\nshare and earnings per common and common equivalent share assuming\\nfull dilution are computed using the weighted average number of shares\\noutstanding adjusted for the incremental shares attributed to\\noutstanding options to purchase common stock.\\n\\nStock-based compensation - The Company has not elected early adoption\\nof Financial Accounting Standard No. 123 (FAS 123), Accounting for\\nStock-Based Compensation. FAS 123 becomes effective beginning with the\\nCompany\\'s first quarter of 1996, and will not have a material effect\\non the Company\\'s consolidated financial position or operating results.\\nUpon adoption of FAS 123, the Company will continue to measure\\ncompensation expense for its stock-based employee compensation plans\\nusing the intrinsic value method prescribed by APB Opinion No. 25,\\nAccounting for Stock Issued to Employees, and will provide pro forma\\ndisclosures of net income and earnings per share as if the fair value-\\nbased method prescribed by FAS 123 had been applied in measuring\\ncompensation expense.\\n\\nOther recent pronouncements - In 1995 Financial Accounting Standards\\nNo. 121 (FAS 121), Accounting for the Impairment of Long-Lived Assets\\nand for Long-Lived Assets to Be Disposed Of, was issued and is\\neffective for fiscal years commencing after December 15, 1995. The\\nfuture adoption of FAS 121 is not expected to have a material effect\\non the Company\\'s consolidated financial position or operating results.\\n\\nReclassifications - Certain amounts have been reclassified to conform\\nto the 1995 presentation.\\n\\nNote 2 - Acquisitions:\\n\\nDuring the fourth quarter of 1995 the Company acquired all of the\\noutstanding shares of NetWorth, Inc., a publicly-held developer,\\nmanufacturer, and supplier of fast ethernet hubs, switches, and\\nrelated products, and Thomas-Conrad Corporation, a privately-held\\nmaker of network interface cards and hubs. In addition, during 1995\\nthe Company acquired a small software company. The aggregate purchase\\nprice of $386 million consisted of $359 million in cash of which\\n$22 million was paid subsequent to year end, assumption of\\ncertain stock options and the issuance of 240,622 shares of common\\nstock of the Company.\\n\\nThe acquisitions were accounted for as purchases and, accordingly, the\\noperating results of the acquired businesses and the estimated fair\\nmarket values of the acquired assets and liabilities were included in\\nthe Company\\'s consolidated financial statements from the dates of\\nacquisition. The aggregate purchase price plus $5 million of costs\\ndirectly attributable to the completion of the acquisitions, has been\\nallocated to the assets and liabilities acquired. The aggregate\\npurchase price included $241 million which represented the value of in-\\nprocess technology that had not yet reached technological feasibility\\nand had no alternative future use. This amount was expensed in the\\nCompany\\'s consolidated statement of income during the fourth quarter\\nof 1995. In addition, the aggregate purchase price included $126\\nmillion representing purchased technology, other identifiable\\nintangibles and goodwill. These assets are included in other assets at\\nDecember 31, 1995.\\n\\nThe following summary, prepared on a pro forma basis, combines the\\noperating results as if the companies had been acquired as of the\\nbeginning of the periods presented. The summary includes the impact of\\ncertain adjustments such as goodwill amortization and estimated\\nchanges in interest income due to cash outlays associated with the\\ntransactions and the related income tax effects:\\n\\nYear ended December 31,                                 (unaudited)\\nIn millions, except per share amounts                1995         1994\\n- ------------------------------------------------------------------------\\nSales                                             $ 14,849     $ 10,978\\nNet income                                             992          837\\nNet income per share                                  3.61         3.10\\n\\nThe pro forma results are not necessarily indicative of what actually\\nwould have occurred if the acquisitions had been in effect for the\\nperiods presented. In addition, they are not intended to be a forecast\\nof future results and do not reflect any synergies that might be\\nachieved from the combined operations.\\n\\nNote 3 - Inventories:\\n\\nInventories consisted of the following components:\\n\\nDecember 31,\\nIn millions                                          1995         1994\\n- ------------------------------------------------------------------------\\nRaw material                                      $    772     $  1,013\\nWork-in-process                                        271          266\\nFinished goods                                       1,113          726\\n                                                  ----------------------\\n                                                  $  2,156     $  2,005\\n                                                  ======================\\n\\nNote 4 - Property, Plant, and Equipment:\\n\\nProperty, plant, and equipment are summarized below:\\n\\nDecember 31,\\nIn millions                                          1995         1994\\n- ------------------------------------------------------------------------\\nLand                                              $     72     $     71\\nBuildings                                              565          556\\nMachinery and equipment                              1,067          878\\nFurniture and fixtures                                  78           61\\nLeasehold improvements                                  57           35\\nConstruction-in-progress                               142           71\\n                                                  ----------------------\\n                                                     1,981        1,672\\nLess-accumulated depreciation                          871          728\\n                                                  ----------------------\\n                                                  $  1,110     $    944\\n                                                  ======================\\n\\nInterest aggregating $7 million and $3 million was capitalized and\\nadded to the cost of the Company\\'s property, plant, and equipment in\\n1995 and 1994, respectively. No interest was capitalized during 1993.\\n\\nDepreciation expense totaled $214 million, $168 million, and $155\\nmillion in 1995, 1994, and 1993, respectively.\\n\\nNote 5 - Other Current Liabilities:\\n\\nThe estimated costs which may be incurred for post sales support and\\nproduct warranties of $347 million and $306 million were included in\\nother current liabilities at December 31, 1995 and 1994, respectively.\\n\\nNote 6 - Credit Agreements and Financing Arrangements:\\n\\nIn October 1995 the Company entered into agreements for a $1.25\\nbillion syndicated credit facility (of which $250 million expires in\\nOctober 1996 and $1 billion expires in October 2000) which remains\\nunused at December 31, 1995. The Company has a $750 million commercial\\npaper program, which is supported by the $1.0 billion portion of the\\nsyndicated credit facility. No commercial paper was outstanding at\\nDecember 31, 1995. The commercial paper program and various\\nuncommitted bank lines of credit were used during 1995, with usage\\nlevels ranging from a high of $280 million to $14 million at December\\n31, 1995.\\n\\nIn March 1994 the Company issued $300 million in senior notes,\\nincluding $150 million 6 1/2% notes due March 15, 1999 and $150\\nmillion 7 1/4% notes due March 15, 2004. Interest on the notes is\\npayable semiannually on March 15 and September 15 of each year. The\\nnotes are not redeemable prior to maturity and are not entitled to any\\nsinking fund.\\n\\nNote 7 - Other Income and Expense:\\n\\nOther income and expense consisted of the following components:\\n\\nYear ended December 31,\\nIn millions                                         1995      1994      1993\\n- -----------------------------------------------------------------------------\\nInterest and dividend income                      $  (53)   $  (22)   $  (20)\\nInterest expense associated with hedging              18         9        22\\nOther interest expense                                81        62        41\\nCurrency losses, net                                  33        46        15\\nRestructuring charges and other asset write-downs                         12\\nOther, net                                            16        (1)        6\\n                                                  ---------------------------\\n                                                  $   95    $   94    $   76\\n                                                  ===========================\\n\\nIn the fourth quarter of 1993 the Company recorded charges associated\\nwith its plans to withdraw from the printer business, including costs\\nrelated to certain contractual liabilities and the write-downs of the\\ncarrying value of certain assets. The charge, net of the reversal of\\npreviously recorded restructuring reserves, totaled $10 million. No\\nreserves related to these restructurings remained at December 31, 1995\\nand 1994.\\n\\nNote 8 - Provision for Income Taxes:\\n\\nThe components of income before provision for income taxes were as\\nfollows:\\n\\nYear ended December 31,\\nIn millions                                   1995      1994      1993\\n- -----------------------------------------------------------------------\\nDomestic                                    $  500    $  566    $  284\\nForeign                                        688       606       332\\n                                            ---------------------------\\n                                            $1,188    $1,172    $  616\\n                                            ===========================\\n\\nThe provision for income taxes charged to operations was as follows:\\n\\nYear ended December 31,\\nIn millions                                   1995      1994      1993\\n- -----------------------------------------------------------------------\\nCurrent tax expense\\n  U.S. federal                              $  274    $  303    $  130\\n  State and local                               11         7         4\\n  Foreign                                      142       134        58\\n                                            ---------------------------\\n    Total current                              427       444       192\\n                                            ---------------------------\\nDeferred tax expense\\n  U.S. federal                                  (8)     (114)      (18)\\n  State and local                               (2)       (6)\\n  Foreign                                      (18)      (19)      (20)\\n                                            ---------------------------\\n    Total deferred                             (28)     (139)      (38)\\n                                            ---------------------------\\n    Total provision                         $  399    $  305    $  154\\n                                            ===========================\\n\\nTotal income tax expense for 1995, 1994, and 1993 resulted in\\neffective tax rates of 34%, 26%, and 25%, respectively. The reasons\\nfor the differences between these effective tax rates and the U.S.\\nstatutory rate of 35% are as follows:\\n\\nYear ended December 31,\\nIn millions                                   1995      1994      1993\\n- -----------------------------------------------------------------------\\nTax expense at U.S. statutory rate          $  416    $  410    $  216\\nForeign tax effect, net                        (79)      (97)      (64)\\nNon-deductible purchased\\n in-process technology                          85\\nOther, net                                     (23)       (8)        2\\n                                            ---------------------------\\n                                            $  399    $  305    $  154\\n                                            ===========================\\n\\nIn connection with the acquisitions that occurred during 1995, the\\nCompany expensed $241 million for a non-recurring, non-tax deductible\\ncharge for purchased in-process technology which resulted in an\\nincrease in the 1995 effective tax rate from 28% to 34%.\\n\\nThe Company increased its U.S. deferred tax liability in 1993 as a\\nresult of legislation enacted during 1993 which increased the\\ncorporate tax rate to 35% from 34% retroactive to January 1, 1993. The\\nincrease had an immaterial effect on the consolidated financial\\nstatements.\\n\\nThe Company benefits from a tax holiday in Singapore which expires in\\n2001, with a potential extension to August 2004 if certain cumulative\\ninvestment levels and other conditions are met. During the first\\nquarter of 1993 the Company determined that a portion of the\\nundistributed earnings of its Singaporean manufacturing subsidiary\\nwill be reinvested indefinitely. As a result of this determination, no\\nprovision for U.S. income tax was made on $337 million, $218 million,\\nand $158 million of earnings of this subsidiary during 1995, 1994 and\\n1993, respectively. These earnings would become subject to U.S. tax if\\nthey were actually or deemed to be remitted to the Company as\\ndividends or if the Company should sell its stock in this subsidiary.\\nThe Company estimates an additional tax provision of $250 million\\nwould be required at such time if the full amount of these accumulated\\nearnings became subject to U.S. tax. The decision to reinvest such\\nearnings indefinitely had the effect of increasing earnings per share\\nby $0.43, $0.28, and $0.21 on a fully diluted basis in 1995, 1994, and\\n1993, respectively.\\n\\nDeferred tax liabilities (assets) at December 31, 1995 and 1994 are\\ncomprised of the following:\\n\\nDecember 31,\\nIn millions                                         1995         1994\\n- -----------------------------------------------------------------------\\nUnremitted earnings of foreign subsidiaries      $    226     $    182\\nDifference arising from different tax and\\n financial reporting year ends                         33           19\\nDepreciation and property, plant, and\\n equipment basis differences                           18            4\\nUnrealized currency gains                                            2\\nOther                                                  13           17\\n                                                 ----------------------\\n    Gross deferred tax liabilities                    290          224\\n                                                 ----------------------\\n\\nPost sales support and warranty accruals             (117)        (103)\\nReceivable valuation allowances                       (84)         (65)\\nStock option compensation                             (56)         (45)\\nIntercompany profit eliminations                      (29)         (40)\\nInventory valuation allowances                        (39)         (36)\\nLoss carryforwards                                    (41)         (20)\\nUnrealized currency losses                            (10)\\nDepreciation and property, plant, and\\n equipment basis differences                          (17)          (9)\\nOther                                                 (45)         (30)\\n                                                 ----------------------\\n    Gross deferred tax assets                        (438)        (348)\\n                                                 ----------------------\\nDeferred tax asset valuation allowance                  7\\n                                                 ----------------------\\n                                                 $   (141)    $   (124)\\n                                                 ======================\\n\\nNote 9 - Stockholders\\' Equity and Employee Benefit Plans:\\n\\nEquity incentive plans - At December 31, 1995, there were 55,728,062\\nshares of common stock reserved by the Board of Directors for issuance\\nunder the Company\\'s employee stock option plans. Options are generally\\ngranted at the fair market value of the common stock at the date of\\ngrant and generally vest over four to five years. In limited\\ncircumstances, options may be granted at prices less than fair market\\nvalue and may vest immediately. Options granted under the plans must\\nbe exercised not later than ten years from the date of grant. Options\\non 12,421,495 shares were exercisable at December 31, 1995.\\n\\nIn connection with the acquisitions discussed in Note 2, the Company\\nassumed certain outstanding options to purchase common stock of the\\nacquired companies and exchanged them for options to acquire 529,053\\nshares of the Company\\'s common stock at exercise prices of $6.49 to\\n$32.75 per share.\\n\\nThe following table summarizes activity under the plans for each of\\nthe three years in the period ended December 31, 1995:\\n\\n                                             Shares       Price per share\\n                                          (In thousands)\\n\\nOptions outstanding, December 31, 1992       41,910\\nOptions granted                               6,456      $ 14.88-24.63\\nOptions lapsed or cancelled                  (2,154)\\nOptions exercised                           (13,469)         .09-23.25\\n                                            -------\\nOptions outstanding, December 31, 1993       32,743\\nOptions granted                               5,567        28.66-40.13\\nOptions lapsed or cancelled                  (1,021)\\nOptions exercised                            (7,901)         .78-35.38\\n                                            -------\\nOptions outstanding, December 31, 1994       29,388\\nOptions granted                               6,469         6.49-55.63\\nOptions lapsed or cancelled                  (1,116)\\nOptions exercised                            (5,785)         .97-40.13\\n                                            -------\\nOptions outstanding, December 31, 1995       28,956\\n                                            =======\\n\\nThere were 25,583,736; 17,802,000; and 22,554,000 shares available for\\ngrants under the plans at December 31, 1995, 1994, and 1993,\\nrespectively.\\n\\nThe Company has a Stock Option Plan for Non-Employee Directors (the\\nDirector Plan). At December 31, 1995, there were 1,190,310 shares of\\ncommon stock reserved for issuance under the Director Plan. Pursuant\\nto the terms of the plan, each non-employee director is entitled to\\nreceive options to purchase common stock of the Company upon initial\\nappointment to the Board (initial grants) and upon subsequent\\nreelection to the Board (annual grants). Initial grants are\\nexercisable during the period beginning one year after initial\\nappointment to the Board and ending ten years after the date of grant.\\nAnnual grants vest over two years and are exercisable thereafter until\\nthe tenth anniversary of the date of grant. Both initial grants and\\nannual grants have an exercise price equal to the fair market value of\\nthe Company\\'s stock on the date of grant. Additionally, pursuant to\\nthe terms of the Director Plan, non-employee directors may elect to\\nreceive stock options in lieu of all or a portion of the annual\\nretainer to be earned. Such options are granted at 50% of the price of\\nthe Company\\'s common stock at the date of grant and are exercisable\\nduring the period beginning one year after the grant date and ending\\nten years after the date of grant. Options totaling 458,853 were\\nexercisable under the Director Plan at December 31, 1995. Activity\\nunder the plan for each of the three years in the period ended\\nDecember 31, 1995 was as follows:\\n\\n                                             Shares      Price per share\\n                                         (In thousands)\\n\\nOptions outstanding, December 31, 1992         477\\nOptions granted                                105        $ 8.13-16.25\\nOptions lapsed or cancelled                    (15)\\nOptions exercised                              (84)         4.23-13.35\\n                                              ----\\nOptions outstanding, December 31, 1993         483\\nOptions granted                                113         18.12-36.25\\nOptions exercised                              (93)         2.54-20.33\\n                                              ----\\nOptions outstanding, December 31, 1994         503\\nOptions granted                                126         19.50-48.38\\nOptions exercised                               (7)         2.54-18.12\\n                                              ----\\nOptions outstanding, December 31, 1995         622\\n                                              ====\\n\\nThere were 568,241; 694,000; and 807,000 shares available for grants\\nunder the plan at December 31, 1995, 1994, and 1993, respectively.\\n\\nCompaq Computer Corporation Investment Plan - The Company has an\\nInvestment Plan available to all domestic employees and intended to\\nqualify as a deferred compensation plan under Section 401(k) of the\\nInternal Revenue Code of 1986. Employees may contribute to the plan up\\nto 14% of their salary with a yearly maximum not to exceed the maximum\\nallowable by the Internal Revenue Service. The Company will match\\nemployee contributions for an amount up to 6% of each employee\\'s base\\nsalary. Contributions are invested at the direction of the employee in\\none or more funds or can be directed to purchase common stock of the\\nCompany at fair market value. Company contributions generally vest\\nover three years although Company contributions for those employees\\nhaving five years of service vest immediately. Company contributions\\nare charged to expense in accordance with their vesting. Amounts\\ncharged to expense were $22 million, $19 million, and $16 million in\\n1995, 1994, and 1993, respectively.\\n\\nIncentive compensation plan - The Company has an incentive\\ncompensation plan for the majority of its employees. Provision for\\npayments to be made under the plan is based on 6% of net income from\\noperations, as defined, and is payable semiannually. The amount\\nexpensed under the plan was $59 million, $51 million, and $27 million\\nin 1995, 1994, and 1993, respectively.\\n\\nStock split - All share and per share information has been\\nretroactively restated in the accompanying financial data to reflect\\nthe three-for-one stock split effected in the form of a stock dividend\\neffective May 31, 1994.\\n\\nNote 10 - Certain Market and Geographic Data:\\n\\nThe Company has subsidiaries in various foreign countries that\\nmanufacture and sell the Company\\'s products in their respective\\ngeographic areas. Summary information with respect to the Company\\'s\\ngeographic operations in 1995, 1994, and 1993 follows:\\n\\n                           United\\n                          States &              Other     Elimin-    Consol-\\nIn millions                Canada    Europe   countries   nations    idated\\n- ----------------------------------------------------------------------------\\n1995\\n- ----\\nSales to customers       $  7,255  $  5,370  $   2,130             $ 14,755\\nIntercompany transfers      1,632       307      1,676  $  (3,615)\\n                         ---------------------------------------------------\\n                         $  8,887  $  5,677  $   3,806  $  (3,615) $ 14,755\\n                         ===================================================\\n\\nIncome (loss) from\\n operations              $    663  $    672  $     265  $      (8) $  1,592\\n                         =========================================\\nCorporate expenses, net (1)                                            (404)\\n                                                                   ---------\\nPretax income                                                      $  1,188\\n                                                                   =========\\n\\nIdentifiable assets      $  3,697  $  1,898  $   1,487  $      (9) $  7,073\\n                         =========================================\\nGeneral corporate assets                                                745\\n                                                                   ---------\\nTotal assets                                                       $  7,818\\n                                                                   =========\\n1994\\n- ----\\nSales to customers       $  5,473  $  3,829  $   1,564             $ 10,866\\nIntercompany transfers      1,526       175      1,660  $  (3,361)\\n                         ---------------------------------------------------\\n                         $  6,999  $  4,004  $   3,224  $  (3,361) $ 10,866\\n                         ===================================================\\n\\nIncome (loss) from\\n operations              $    533  $    470  $     292  $      (1) $  1,294\\n                         =========================================\\nCorporate expenses, net                                                (122)\\n                                                                   ---------\\nPretax income                                                      $  1,172\\n                                                                   =========\\n\\nIdentifiable assets      $  2,835  $  1,591  $   1,274  $      (5) $  5,695\\n                         =========================================\\nGeneral corporate assets                                                471\\n                                                                   ---------\\nTotal assets                                                       $  6,166\\n                                                                   =========\\n1993\\n- ----\\nSales to customers       $  3,670  $  2,718  $     803             $  7,191\\nIntercompany transfers      1,514       109        990  $  (2,613)\\n                         ---------------------------------------------------\\n                         $  5,184  $  2,827  $   1,793  $  (2,613) $  7,191\\n                         ===================================================\\n\\nIncome from operations   $    310  $    183  $     245  $       5  $    743\\n                         =========================================\\nCorporate expenses, net                                                (127)\\n                                                                   ---------\\nPretax income                                                      $    616\\n                                                                   =========\\n\\nIdentifiable assets      $  1,905  $    970  $     586  $      (4) $  3,457\\n                         =========================================\\nGeneral corporate assets                                                627\\n                                                                   ---------\\nTotal assets                                                       $  4,084\\n                                                                   =========\\n\\n(1) Includes a $241 million non-recurring, non-tax deductible charge\\nfor purchased in-process technology in connection with acquisitions\\nthat occurred during 1995.\\n\\nNote 11 - Commitments, Contingencies, Financial Instruments, and\\nFactors that May Affect Future Operations:\\n\\nDerivative financial instruments and fair value of financial\\ninstruments - The Company utilizes primarily forward contracts and\\npurchased foreign currency options to reduce its exposure to\\npotentially adverse changes in foreign currency exchange rates. The\\nCompany does not hold or issue financial instruments for trading\\npurposes nor does it hold or issue interest rate or leveraged\\nderivative financial instruments. Additional discussion related to the\\nCompany\\'s programs to reduce its foreign currency exposure is\\npresented in Management\\'s Discussion and Analysis of Financial\\nCondition and Results of Operations.\\n\\nAt December 31, 1995 and 1994, the Company had purchased currency\\noptions outstanding aggregating $26 million and $208 million,\\nrespectively, to buy Japanese yen related to commitments for inventory\\npurchases and certain capital expenditures. The Company also had yen-\\ndenominated investments aggregating $72 million outstanding at\\nDecember 31, 1995 relating to these commitments. Unrealized gains,\\nlosses, and deferred costs related to option contracts associated with\\nsuch commitments at these dates were not material. Any gains or\\nlosses, if realized, or costs related to these contracts are recorded\\nas part of the cost of the inventory or capital item upon acquisition.\\nThe maturity dates of the yen-denominated investments and currency\\noption contracts which were outstanding at December 31, 1995 extended\\nfrom one month to 45 days.\\n\\nThe Company\\'s program to reduce the currency exposure associated with\\nthe net monetary assets of the Company\\'s international subsidiaries\\nincludes agreements to exchange various foreign currencies for U.S.\\ndollars. At December 31, 1995 and 1994, such agreements to sell\\nforeign currencies included forward contracts aggregating $1.4 billion\\nand $1.2 billion, respectively, and purchased currency option\\ncontracts aggregating $45 million at December 31, 1994. Unrealized and\\nrealized gains and losses resulting from these contracts are included\\nin other income and expense in the Company\\'s consolidated statement of\\nincome and generally are recognized currently, while the interest\\nelement associated with forward contracts is recognized as interest\\nexpense over the life of each contract. Unrealized gains and losses on\\nthese contracts are reflected in accounts receivable or other current\\nliabilities in the Company\\'s consolidated balance sheet and\\napproximate the fair value of such contracts at December 31, 1995 and\\n1994. The maturity dates of the forward contracts and currency option\\ncontracts which were outstanding at December 31, 1995 extended from\\ntwo days to six months.\\n\\nThe Company has utilized purchased currency option contracts to hedge\\na portion of the anticipated but not firmly committed sales of its\\ninternational marketing subsidiaries. Although no such contracts were\\noutstanding at December 31, 1994, contracts aggregating $253 million\\nwere outstanding at December 31, 1995 related to the hedge of such\\nsales for a six-month period. The unrealized gain deferred on these\\ncontracts at December 31, 1995 was $2 million. Gains and premium costs\\nassociated with such purchased currency option contracts are reflected\\nas a component of sales in the Company\\'s consolidated statement of\\nincome.\\n\\nThe Company has utilized forward contracts to protect the Company\\nagainst potentially adverse changes in foreign currency exchange rates\\non anticipated but not firmly committed sales of its international\\nmarketing subsidiaries which are expected to occur within a three-\\nmonth period. No such contracts were outstanding at December 31, 1995\\nand 1994. During 1995 and 1994 the amount of any gain or loss on these\\ncontracts was immaterial.\\n\\nIn the event of a failure to honor one of these forward contracts by\\none of the banks with which the Company had contracted, management\\nbelieves any loss would be limited to the exchange rate differential\\nfrom the time the contract was made until the time it was compensated.\\nTo the extent the Company has option contracts outstanding, the amount\\nof any loss resulting from a breach of contract would be limited to\\nthe amount of premiums paid for the options and the unrealized gain,\\nif any, related to such contracts.\\n\\nThe Company enters into various other types of financial instruments\\nin the normal course of business. Fair values for certain financial\\ninstruments are based on quoted market prices. For other financial\\ninstruments, fair values are based on the appropriate pricing models\\nusing current market information. The amounts ultimately realized upon\\nsettlement of these financial instruments will depend on actual market\\nconditions during the remaining life of the instruments. Fair values\\nof cash and cash equivalents, accounts receivable, accounts payable,\\nand other current liabilities reflected in the December 31, 1995 and\\n1994 consolidated balance sheets approximate carrying value at that\\ndate. The fair value of the Company\\'s long-term debt at December 31,\\n1995 and 1994 was estimated to be $312 million and $279 million,\\nrespectively, compared with its carrying value of $300 million.\\n\\nConcentration of credit risk - The Company\\'s cash and cash equivalents\\nand accounts receivable are subject to potential credit risk. The\\nCompany\\'s cash management and investment policies restrict investments\\nto low risk, highly-liquid securities and the Company performs\\nperiodic evaluations of the relative credit standing of the financial\\ninstitutions with which it deals.\\n\\nThe Company distributes products primarily through third-party\\nresellers and as a result maintains individually significant accounts\\nreceivable balances from various major resellers. The Company\\nevaluates the credit worthiness of its resellers on an ongoing basis\\nand may, from time to time, tighten credit terms to particular\\nresellers. Such tightening may take the form of shorter payment terms,\\nrequiring security, reduction of credit availability, or the\\ndeauthorization of a reseller. In addition, the Company uses various\\nrisk transfer instruments such as credit insurance, factoring, and\\nfloor planning with third-party finance companies and financial\\ninstitutions; however, there can be no assurance that these\\narrangements will be sufficient to avoid significant accounts\\nreceivable losses or will continue to be available. While the Company\\nbelieves that its distribution strategies will serve to minimize the\\nrisk associated with the loss of a reseller or the decline in sales to\\na reseller due to tightened credit terms, there can be no assurance\\nthat disruption to the Company\\'s sales and profitability will not\\noccur. If the financial condition and operations of these resellers\\ndeteriorate, the Company\\'s operating results could be adversely\\naffected. At December 31, 1995 the receivable balances from the\\nCompany\\'s five largest resellers represented approximately 20% of\\naccounts receivable. The Company generally has experienced longer\\naccounts receivable cycles in its emerging markets, in particular\\nChina and Latin America, when compared to its U.S. and European\\nmarkets. In the event that accounts receivable cycles in these\\ndeveloping markets lengthen further or one or more of the Company\\'s\\nlarger resellers in these regions fail, the Company could be adversely\\naffected.\\n\\nThe Company\\'s resellers typically purchase products on an as-needed\\nbasis through purchase orders. Certain of the Company\\'s resellers\\nfinance a portion of their inventories through third-party finance\\ncompanies. Under the terms of the financing arrangements, the Company\\nmay be required, in limited circumstances, to repurchase certain\\nproducts from the finance companies. Additionally, the Company has on\\noccasion guaranteed a portion of certain resellers\\' outstanding\\nbalances with third-party finance companies and financial\\ninstitutions. Guarantees under these and other arrangements\\naggregating $55 million and $28 million were outstanding at\\nDecember 31, 1995 and 1994, respectively. During the years that the\\nCompany has supported these financing programs, claims under these\\narrangements have been negligible. The Company makes provisions for\\nestimated product returns and bad debts which may occur under these\\nprograms.\\n\\nFactors that may affect future operations - The Company participates\\nin a highly volatile industry that is characterized by fierce industry-\\nwide competition for market share resulting in aggressive pricing\\npractices, continually changing customer demand patterns, growing\\ncompetition from well-capitalized high technology and consumer\\nelectronics companies, and rapid technological development. The\\nCompany\\'s operating results could be adversely affected should the\\nCompany be unable to anticipate customer demand accurately, to\\nmaintain short design cycles while meeting evolving industry\\nperformance standards, to manage its product transitions, inventory\\nlevels, and manufacturing processes efficiently, to distribute its\\nproducts quickly in response to customer demand, to differentiate its\\nproducts from those of its competitors, or to compete successfully in\\nthe markets for its new products.\\n\\nSignificant numbers of components are purchased from single sources\\ndue to technology, availability, price, quality, or other\\nconsiderations. Key components and processes currently obtained from\\nsingle sources include certain of the Company\\'s displays,\\nmicroprocessors, application specific integrated circuits and other\\ncustom chips, and certain processes relating to construction of the\\nplastic housing for the Company\\'s computers. In addition, new products\\nintroduced by the Company often initially utilize custom components\\nobtained from only one source until the Company has evaluated whether\\nthere is a need for additional suppliers. In the event that a supply\\nof a key single-sourced material, process, or component were delayed\\nor curtailed, the Company\\'s ability to ship the related product in\\ndesired quantities and in a timely manner could be adversely affected.\\nThe Company attempts to mitigate these risks by working closely with\\nkey suppliers on product plans, strategic inventories, and coordinated\\nproduct introductions.\\n\\nLitigation - The Company is subject to legal proceedings and claims\\nwhich arise in the ordinary course of its business. Management does\\nnot believe that the outcome of any of those matters will have a\\nmaterial adverse effect on the Company\\'s consolidated financial\\nposition or operating results. Additional discussion on legal\\nproceedings is presented in Part I (Item 3) of this Annual Report on\\nForm 10-K.\\n\\nLease commitments - The Company leases certain manufacturing and\\noffice facilities and equipment under noncancelable operating leases\\nwith terms from one to 30 years. Rent expense for 1995, 1994, and 1993\\nwas $75 million, $48 million, and $32 million, respectively.\\n\\nThe Company\\'s minimum rental commitments under noncancelable operating\\nleases at December 31, 1995 were as follows:\\n\\n                                 Year            Amount\\n                                             (In millions)\\n                               -------         ---------\\n                               1996            $     42\\n                               1997                  35\\n                               1998                  26\\n                               1999                  19\\n                               2000                  16\\n                               Thereafter           177\\n                                               ---------\\n                                               $    315\\n                                               =========\\n\\nNote 12 - Selected Quarterly Financial Data (not covered by report of\\nindependent accountants):\\n\\nThe table below sets forth selected financial information for each\\nquarter of the last two years.\\n\\nIn millions,                   1st           2nd           3rd           4th\\nexcept per share amounts     quarter       quarter       quarter       quarter\\n- ------------------------------------------------------------------------------\\n1995\\n\\nSales                      $  2,959      $  3,501      $  3,594      $  4,701\\nGross margin                    724           826           819         1,019\\nNet income (1)                  216           246           245            82\\nEarnings per common and\\n  common equivalent share\\n    Primary (1)                0.80          0.90          0.89          0.30\\n    Assuming full dilution (1) 0.80          0.90          0.89          0.30\\n\\n1994\\n\\nSales                      $  2,278      $  2,499      $  2,838      $  3,251\\nGross margin                    617           663           653           794\\nNet income                      213           210           201           243\\nEarnings per common and\\n  common equivalent share\\n    Primary                    0.80          0.78          0.75          0.90\\n    Assuming full dilution     0.80          0.78          0.75          0.90\\n\\n(1)  Includes a $241 million ($.87 per share) non-recurring, non-tax\\ndeductible charge for purchased in-process technology in connection\\nwith acquisitions that occurred during the fourth quarter of 1995.\\n\\nEarnings per common and common equivalent share are computed\\nindependently for each of the quarters presented and therefore may not\\nsum to the totals for the year.\\n\\n\\nPART III\\n\\nItems 10 to 13  inclusive.\\n\\n     These items have been omitted in accordance with instructions to\\nForm 10-K Annual Report.  The Registrant will file with the Commission\\nin March 1996, pursuant to Regulation 14A, a definitive proxy\\nstatement that will involve the election of directors.\\n\\nPART IV\\n\\nItem 14.  Exhibits, Financial Statement Schedules, and Reports on Form\\n          8-K.\\n\\n     (a)  The following documents are filed as a part of this report:\\n\\n     Financial Statements and Financial Statement Schedules - See\\nIndex to Consolidated Financial Statements at Item 8 of this report.\\n\\nExhibit\\n  No.     Description of Exhibits\\n\\n3.1       Restated Certificate of Incorporation of Registrant.\\n\\n3.2       Bylaws of Registrant, as amended (incorporated herein by\\n          reference to Exhibit No. 3.5 to the Registrant\\'s Form 10-Q\\n          for the quarter ended June 30, 1992).\\n\\n4.1       Senior Debt Indenture dated as of March 1, 1994, between the\\n          Registrant and NationsBank of Texas, National Association,\\n          Trustee (incorporated by reference to Exhibit 4.a to the\\n          Registrant\\'s Registration Statement No. 33-63436 on Form S-3\\n          (the \"Form S-3\")).\\n\\n4.2       Subordinated Debt Indenture dated as of March 1,\\n          1994, between the Registrant and NationsBank of Texas,\\n          National Association, Trustee (incorporated by reference\\n          to Exhibit 4.b to the Form S-3).\\n\\n4.3       Specimen of the Registrant\\'s 6 1/2% senior notes\\n          due March 1999 (incorporated by reference to the\\n          Registrant\\'s Form 8-K dated March 10, 1994 (the \"March\\n          1994 Form 8-K\")).\\n\\n4.4       Specimen of the Registrant\\'s 7 1/4% senior notes\\n          due March 15, 2004 (incorporated by reference to the\\n          March 1994 Form 8-K).\\n\\n10.1      Registrant\\'s 1982 Stock Option Plan, as amended\\n          (incorporated herein by reference to the corresponding\\n          exhibit in the Registrant\\'s Form 10-Q for the quarter\\n          ended June 30, 1989 (the \"1989 Second Quarter Form 10-Q\")). *\\n\\n10.2      Registrant\\'s 1983 Nonqualified Stock Option Plan,\\n          as amended (incorporated herein by reference to the\\n          corresponding exhibit in the Registrant\\'s Form 10-K for\\n          the year ended December 31, 1988). *\\n\\n10.3      Registrant\\'s 1985 Stock Option Plan (incorporated\\n          herein by reference to Exhibit 10.3 to the Registrant\\'s\\n          Form 10-K for the year ended December 31, 1991 (the\\n          \"1991 Form 10-K\")). *\\n\\n10.4      Registrant\\'s 1985 Executive and Key Employees Stock\\n          Option Plan, as amended (incorporated herein by\\n          reference to Exhibit 10.3 to the 1989 Second Quarter\\n          Form 10-Q). *\\n\\n10.5      Registrant\\'s 1985 Nonqualified Stock Option Plan,\\n          as amended (incorporated herein by reference to Exhibit\\n          10.4 to the 1989 Second Quarter Form 10-Q). *\\n\\n10.6      Forms of Stock Option Agreements relating to\\n          Exhibits 10.1 through 10.5 (incorporated herein by\\n          reference to Exhibit 10.6 to the Registrant\\'s Form 10-K\\n          for the year ended December 31, 1987). *\\n\\n10.7      Registrant\\'s 1989 Equity Incentive Plan, as amended\\n          (incorporated herein by reference to Exhibit 10.7 to the\\n          1991 Form 10-K). *\\n\\n10.8      Form of Stock Option Notice relating to Exhibit\\n          10.7 (incorporated herein by reference to Exhibit 10.8\\n          to the 1991 Form 10-K). *\\n\\n10.9      Registrant\\'s 1995 Equity Incentive Plan. *\\n\\n10.10     Form of Stock Option Notice relating to Exhibit 10.9. *\\n\\n10.11     Registrant\\'s Bonus Incentive Plan. *\\n\\n10.12     Registrant\\'s Stock Option Plan for Non-Employee\\n          Directors, as amended. *\\n\\n10.13     Registrant\\'s Forms of Stock Option Agreement\\n          relating to Exhibit 10.12. *\\n\\n10.14     Registrant\\'s Deferred Compensation and\\n          Supplemental Savings Plan, as amended (incorporated\\n          herein by reference to Exhibit 10.10 to the Registrant\\'s\\n          Form 10-K for the year ended December 31, 1993). *\\n\\n10.15     Employment Agreement dated as of January 1,\\n          1992 between the Registrant and Eckhard Pfeiffer\\n          (incorporated by reference to Exhibit 10.15 to the 1991\\n          Form 10-K). *\\n\\n10.16     Form of letter agreement between Registrant\\n          and its executive officers (incorporated by reference to\\n          Exhibit 10.16 to the 1991 Form 10-K). *\\n\\n10.17     $250,000,000 Credit Agreement dated as of\\n          October 31, 1995 among Compaq Computer Corporation, the\\n          banks signatory thereto, Bank of America National Trust\\n          and Savings Association as Agent, and NationsBank of\\n          Texas, N.A. and Citibank, N.A. as Co-agents\\n          (incorporated by reference to Exhibit (b)(2) to the\\n          Registrant\\'s Schedule 14D-1 relating to the acquisition\\n          of NetWorth, Inc. filed on November 9, 1995 (the \"14D-1\")).\\n\\n10.18     $1,000,000,000 Credit Agreement dated as of October\\n          31, 1995 among Compaq Computer Corporation, the banks\\n          signatory thereto, Bank of America National Trust and\\n          Savings Association as Agent, and NationsBank of Texas,\\n          N.A. and Citibank, N.A. as Co-agents (incorporated by\\n          reference to Exhibit (b)(1) to the 14D-1).\\n\\n11        Statement regarding the computation of per share\\n          earnings.\\n\\n21        Subsidiaries of Registrant.\\n\\n23        Consent of Price Waterhouse LLP, independent\\n          accountants.\\n\\n27        Financial Data Schedule (EDGAR version only).\\n\\n          * Indicates management contract or compensatory plan or\\n            arrangement.\\n\\n     (b)  Reports on Form 8-K:\\n\\n     Report on Form 8-K dated January 24, 1996, containing the\\nCompany\\'s news release dated January 24, 1996, with respect to its\\nfinancial results for the period ended December 31, 1995, including an\\nunaudited consolidated balance sheet as of December 31, 1995, and an\\nunaudited consolidated statement of income for the year ended December\\n31, 1995.\\n\\n     Report on Form 8-K dated March 1, 1996, containing the Company\\'s\\nnews release dated March 1, 1996.\\n\\n     Compaq, ProLinea, ProLiant, Deskpro, Contura, Compaq Insight\\nManager, LTE, Presario, and Smart Start Registered United States\\nPatent and Trademark Office.  DirectPlus and CompaqCare are a\\nregistered service marks of Compaq Computer Corporation.  ProSignia\\nand Intelligent Manageability are trademarks of Compaq Computer\\nCorporation.  Wonder Tools is a trademark of Compaq Computer\\nCorporation and Fisher-Price, Inc.  Other product names mentioned\\nherein may be trademarks or registered trademarks of their respective\\ncompanies.\\n\\n\\n                            SIGNATURES\\n\\n     Pursuant to the requirements of Section 13 or 15(d) of the\\nSecurities Exchange Act of 1934, the Registrant has duly caused this\\nreport to be signed on its behalf by the undersigned, thereunto duly\\nauthorized.\\n\\n                            Compaq Computer Corporation\\n\\n\\n                            By: /s/  ECKHARD PFEIFFER\\n                                -------------------------------\\n                                Eckhard Pfeiffer, President and\\n                                   Chief Executive Officer\\n                                Date:  March 4, 1996\\n\\n     Pursuant to the requirements of the Securities Exchange Act of\\n1934, this report has been signed below by the following persons on\\nbehalf of the Registrant in the capacities and on the dates indicated.\\n\\n    Signature                 Title                       Date\\n\\n                           President and Director\\n/s/ ECKHARD PFEIFFER       (principal executive officer)  March 4, 1996\\n- -------------------------\\n   (Eckhard Pfeiffer)\\n\\n                           Senior Vice President-Finance\\n                           and Chief Financial Officer\\n/s/  DARYL J. WHITE        (principal financial officer)  March 4, 1996\\n- -------------------------\\n    (Daryl J. White)\\n\\n                           Chairman of the\\n/s/BENJAMIN M. ROSEN       Board of Directors             February 29, 1996\\n- -------------------------\\n  (Benjamin M. Rosen)\\n\\n\\n/s/LAWRENCE T. BABBIO, JR. Director                       February 29, 1996\\n- -------------------------\\n(Lawrence T. Babbio, Jr.)\\n\\n\\n/s/ROBERT TED ENLOE, III   Director                       February 29, 1996\\n- -------------------------\\n(Robert Ted Enloe, III)\\n\\n\\n/s/GEORGE H. HEILMEIER     Director                       February 29, 1996\\n- -------------------------\\n (George H. Heilmeier)\\n\\n\\n/s/GEORGE E.R. KINNEAR II  Director                       February 29, 1996\\n- -------------------------\\n(George E.R. Kinnear II)\\n\\n\\n/s/ PETER N. LARSON        Director                       February 29, 1996\\n- -------------------------\\n   (Peter N. Larson)\\n\\n\\n/s/  KENNETH L. LAY        Director                       February 29, 1996\\n- -------------------------\\n    (Kenneth L. Lay)\\n\\n\\n/s/  KENNETH ROMAN         Director                       February 29, 1996\\n- -------------------------\\n    (Kenneth Roman)\\n\\n\\nPAGE S-1\\n\\n                                                       SCHEDULE VIII\\n                     COMPAQ COMPUTER CORPORATION\\n                  VALUATION AND QUALIFYING ACCOUNTS\\n                   Allowance for Doubtful Accounts\\n\\n\\nYear ended December 31,\\nIn millions                            1995        1994        1993\\n- --------------------------------------------------------------------\\nBalance, beginning of period          $  75       $  49       $  25\\nAdditions charged to expense             43          36          33\\nReductions                              (18)        (10)         (9)\\n                                      ------------------------------\\nBalance, end of period                $ 100       $  75       $  49\\n                                      ==============================\\n\\n'"
      ]
     },
     "execution_count": 14,
     "metadata": {},
     "output_type": "execute_result"
    }
   ],
   "source": [
    "test_table_chunking = chunk_by_table(texts['1996'])\n",
    "\n",
    "parse_10ks(1994, test_table_chunking[\"texts\"])"
   ]
  },
  {
   "cell_type": "code",
   "execution_count": 15,
   "metadata": {},
   "outputs": [],
   "source": [
    "# split into table/not table\n",
    "\n",
    "split_by_table = {\n",
    "    year: chunk_by_table(text)\n",
    "    for year, text in texts.items()\n",
    "} "
   ]
  },
  {
   "cell_type": "code",
   "execution_count": 16,
   "metadata": {},
   "outputs": [],
   "source": [
    "# clean the non-table bits\n",
    "\n",
    "clean_texts = {\n",
    "    year: {\"tables\": chunk_data[\"tables\"],\n",
    "           \"texts\": parse_10ks(year, chunk_data[\"texts\"])}\n",
    "    for year, chunk_data in split_by_table.items()\n",
    "}"
   ]
  },
  {
   "cell_type": "code",
   "execution_count": 17,
   "metadata": {},
   "outputs": [],
   "source": [
    "#Text Chunking\n",
    "CHAR_CHUNKS = 1500\n",
    "\n",
    "def chunk_text(text: str, chunk_size: int) -> list:\n",
    "    \"\"\"\n",
    "    Split text into chunks of a specified size.\n",
    "\n",
    "    Args:\n",
    "        text (str): The text to be split.\n",
    "        chunk_size (int): Maximum number of characters per chunk.\n",
    "\n",
    "    Returns:\n",
    "        list: A list of text chunks.\n",
    "    \"\"\"\n",
    "    return [text[i:i + chunk_size] for i in range(0, len(text), chunk_size)]\n",
    "\n",
    "# chunk the texts, ignore the tables\n",
    "\n",
    "chunked_texts = {\n",
    "    year: {\"tables\": chunk_data[\"tables\"],\n",
    "           \"texts\": chunk_text(chunk_data[\"texts\"], CHAR_CHUNKS)}\n",
    "    for year, chunk_data in clean_texts.items()\n",
    "}"
   ]
  },
  {
   "cell_type": "code",
   "execution_count": 18,
   "metadata": {},
   "outputs": [
    {
     "name": "stdout",
     "output_type": "stream",
     "text": [
      "[\"<TABLE> <S> <C>\\n\\n<PAGE>\\n<ARTICLE> 5\\n<LEGEND>\\nTHIS SCHEDULE CONTAINS SUMMARY FINANCIAL INFORMATION EXTRACTED FROM\\nCOMPAQ COMPUTER CORPORATION'S CONSOLIDATED BALANCE SHEET AND CONSOLIDATED\\nSTATEMENT OF INCOME FOR THE PERIOD ENDED DECEMBER 31, 1994 AND IS QUAILIFIED\\nIN ITS ENTIRETY BY REFERENCE TO SUCH FINANCIAL STATEMENTS.\\n</LEGEND>\\n<MULTIPLIER> 1,000,000\\n       \\n<S>                             <C>\\n<PERIOD-TYPE>                   YEAR\\n<FISCAL-YEAR-END>                          DEC-31-1994\\n<PERIOD-END>                               DEC-31-1994\\n<CASH>                                             471\\n<SECURITIES>                                         0\\n<RECEIVABLES>                                    2,362\\n<ALLOWANCES>                                        75\\n<INVENTORY>                                      2,005\\n<CURRENT-ASSETS>                                 5,158\\n<PP&E>                                           1,672\\n<DEPRECIATION>                                     728\\n<TOTAL-ASSETS>                                   6,166\\n<CURRENT-LIABILITIES>                            2,013\\n<BONDS>                                            300\\n<COMMON>                                           739\\n<PREFERRED-MANDATORY>                                0\\n<PREFERRED>                                          0\\n<OTHER-SE>                                       2,935\\n<TOTAL-LIABILITY-AND-EQUITY>                     6,166\\n<SALES>                                         10,866\\n<TOTAL-REVENUES>                                10,866\\n<CGS>                                            8,139\\n<TOTAL-COSTS>                                    8,139\\n<OTHER-EXPENSES>                                   226<F1>\\n<LOSS-PROVISION>                                    36\\n<INTEREST-EXPENSE>                                  71\\n<INCOME-PRETAX>                                  1,172\\n<INCOME-TAX>                                       305\\n<INCOME-CONTINUING>                                867\\n<DISCONTINUED>                                       0\\n<EXTRAORDINARY>                                      0\\n<CHANGES>                                            0\\n<NET-INCOME>                                       867\\n<EPS-PRIMARY>                                     3.23\\n<EPS-DILUTED>                                     3.21\\n<FN>\\n<F1> Includes research and development costs.\\n</FN>\\n        \\n\\n</TABLE>\"]\n"
     ]
    }
   ],
   "source": [
    "print(chunked_texts['1995']['tables'])"
   ]
  },
  {
   "cell_type": "code",
   "execution_count": 19,
   "metadata": {},
   "outputs": [],
   "source": [
    "## Transforming the data into records\n",
    "\n",
    "# reformat into records, make the ids for each chunk relate to the documentyear\n",
    "\n",
    "base_string = \"compaq\"\n",
    "# then, we add the document year and the chunk number to the base_string to create unique id\n",
    "\n",
    "all_text_records = []\n",
    "all_table_records = []\n",
    "\n",
    "for year, chunks in chunked_texts.items():\n",
    "    text_records = [\n",
    "        {\n",
    "            \"chunk_text\": chunk,\n",
    "            \"_id\": f\"{base_string}_{year}#text{num}\",\n",
    "            \"filed_year\": int(year),\n",
    "            \"chunk_type\": \"text\"\n",
    "        }\n",
    "        for num, chunk in enumerate(chunks[\"texts\"])\n",
    "    ]\n",
    "    table_records = [\n",
    "        {\n",
    "            \"chunk_text\": chunk,\n",
    "            \"_id\": f\"{base_string}_{year}#table{num}\",\n",
    "            \"filed_year\": int(year),\n",
    "            \"chunk_type\": \"table\"\n",
    "        }\n",
    "        for num, chunk in enumerate(chunks[\"tables\"])\n",
    "    ]\n",
    "    all_text_records.extend(text_records)\n",
    "    all_table_records.extend(table_records)"
   ]
  },
  {
   "cell_type": "markdown",
   "metadata": {},
   "source": [
    "### Step 3: Upsert the vector embeddings into the Pinecone Index\n"
   ]
  },
  {
   "cell_type": "code",
   "execution_count": 20,
   "metadata": {},
   "outputs": [],
   "source": [
    "def text_embeddings(docs: list) -> list[float]:\n",
    "    \"\"\"\n",
    "    Generate text embedding by using Amazon Bedrock and the amazon.titan-embed-text-v2:0.\n",
    "    Args:\n",
    "        docs: list of strings of text to embed.\n",
    "    Returns:\n",
    "        dict: embeddings in float type.\n",
    "    \"\"\"\n",
    "\n",
    "    embeddings = []\n",
    "    for doc in docs:\n",
    "        body = json.dumps({\"inputText\": doc})\n",
    "\n",
    "        response = bedrock.invoke_model(\n",
    "            body=body,\n",
    "            modelId=embedding_model_id,\n",
    "        )\n",
    "\n",
    "        response_body = json.loads(response.get('body').read())\n",
    "        embedding = response_body.get('embedding')\n",
    "        embeddings.append(embedding)\n",
    "\n",
    "    return embeddings"
   ]
  },
  {
   "cell_type": "code",
   "execution_count": 21,
   "metadata": {},
   "outputs": [
    {
     "name": "stderr",
     "output_type": "stream",
     "text": [
      "  0%|          | 0/10 [00:00<?, ?it/s]"
     ]
    },
    {
     "name": "stderr",
     "output_type": "stream",
     "text": [
      "100%|██████████| 10/10 [00:04<00:00,  2.08it/s]\n"
     ]
    }
   ],
   "source": [
    "# Embed in upsert into Pinecone 96 chunks at a time\n",
    "\n",
    "def upsert_in_batches(records, batch_size=96):\n",
    "    for i in tqdm(range(0, len(records), batch_size)):\n",
    "        batch = records[i:i+batch_size]\n",
    "        # Extract the record IDs for this batch\n",
    "        record_ids = [record[\"_id\"] for record in batch]\n",
    "\n",
    "        # Fetch existing records from the index for these IDs.\n",
    "        # (Assumes that the returned dict contains a \"vectors\" key with the current records.)\n",
    "        existing = index.fetch(ids=record_ids, namespace=namespace)\n",
    "        existing_ids = set(existing.vectors.keys())\n",
    "\n",
    "        # Filter out records that already exist.\n",
    "        records_to_upsert = [record for record in batch if record[\"_id\"] not in existing_ids]\n",
    "\n",
    "        if records_to_upsert:\n",
    "            # Prepare batch of texts for embedding\n",
    "            texts = [record[\"chunk_text\"] for record in records_to_upsert]\n",
    "            # Batch embedding\n",
    "            embeds_list = text_embeddings(docs=texts)\n",
    "            vectors = []\n",
    "            for record, embeds in zip(records_to_upsert, embeds_list):\n",
    "                vectors.append({\n",
    "                    \"id\": record[\"_id\"],\n",
    "                    \"values\": embeds,\n",
    "                    \"metadata\": {\n",
    "                        \"filed_year\": record[\"filed_year\"],\n",
    "                        \"chunk_type\": record[\"chunk_type\"],\n",
    "                        \"chunk_text\": record[\"chunk_text\"]\n",
    "                    }\n",
    "                })\n",
    "            if vectors:\n",
    "                index.upsert(vectors=vectors, namespace=namespace)\n",
    "                time.sleep(0.5)\n",
    "\n",
    "\n",
    "upsert_in_batches(all_text_records)"
   ]
  },
  {
   "cell_type": "code",
   "execution_count": 22,
   "metadata": {},
   "outputs": [
    {
     "name": "stdout",
     "output_type": "stream",
     "text": [
      "{'dimension': 1024,\n",
      " 'index_fullness': 0.0,\n",
      " 'metric': 'cosine',\n",
      " 'namespaces': {'agentic-rag': {'vector_count': 880}},\n",
      " 'total_vector_count': 880,\n",
      " 'vector_type': 'dense'}\n"
     ]
    }
   ],
   "source": [
    "# view index stats\n",
    "print(index.describe_index_stats())"
   ]
  }
 ],
 "metadata": {
  "availableInstances": [
   {
    "_defaultOrder": 0,
    "_isFastLaunch": true,
    "category": "General purpose",
    "gpuNum": 0,
    "hideHardwareSpecs": false,
    "memoryGiB": 4,
    "name": "ml.t3.medium",
    "vcpuNum": 2
   },
   {
    "_defaultOrder": 1,
    "_isFastLaunch": false,
    "category": "General purpose",
    "gpuNum": 0,
    "hideHardwareSpecs": false,
    "memoryGiB": 8,
    "name": "ml.t3.large",
    "vcpuNum": 2
   },
   {
    "_defaultOrder": 2,
    "_isFastLaunch": false,
    "category": "General purpose",
    "gpuNum": 0,
    "hideHardwareSpecs": false,
    "memoryGiB": 16,
    "name": "ml.t3.xlarge",
    "vcpuNum": 4
   },
   {
    "_defaultOrder": 3,
    "_isFastLaunch": false,
    "category": "General purpose",
    "gpuNum": 0,
    "hideHardwareSpecs": false,
    "memoryGiB": 32,
    "name": "ml.t3.2xlarge",
    "vcpuNum": 8
   },
   {
    "_defaultOrder": 4,
    "_isFastLaunch": true,
    "category": "General purpose",
    "gpuNum": 0,
    "hideHardwareSpecs": false,
    "memoryGiB": 8,
    "name": "ml.m5.large",
    "vcpuNum": 2
   },
   {
    "_defaultOrder": 5,
    "_isFastLaunch": false,
    "category": "General purpose",
    "gpuNum": 0,
    "hideHardwareSpecs": false,
    "memoryGiB": 16,
    "name": "ml.m5.xlarge",
    "vcpuNum": 4
   },
   {
    "_defaultOrder": 6,
    "_isFastLaunch": false,
    "category": "General purpose",
    "gpuNum": 0,
    "hideHardwareSpecs": false,
    "memoryGiB": 32,
    "name": "ml.m5.2xlarge",
    "vcpuNum": 8
   },
   {
    "_defaultOrder": 7,
    "_isFastLaunch": false,
    "category": "General purpose",
    "gpuNum": 0,
    "hideHardwareSpecs": false,
    "memoryGiB": 64,
    "name": "ml.m5.4xlarge",
    "vcpuNum": 16
   },
   {
    "_defaultOrder": 8,
    "_isFastLaunch": false,
    "category": "General purpose",
    "gpuNum": 0,
    "hideHardwareSpecs": false,
    "memoryGiB": 128,
    "name": "ml.m5.8xlarge",
    "vcpuNum": 32
   },
   {
    "_defaultOrder": 9,
    "_isFastLaunch": false,
    "category": "General purpose",
    "gpuNum": 0,
    "hideHardwareSpecs": false,
    "memoryGiB": 192,
    "name": "ml.m5.12xlarge",
    "vcpuNum": 48
   },
   {
    "_defaultOrder": 10,
    "_isFastLaunch": false,
    "category": "General purpose",
    "gpuNum": 0,
    "hideHardwareSpecs": false,
    "memoryGiB": 256,
    "name": "ml.m5.16xlarge",
    "vcpuNum": 64
   },
   {
    "_defaultOrder": 11,
    "_isFastLaunch": false,
    "category": "General purpose",
    "gpuNum": 0,
    "hideHardwareSpecs": false,
    "memoryGiB": 384,
    "name": "ml.m5.24xlarge",
    "vcpuNum": 96
   },
   {
    "_defaultOrder": 12,
    "_isFastLaunch": false,
    "category": "General purpose",
    "gpuNum": 0,
    "hideHardwareSpecs": false,
    "memoryGiB": 8,
    "name": "ml.m5d.large",
    "vcpuNum": 2
   },
   {
    "_defaultOrder": 13,
    "_isFastLaunch": false,
    "category": "General purpose",
    "gpuNum": 0,
    "hideHardwareSpecs": false,
    "memoryGiB": 16,
    "name": "ml.m5d.xlarge",
    "vcpuNum": 4
   },
   {
    "_defaultOrder": 14,
    "_isFastLaunch": false,
    "category": "General purpose",
    "gpuNum": 0,
    "hideHardwareSpecs": false,
    "memoryGiB": 32,
    "name": "ml.m5d.2xlarge",
    "vcpuNum": 8
   },
   {
    "_defaultOrder": 15,
    "_isFastLaunch": false,
    "category": "General purpose",
    "gpuNum": 0,
    "hideHardwareSpecs": false,
    "memoryGiB": 64,
    "name": "ml.m5d.4xlarge",
    "vcpuNum": 16
   },
   {
    "_defaultOrder": 16,
    "_isFastLaunch": false,
    "category": "General purpose",
    "gpuNum": 0,
    "hideHardwareSpecs": false,
    "memoryGiB": 128,
    "name": "ml.m5d.8xlarge",
    "vcpuNum": 32
   },
   {
    "_defaultOrder": 17,
    "_isFastLaunch": false,
    "category": "General purpose",
    "gpuNum": 0,
    "hideHardwareSpecs": false,
    "memoryGiB": 192,
    "name": "ml.m5d.12xlarge",
    "vcpuNum": 48
   },
   {
    "_defaultOrder": 18,
    "_isFastLaunch": false,
    "category": "General purpose",
    "gpuNum": 0,
    "hideHardwareSpecs": false,
    "memoryGiB": 256,
    "name": "ml.m5d.16xlarge",
    "vcpuNum": 64
   },
   {
    "_defaultOrder": 19,
    "_isFastLaunch": false,
    "category": "General purpose",
    "gpuNum": 0,
    "hideHardwareSpecs": false,
    "memoryGiB": 384,
    "name": "ml.m5d.24xlarge",
    "vcpuNum": 96
   },
   {
    "_defaultOrder": 20,
    "_isFastLaunch": false,
    "category": "General purpose",
    "gpuNum": 0,
    "hideHardwareSpecs": true,
    "memoryGiB": 0,
    "name": "ml.geospatial.interactive",
    "supportedImageNames": [
     "sagemaker-geospatial-v1-0"
    ],
    "vcpuNum": 0
   },
   {
    "_defaultOrder": 21,
    "_isFastLaunch": true,
    "category": "Compute optimized",
    "gpuNum": 0,
    "hideHardwareSpecs": false,
    "memoryGiB": 4,
    "name": "ml.c5.large",
    "vcpuNum": 2
   },
   {
    "_defaultOrder": 22,
    "_isFastLaunch": false,
    "category": "Compute optimized",
    "gpuNum": 0,
    "hideHardwareSpecs": false,
    "memoryGiB": 8,
    "name": "ml.c5.xlarge",
    "vcpuNum": 4
   },
   {
    "_defaultOrder": 23,
    "_isFastLaunch": false,
    "category": "Compute optimized",
    "gpuNum": 0,
    "hideHardwareSpecs": false,
    "memoryGiB": 16,
    "name": "ml.c5.2xlarge",
    "vcpuNum": 8
   },
   {
    "_defaultOrder": 24,
    "_isFastLaunch": false,
    "category": "Compute optimized",
    "gpuNum": 0,
    "hideHardwareSpecs": false,
    "memoryGiB": 32,
    "name": "ml.c5.4xlarge",
    "vcpuNum": 16
   },
   {
    "_defaultOrder": 25,
    "_isFastLaunch": false,
    "category": "Compute optimized",
    "gpuNum": 0,
    "hideHardwareSpecs": false,
    "memoryGiB": 72,
    "name": "ml.c5.9xlarge",
    "vcpuNum": 36
   },
   {
    "_defaultOrder": 26,
    "_isFastLaunch": false,
    "category": "Compute optimized",
    "gpuNum": 0,
    "hideHardwareSpecs": false,
    "memoryGiB": 96,
    "name": "ml.c5.12xlarge",
    "vcpuNum": 48
   },
   {
    "_defaultOrder": 27,
    "_isFastLaunch": false,
    "category": "Compute optimized",
    "gpuNum": 0,
    "hideHardwareSpecs": false,
    "memoryGiB": 144,
    "name": "ml.c5.18xlarge",
    "vcpuNum": 72
   },
   {
    "_defaultOrder": 28,
    "_isFastLaunch": false,
    "category": "Compute optimized",
    "gpuNum": 0,
    "hideHardwareSpecs": false,
    "memoryGiB": 192,
    "name": "ml.c5.24xlarge",
    "vcpuNum": 96
   },
   {
    "_defaultOrder": 29,
    "_isFastLaunch": true,
    "category": "Accelerated computing",
    "gpuNum": 1,
    "hideHardwareSpecs": false,
    "memoryGiB": 16,
    "name": "ml.g4dn.xlarge",
    "vcpuNum": 4
   },
   {
    "_defaultOrder": 30,
    "_isFastLaunch": false,
    "category": "Accelerated computing",
    "gpuNum": 1,
    "hideHardwareSpecs": false,
    "memoryGiB": 32,
    "name": "ml.g4dn.2xlarge",
    "vcpuNum": 8
   },
   {
    "_defaultOrder": 31,
    "_isFastLaunch": false,
    "category": "Accelerated computing",
    "gpuNum": 1,
    "hideHardwareSpecs": false,
    "memoryGiB": 64,
    "name": "ml.g4dn.4xlarge",
    "vcpuNum": 16
   },
   {
    "_defaultOrder": 32,
    "_isFastLaunch": false,
    "category": "Accelerated computing",
    "gpuNum": 1,
    "hideHardwareSpecs": false,
    "memoryGiB": 128,
    "name": "ml.g4dn.8xlarge",
    "vcpuNum": 32
   },
   {
    "_defaultOrder": 33,
    "_isFastLaunch": false,
    "category": "Accelerated computing",
    "gpuNum": 4,
    "hideHardwareSpecs": false,
    "memoryGiB": 192,
    "name": "ml.g4dn.12xlarge",
    "vcpuNum": 48
   },
   {
    "_defaultOrder": 34,
    "_isFastLaunch": false,
    "category": "Accelerated computing",
    "gpuNum": 1,
    "hideHardwareSpecs": false,
    "memoryGiB": 256,
    "name": "ml.g4dn.16xlarge",
    "vcpuNum": 64
   },
   {
    "_defaultOrder": 35,
    "_isFastLaunch": false,
    "category": "Accelerated computing",
    "gpuNum": 1,
    "hideHardwareSpecs": false,
    "memoryGiB": 61,
    "name": "ml.p3.2xlarge",
    "vcpuNum": 8
   },
   {
    "_defaultOrder": 36,
    "_isFastLaunch": false,
    "category": "Accelerated computing",
    "gpuNum": 4,
    "hideHardwareSpecs": false,
    "memoryGiB": 244,
    "name": "ml.p3.8xlarge",
    "vcpuNum": 32
   },
   {
    "_defaultOrder": 37,
    "_isFastLaunch": false,
    "category": "Accelerated computing",
    "gpuNum": 8,
    "hideHardwareSpecs": false,
    "memoryGiB": 488,
    "name": "ml.p3.16xlarge",
    "vcpuNum": 64
   },
   {
    "_defaultOrder": 38,
    "_isFastLaunch": false,
    "category": "Accelerated computing",
    "gpuNum": 8,
    "hideHardwareSpecs": false,
    "memoryGiB": 768,
    "name": "ml.p3dn.24xlarge",
    "vcpuNum": 96
   },
   {
    "_defaultOrder": 39,
    "_isFastLaunch": false,
    "category": "Memory Optimized",
    "gpuNum": 0,
    "hideHardwareSpecs": false,
    "memoryGiB": 16,
    "name": "ml.r5.large",
    "vcpuNum": 2
   },
   {
    "_defaultOrder": 40,
    "_isFastLaunch": false,
    "category": "Memory Optimized",
    "gpuNum": 0,
    "hideHardwareSpecs": false,
    "memoryGiB": 32,
    "name": "ml.r5.xlarge",
    "vcpuNum": 4
   },
   {
    "_defaultOrder": 41,
    "_isFastLaunch": false,
    "category": "Memory Optimized",
    "gpuNum": 0,
    "hideHardwareSpecs": false,
    "memoryGiB": 64,
    "name": "ml.r5.2xlarge",
    "vcpuNum": 8
   },
   {
    "_defaultOrder": 42,
    "_isFastLaunch": false,
    "category": "Memory Optimized",
    "gpuNum": 0,
    "hideHardwareSpecs": false,
    "memoryGiB": 128,
    "name": "ml.r5.4xlarge",
    "vcpuNum": 16
   },
   {
    "_defaultOrder": 43,
    "_isFastLaunch": false,
    "category": "Memory Optimized",
    "gpuNum": 0,
    "hideHardwareSpecs": false,
    "memoryGiB": 256,
    "name": "ml.r5.8xlarge",
    "vcpuNum": 32
   },
   {
    "_defaultOrder": 44,
    "_isFastLaunch": false,
    "category": "Memory Optimized",
    "gpuNum": 0,
    "hideHardwareSpecs": false,
    "memoryGiB": 384,
    "name": "ml.r5.12xlarge",
    "vcpuNum": 48
   },
   {
    "_defaultOrder": 45,
    "_isFastLaunch": false,
    "category": "Memory Optimized",
    "gpuNum": 0,
    "hideHardwareSpecs": false,
    "memoryGiB": 512,
    "name": "ml.r5.16xlarge",
    "vcpuNum": 64
   },
   {
    "_defaultOrder": 46,
    "_isFastLaunch": false,
    "category": "Memory Optimized",
    "gpuNum": 0,
    "hideHardwareSpecs": false,
    "memoryGiB": 768,
    "name": "ml.r5.24xlarge",
    "vcpuNum": 96
   },
   {
    "_defaultOrder": 47,
    "_isFastLaunch": false,
    "category": "Accelerated computing",
    "gpuNum": 1,
    "hideHardwareSpecs": false,
    "memoryGiB": 16,
    "name": "ml.g5.xlarge",
    "vcpuNum": 4
   },
   {
    "_defaultOrder": 48,
    "_isFastLaunch": false,
    "category": "Accelerated computing",
    "gpuNum": 1,
    "hideHardwareSpecs": false,
    "memoryGiB": 32,
    "name": "ml.g5.2xlarge",
    "vcpuNum": 8
   },
   {
    "_defaultOrder": 49,
    "_isFastLaunch": false,
    "category": "Accelerated computing",
    "gpuNum": 1,
    "hideHardwareSpecs": false,
    "memoryGiB": 64,
    "name": "ml.g5.4xlarge",
    "vcpuNum": 16
   },
   {
    "_defaultOrder": 50,
    "_isFastLaunch": false,
    "category": "Accelerated computing",
    "gpuNum": 1,
    "hideHardwareSpecs": false,
    "memoryGiB": 128,
    "name": "ml.g5.8xlarge",
    "vcpuNum": 32
   },
   {
    "_defaultOrder": 51,
    "_isFastLaunch": false,
    "category": "Accelerated computing",
    "gpuNum": 1,
    "hideHardwareSpecs": false,
    "memoryGiB": 256,
    "name": "ml.g5.16xlarge",
    "vcpuNum": 64
   },
   {
    "_defaultOrder": 52,
    "_isFastLaunch": false,
    "category": "Accelerated computing",
    "gpuNum": 4,
    "hideHardwareSpecs": false,
    "memoryGiB": 192,
    "name": "ml.g5.12xlarge",
    "vcpuNum": 48
   },
   {
    "_defaultOrder": 53,
    "_isFastLaunch": false,
    "category": "Accelerated computing",
    "gpuNum": 4,
    "hideHardwareSpecs": false,
    "memoryGiB": 384,
    "name": "ml.g5.24xlarge",
    "vcpuNum": 96
   },
   {
    "_defaultOrder": 54,
    "_isFastLaunch": false,
    "category": "Accelerated computing",
    "gpuNum": 8,
    "hideHardwareSpecs": false,
    "memoryGiB": 768,
    "name": "ml.g5.48xlarge",
    "vcpuNum": 192
   },
   {
    "_defaultOrder": 55,
    "_isFastLaunch": false,
    "category": "Accelerated computing",
    "gpuNum": 8,
    "hideHardwareSpecs": false,
    "memoryGiB": 1152,
    "name": "ml.p4d.24xlarge",
    "vcpuNum": 96
   },
   {
    "_defaultOrder": 56,
    "_isFastLaunch": false,
    "category": "Accelerated computing",
    "gpuNum": 8,
    "hideHardwareSpecs": false,
    "memoryGiB": 1152,
    "name": "ml.p4de.24xlarge",
    "vcpuNum": 96
   }
  ],
  "instance_type": "ml.t3.medium",
  "kernelspec": {
   "display_name": ".venv",
   "language": "python",
   "name": "python3"
  },
  "language_info": {
   "codemirror_mode": {
    "name": "ipython",
    "version": 3
   },
   "file_extension": ".py",
   "mimetype": "text/x-python",
   "name": "python",
   "nbconvert_exporter": "python",
   "pygments_lexer": "ipython3",
   "version": "3.12.9"
  }
 },
 "nbformat": 4,
 "nbformat_minor": 4
}
